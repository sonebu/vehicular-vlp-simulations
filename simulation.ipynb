{
 "cells": [
  {
   "cell_type": "code",
   "execution_count": 1,
   "id": "cbd34c18",
   "metadata": {},
   "outputs": [],
   "source": [
    "import numpy             as np\n",
    "import matplotlib.pyplot as plt\n",
    "import time\n",
    "\n",
    "from tqdm            import tqdm\n",
    "from scipy           import signal\n",
    "from scipy.signal    import sosfiltfilt as sff\n",
    "\n",
    "from propagation import received_power, quad_distribute_power, propagation_delay, \\\n",
    "                        generate_aoa2_rx_signals, generate_rtof_rx_signals, \\\n",
    "                        map_rx_config, map_tx_config\n",
    "\n",
    "from parameter_measurement import aoa_measurement, rtof_d_measure\n",
    "\n",
    "from position_estimation import aoa2_positioning, rtof_bechadergue_positioning"
   ]
  },
  {
   "cell_type": "markdown",
   "id": "5d9d721a",
   "metadata": {},
   "source": [
    "# Get configuration"
   ]
  },
  {
   "cell_type": "markdown",
   "id": "ca170bc1",
   "metadata": {},
   "source": [
    "**weather and sunlight conditions**\n",
    "\n",
    "weather-dependent signal attenuation values for laser-based FSO channels are provided in the following paper:\n",
    "\n",
    "    Grabner, M., & Kvicera, V. (2013). \"Multiple scattering in rain and fog on free-space optical links.\" Journal of lightwave technology, 32(3), 513-520.\n",
    " \n",
    "we've modified these (considering worst-case approximations) for a vlc channel. Also, sunlight noise values are provided here:\n",
    "\n",
    "    Moreira, A. J., Valadas, R. T., & de Oliveira Duarte, A. M. (1997). \"Optical interference produced by artificial light.\" Wireless Networks, 3(2), 131-140."
   ]
  },
  {
   "cell_type": "code",
   "execution_count": 2,
   "id": "a9baf5a1",
   "metadata": {},
   "outputs": [],
   "source": [
    "weather     = 'fog' \n",
    "temperature = 298 # Kelvin\n",
    "daynight    = 'day_directsun'\n",
    "\n",
    "\n",
    "daynight_noise_factors = dict()\n",
    "daynight_noise_factors['day_directsun']   = 1.000 # 5100 uA\n",
    "daynight_noise_factors['day_indirectsun'] = 0.145 # 740 uA\n",
    "daynight_noise_factors['night']           = 0.010 # very small\n",
    "\n",
    "# minmax bounds to be safe if you set the noise factor yourself\n",
    "bg_current = (np.minimum(1, np.maximum(0, daynight_noise_factors[daynight]))*5100)*1e-6;\n",
    "\n",
    "weather_attenuation_factors = dict()\n",
    "weather_attenuation_factors['clear'] = 0.0\n",
    "weather_attenuation_factors['rain']  = -0.05\n",
    "weather_attenuation_factors['fog']   = -0.2\n",
    "\n",
    "atten = weather_attenuation_factors[weather];"
   ]
  },
  {
   "cell_type": "markdown",
   "id": "9a40d647",
   "metadata": {},
   "source": [
    "**trajectory**"
   ]
  },
  {
   "cell_type": "code",
   "execution_count": 3,
   "id": "74202979",
   "metadata": {},
   "outputs": [],
   "source": [
    "a = np.load('trajectories/generated_lanechange.npz')\n",
    "\n",
    "trajectory_partial_numsamples = 1000"
   ]
  },
  {
   "cell_type": "code",
   "execution_count": 4,
   "id": "f8e82a26",
   "metadata": {},
   "outputs": [
    {
     "name": "stdout",
     "output_type": "stream",
     "text": [
      "vehicle width, check:  1.6\n"
     ]
    }
   ],
   "source": [
    "L = 1.6 # vehicle width in meters, check below\n",
    "print(\"vehicle width, check: \", np.sqrt((a['x_RR']-a['x_RL'])**2+(a['y_RR']-a['y_RL'])**2)[0])\n",
    "\n",
    "xRL_to_rxL = a['x_RL'][0:trajectory_partial_numsamples]; yRL_to_rxL = a['y_RL'][0:trajectory_partial_numsamples]; \n",
    "xRR_to_rxL = a['x_RR'][0:trajectory_partial_numsamples]; yRR_to_rxL = a['y_RR'][0:trajectory_partial_numsamples]\n",
    "yRL_to_rxR = a['y_RL'][0:trajectory_partial_numsamples]; yRR_to_rxR = a['y_RR'][0:trajectory_partial_numsamples]; \n",
    "hdg  = a['hdg'][0:trajectory_partial_numsamples];\n",
    "xRL_to_rxR = a['x_RL'][0:trajectory_partial_numsamples] - L;\n",
    "xRR_to_rxR = a['x_RR'][0:trajectory_partial_numsamples] - L;"
   ]
  },
  {
   "cell_type": "code",
   "execution_count": 5,
   "id": "c62538f6",
   "metadata": {},
   "outputs": [
    {
     "name": "stdout",
     "output_type": "stream",
     "text": [
      "Simulation length: 1.0 seconds\n"
     ]
    }
   ],
   "source": [
    "f_vehicle = 1e3;         # [Hz], trajectory simulation clock rate, fixed by trajectory generation\n",
    "t_vehicle = 1/f_vehicle; # [s] , trajectory simulation clock period, fixed by trajectory generation\n",
    "\n",
    "stop_time = xRL_to_rxL.shape[0]*t_vehicle\n",
    "print(\"Simulation length:\", stop_time, \"seconds\")"
   ]
  },
  {
   "cell_type": "markdown",
   "id": "4ce2bd91",
   "metadata": {},
   "source": [
    "**optics**"
   ]
  },
  {
   "cell_type": "code",
   "execution_count": 6,
   "id": "02302b1d",
   "metadata": {},
   "outputs": [],
   "source": [
    "a = np.load('optics/qrx_planoconvex.npz');\n",
    "f_QRX, pd_snst, pd_gain, pd_dim, rx_P_rx_factor, rx_I_bg_factor, rx_thermal_factor1, rx_thermal_factor2 = map_rx_config(a);"
   ]
  },
  {
   "cell_type": "code",
   "execution_count": 7,
   "id": "88e4ed32",
   "metadata": {},
   "outputs": [],
   "source": [
    "a = np.load('optics/tx_lambertian_20deg_2W.npz')\n",
    "tx_ha, tx_pwr, tx_norm, tx_lambertian_order = map_tx_config(a);"
   ]
  },
  {
   "cell_type": "markdown",
   "id": "0085ecea",
   "metadata": {},
   "source": [
    "# Simulate propagation"
   ]
  },
  {
   "cell_type": "markdown",
   "id": "249ccdc8",
   "metadata": {},
   "source": [
    "**channel gain**\n",
    "\n",
    "get received optical power (whole detector) in Watts"
   ]
  },
  {
   "cell_type": "code",
   "execution_count": 8,
   "id": "ae4ca91f",
   "metadata": {},
   "outputs": [],
   "source": [
    "pwr_txL_to_rxL = received_power(xRL_to_rxL, yRL_to_rxL, 0, pd_dim/1000, tx_pwr, tx_norm, tx_lambertian_order, atten)\n",
    "pwr_txL_to_rxR = received_power(xRL_to_rxR, yRL_to_rxR, 0, pd_dim/1000, tx_pwr, tx_norm, tx_lambertian_order, atten)\n",
    "pwr_txR_to_rxL = received_power(xRR_to_rxL, yRR_to_rxL, 0, pd_dim/1000, tx_pwr, tx_norm, tx_lambertian_order, atten)\n",
    "pwr_txR_to_rxR = received_power(xRR_to_rxR, yRR_to_rxR, 0, pd_dim/1000, tx_pwr, tx_norm, tx_lambertian_order, atten)"
   ]
  },
  {
   "cell_type": "markdown",
   "id": "dabb6bbb",
   "metadata": {},
   "source": [
    "share that among the 4 quadrants"
   ]
  },
  {
   "cell_type": "code",
   "execution_count": 9,
   "id": "6b6b3088",
   "metadata": {},
   "outputs": [],
   "source": [
    "shared_pwr_txL_to_rxL = quad_distribute_power(xRL_to_rxL, yRL_to_rxL, 0, f_QRX, pwr_txL_to_rxL)\n",
    "shared_pwr_txL_to_rxR = quad_distribute_power(xRL_to_rxR, yRL_to_rxR, 0, f_QRX, pwr_txL_to_rxR)\n",
    "shared_pwr_txR_to_rxL = quad_distribute_power(xRR_to_rxL, yRR_to_rxL, 0, f_QRX, pwr_txR_to_rxL)\n",
    "shared_pwr_txR_to_rxR = quad_distribute_power(xRR_to_rxR, yRR_to_rxR, 0, f_QRX, pwr_txR_to_rxR)"
   ]
  },
  {
   "cell_type": "markdown",
   "id": "a9821c6e",
   "metadata": {},
   "source": [
    "**propagation delay**\n",
    "\n",
    "speed_of_light defined inside"
   ]
  },
  {
   "cell_type": "code",
   "execution_count": 10,
   "id": "c5d09c79",
   "metadata": {},
   "outputs": [],
   "source": [
    "delay_txL_to_rxL = propagation_delay(xRL_to_rxL, yRL_to_rxL, 0)\n",
    "delay_txL_to_rxR = propagation_delay(xRL_to_rxR, yRL_to_rxR, 0)\n",
    "delay_txR_to_rxL = propagation_delay(xRR_to_rxL, yRR_to_rxL, 0)\n",
    "delay_txR_to_rxR = propagation_delay(xRR_to_rxR, yRR_to_rxR, 0)"
   ]
  },
  {
   "cell_type": "markdown",
   "id": "941d7f9e",
   "metadata": {},
   "source": [
    "# Localization\n",
    "\n",
    "all localization methods have a certain update rate. We generate the received signals for each update period one by one (w.r.t. the propagation simulation results), add noise, and then apply the methods.\n",
    "\n",
    "normally we could just generate the whole received signal array at once, but since we're working with time-based methods our sampling rate is on the order of GHz, which results in huge arrays (e.g., 10 GHz sampling, just the time array for a 1 second simulation scenario takes ~40 GB).  \n",
    "\n",
    "we'll evaluate all methods at 100 Hz"
   ]
  },
  {
   "cell_type": "code",
   "execution_count": 11,
   "id": "a33568c7",
   "metadata": {},
   "outputs": [
    {
     "name": "stdout",
     "output_type": "stream",
     "text": [
      "localization rate: 100.0 Hz\n",
      "so each localization period considers 10 trajectory samples\n",
      "and there are a total of 100 steps\n"
     ]
    }
   ],
   "source": [
    "localization_decimation_rate = 10\n",
    "localization_rate = 1/(t_vehicle*localization_decimation_rate)\n",
    "localization_num_steps = int(trajectory_partial_numsamples/localization_decimation_rate)\n",
    "print(\"localization rate:\", localization_rate, \"Hz\")\n",
    "print(\"so each localization period considers\", localization_decimation_rate, \"trajectory samples\")\n",
    "print(\"and there are a total of\", localization_num_steps, \"steps\")"
   ]
  },
  {
   "cell_type": "markdown",
   "id": "a2522052",
   "metadata": {},
   "source": [
    "one catch here: our implementation of the rtof algorithm goes bananas when it doeesn't see the gate pulse rising edge at the beginning, so we shift all transmitted signals by $\\frac{\\pi}{32}$ (arbitrary) and generate signals for 11 trajectory samples instead of 10 (no link to $\\frac{\\pi}{32}$, just a safe margin). **BUT** the estimation is made for the first 10 samples. So it's not a rolling buffer, we generate signals for each localization step, which regards 10 trajectory steps. "
   ]
  },
  {
   "cell_type": "markdown",
   "id": "9d4269f4",
   "metadata": {},
   "source": [
    "simulation preliminaries - time"
   ]
  },
  {
   "cell_type": "code",
   "execution_count": 12,
   "id": "58d2e92a",
   "metadata": {
    "scrolled": true
   },
   "outputs": [
    {
     "name": "stdout",
     "output_type": "stream",
     "text": [
      "Simulation stop time: 0.011\n",
      "Simulation length   : 109999999\n",
      "Vehicle time for rtof, stop time: 0.011\n",
      "Vehicle time for rtof, length   : 11\n"
     ]
    }
   ],
   "source": [
    "f_simulation = 1e10;           # [Hz], simulation clock freq that should capture light delays amounting to 3cm\n",
    "t_simulation = 1/f_simulation; # [s] , simulation clock period\n",
    "\n",
    "simulation_start  = t_simulation; # [s], t_simulation rather than 0 avoids artifacts and sim ends at simulation_stop this way\n",
    "simulation_stop   = (localization_decimation_rate+1)*t_vehicle; # [s], see note above about pi/32\n",
    "simulation_length = int(simulation_stop/t_simulation)\n",
    "print(\"Simulation stop time:\",simulation_stop)\n",
    "print(\"Simulation length   :\",simulation_length)\n",
    "\n",
    "s_simulation   = np.linspace(simulation_start, simulation_stop, simulation_length)\n",
    "\n",
    "vehicle_time_start  = t_vehicle; # [s], t_vehicle rather than 0 avoids artifacts and sim ends at simulation_stop this way\n",
    "vehicle_time_stop   = simulation_stop;\n",
    "vehicle_time_length = int(vehicle_time_stop/t_vehicle)\n",
    "print(\"Vehicle time for rtof, stop time:\", vehicle_time_stop)\n",
    "print(\"Vehicle time for rtof, length   :\", vehicle_time_length)\n",
    "\n",
    "s_vehicle_time = np.linspace(vehicle_time_start, vehicle_time_stop, vehicle_time_length)\n",
    "                             \n",
    "f_adc_clock  = 1e8;             # [Hz], measurement clock freq\n",
    "t_adc_clock  = 1/f_adc_clock;   # [s] , measurement clock period\n",
    "\n",
    "simclock_subsample_rate = int(f_simulation/f_adc_clock)\n",
    "\n",
    "s_adc_clock = np.zeros_like(s_simulation)\n",
    "for i in range(0, int(simclock_subsample_rate/2)):\n",
    "    s_adc_clock[ i::simclock_subsample_rate] = 1;\n",
    "\n",
    "s_adc_clock_lead  = s_adc_clock[1:]\n",
    "s_adc_clock_lag   = s_adc_clock[0:-1]\n",
    "s_adc_clock_re    = np.concatenate((np.asarray([False]), np.logical_and((1-s_adc_clock_lag), s_adc_clock_lead)))\n",
    "del s_adc_clock, s_adc_clock_lead, s_adc_clock_lag"
   ]
  },
  {
   "cell_type": "markdown",
   "id": "542cd3ec",
   "metadata": {},
   "source": [
    "simulation preliminaries - other"
   ]
  },
  {
   "cell_type": "code",
   "execution_count": 13,
   "id": "a7c8786c",
   "metadata": {},
   "outputs": [],
   "source": [
    "f_eL     = 1.0e6; # [Hz], emitted wave freq, left TX\n",
    "f_eR     = 0.8e6; # [Hz], emitted wave freq, right TX\n",
    "rtof_r   = 1999;  # unitless, heterodyning factor\n",
    "rtof_N_L = 10;    # unitless, averaging factor for left TX\n",
    "rtof_N_R = 8;     # unitless, averaging factor for right TX\n",
    "\n",
    "c = 299792458 # [m/s] speed of light\n",
    "\n",
    "### this factor is precomputed since it's the same for all links\n",
    "# /16 due to C_T^2 in the thermal_factor2, each cell gets 1/4 of the total cap\n",
    "thermal_and_bg_curr = rx_I_bg_factor*bg_current + temperature*(rx_thermal_factor1 + rx_thermal_factor2/16)\n",
    "\n",
    "add_noise  = 1"
   ]
  },
  {
   "cell_type": "markdown",
   "id": "596bc61f",
   "metadata": {},
   "source": [
    "## aoa2"
   ]
  },
  {
   "cell_type": "code",
   "execution_count": 14,
   "id": "3230eddd",
   "metadata": {
    "scrolled": true
   },
   "outputs": [
    {
     "name": "stderr",
     "output_type": "stream",
     "text": [
      "100%|██████████| 100/100 [01:20<00:00,  1.24it/s]\n"
     ]
    }
   ],
   "source": [
    "aoa_rxL_txL = np.zeros((localization_num_steps))\n",
    "aoa_rxR_txL = np.zeros((localization_num_steps))\n",
    "aoa_rxL_txR = np.zeros((localization_num_steps))\n",
    "aoa_rxR_txR = np.zeros((localization_num_steps))\n",
    "est_x_txL = np.zeros((localization_num_steps))\n",
    "est_y_txL = np.zeros((localization_num_steps))\n",
    "est_x_txR = np.zeros((localization_num_steps))\n",
    "est_y_txR = np.zeros((localization_num_steps))\n",
    "\n",
    "for i in tqdm(range(0, localization_num_steps)):\n",
    "    #localization_step = 0; # bu for loop olcak\n",
    "    smp_lo = i*localization_decimation_rate\n",
    "    smp_hi = (i+1)*localization_decimation_rate\n",
    "\n",
    "    step_time       = s_vehicle_time[0:int(localization_decimation_rate*s_vehicle_time.shape[0]/(localization_decimation_rate+1))]\n",
    "    simulation_time = s_simulation[s_adc_clock_re]\n",
    "    simulation_time = simulation_time[0:int(localization_decimation_rate*simulation_time.shape[0]/(localization_decimation_rate+1))+1]\n",
    "\n",
    "    rxLL, rxLR, rxRL, rxRR, delays = generate_aoa2_rx_signals(shared_pwr_txL_to_rxL, shared_pwr_txL_to_rxR, shared_pwr_txR_to_rxL, shared_pwr_txR_to_rxR,\n",
    "                                                            delay_txL_to_rxL, delay_txL_to_rxR, delay_txR_to_rxL, delay_txR_to_rxR,\n",
    "                                                            f_eL, f_eR, pd_snst, pd_gain, thermal_and_bg_curr, rx_P_rx_factor,\n",
    "                                                            step_time, simulation_time, smp_lo, smp_hi,\n",
    "                                                            add_noise);    \n",
    "    (rxLA_txL, rxLB_txL, rxLC_txL, rxLD_txL) = rxLL\n",
    "    (rxLA_txR, rxLB_txR, rxLC_txR, rxLD_txR) = rxLR\n",
    "    (rxRA_txL, rxRB_txL, rxRC_txL, rxRD_txL) = rxRL\n",
    "    (rxRA_txR, rxRB_txR, rxRC_txR, rxRD_txR) = rxRR \n",
    "    (delayLL_sigTime, delayLR_sigTime, delayRL_sigTime, delayRR_sigTime) = delays\n",
    "\n",
    "    del rxLL, rxLR, rxRL, rxRR, delays \n",
    "\n",
    "    # assume that the VLC subsystem correctly decodes the signal\n",
    "    wav_rxL_txL = np.sin(2*np.pi*f_eL*(simulation_time - delayLL_sigTime))\n",
    "    wav_rxL_txR = np.sin(2*np.pi*f_eR*(simulation_time - delayLR_sigTime))\n",
    "    wav_rxR_txL = np.sin(2*np.pi*f_eL*(simulation_time - delayRL_sigTime))\n",
    "    wav_rxR_txR = np.sin(2*np.pi*f_eR*(simulation_time - delayRR_sigTime))\n",
    "\n",
    "    thd = 1e-5;\n",
    "\n",
    "    aoa_rxL_txL[i] = aoa_measurement(rxLA_txL, rxLB_txL, rxLC_txL, rxLD_txL, wav_rxL_txL, f_QRX, thd)\n",
    "    aoa_rxR_txL[i] = aoa_measurement(rxRA_txL, rxRB_txL, rxRC_txL, rxRD_txL, wav_rxR_txL, f_QRX, thd)\n",
    "    aoa_rxL_txR[i] = aoa_measurement(rxLA_txR, rxLB_txR, rxLC_txR, rxLD_txR, wav_rxL_txR, f_QRX, thd)\n",
    "    aoa_rxR_txR[i] = aoa_measurement(rxRA_txR, rxRB_txR, rxRC_txR, rxRD_txR, wav_rxR_txR, f_QRX, thd)\n",
    "\n",
    "    est_x_txL[i], est_y_txL[i], est_x_txR[i], est_y_txR = aoa2_positioning(aoa_rxL_txL[i], aoa_rxL_txR[i], aoa_rxR_txL[i], aoa_rxR_txR[i], L);"
   ]
  },
  {
   "cell_type": "code",
   "execution_count": 15,
   "id": "d5783ff7",
   "metadata": {},
   "outputs": [
    {
     "data": {
      "image/png": "[encoded data removed]",
      "text/plain": [
       "<Figure size 432x288 with 1 Axes>"
      ]
     },
     "metadata": {
      "needs_background": "light"
     },
     "output_type": "display_data"
    }
   ],
   "source": [
    "fig, ax = plt.subplots()\n",
    "error_x = est_x_txL - xRL_to_rxL[int(localization_decimation_rate/2)::localization_decimation_rate]\n",
    "error_y = est_y_txL - yRL_to_rxL[int(localization_decimation_rate/2)::localization_decimation_rate]\n",
    "ax.plot(np.sqrt(error_x**2+error_y**2))\n",
    "ax.grid()\n",
    "plt.show()"
   ]
  },
  {
   "cell_type": "code",
   "execution_count": 16,
   "id": "25a89379",
   "metadata": {},
   "outputs": [],
   "source": [
    "del wav_rxL_txL, wav_rxL_txR, wav_rxR_txL, wav_rxR_txR\n",
    "del rxLA_txL, rxLB_txL, rxLC_txL, rxLD_txL\n",
    "del rxLA_txR, rxLB_txR, rxLC_txR, rxLD_txR\n",
    "del rxRA_txL, rxRB_txL, rxRC_txL, rxRD_txL\n",
    "del rxRA_txR, rxRB_txR, rxRC_txR, rxRD_txR\n",
    "del delayLL_sigTime, delayLR_sigTime, delayRL_sigTime, delayRR_sigTime\n",
    "del simulation_time, step_time"
   ]
  },
  {
   "cell_type": "markdown",
   "id": "3a8ccb2b",
   "metadata": {},
   "source": [
    "## rtof"
   ]
  },
  {
   "cell_type": "code",
   "execution_count": 17,
   "id": "b461ed98",
   "metadata": {},
   "outputs": [],
   "source": [
    "sos_lo_het = signal.butter(8, 2*(f_eL*1.20)*t_simulation, 'low', output='sos')\n",
    "sos_hi_het = signal.butter(8, 2*(f_eL*0.80)*t_simulation, 'high', output='sos')"
   ]
  },
  {
   "cell_type": "code",
   "execution_count": 18,
   "id": "6a730242",
   "metadata": {
    "scrolled": true
   },
   "outputs": [
    {
     "name": "stderr",
     "output_type": "stream",
     "text": [
      "100%|██████████| 100/100 [1:29:55<00:00, 53.95s/it]\n"
     ]
    }
   ],
   "source": [
    "d_rxL_txL = np.zeros((localization_num_steps))\n",
    "d_rxR_txL = np.zeros((localization_num_steps))\n",
    "d_rxL_txR = np.zeros((localization_num_steps))\n",
    "d_rxR_txR = np.zeros((localization_num_steps))\n",
    "est_x_txL = np.zeros((localization_num_steps))\n",
    "est_y_txL = np.zeros((localization_num_steps))\n",
    "est_x_txR = np.zeros((localization_num_steps))\n",
    "est_y_txR = np.zeros((localization_num_steps))\n",
    "\n",
    "rr = 1e6; # zero crossing gets detected at 1/rr of the total swing\n",
    "\n",
    "for i in tqdm(range(0, localization_num_steps)):\n",
    "    smp_lo = i*localization_decimation_rate\n",
    "    if(i==localization_num_steps-1):\n",
    "        # last localization step will be 10% stretched in time. hope this is negligible...\n",
    "        smp_hi = (i+1)*localization_decimation_rate\n",
    "        step_time       = s_vehicle_time[0:int(localization_decimation_rate*s_vehicle_time.shape[0]/(localization_decimation_rate+1))]\n",
    "    else:\n",
    "        smp_hi = (i+1)*localization_decimation_rate+1\n",
    "        step_time       = s_vehicle_time # include the 11th sample, contrary to aoa2 \n",
    "    \n",
    "    simulation_time = s_simulation   # don't clock it yet, and keep it compliant with sample 11\n",
    "\n",
    "    # first left RX\n",
    "    rxLL, rxLR = generate_rtof_rx_signals(pwr_txL_to_rxL, pwr_txR_to_rxL, delay_txL_to_rxL, delay_txR_to_rxL,\n",
    "                                          f_eL, f_eR, pd_snst, pd_gain, thermal_and_bg_curr, rx_P_rx_factor,\n",
    "                                          step_time, simulation_time, smp_lo, smp_hi,\n",
    "                                          add_noise);\n",
    "    rxLL = sff(sos_lo_het, sff(sos_hi_het, rxLL));\n",
    "    rxLR = sff(sos_lo_het, sff(sos_hi_het, rxLR));\n",
    "    d_rxL_txL[i] = rtof_d_measure(s_simulation, s_adc_clock_re, rxLL, rtof_N_L, rtof_r, f_eL, f_adc_clock, c, rr);\n",
    "    d_rxL_txR[i] = rtof_d_measure(s_simulation, s_adc_clock_re, rxLR, rtof_N_R, rtof_r, f_eR, f_adc_clock, c, rr);\n",
    "    del rxLL, rxLR\n",
    "    \n",
    "    # then right RX\n",
    "    rxRL, rxRR = generate_rtof_rx_signals(pwr_txL_to_rxR, pwr_txR_to_rxR, delay_txL_to_rxR, delay_txR_to_rxR,\n",
    "                                          f_eL, f_eR, pd_snst, pd_gain, thermal_and_bg_curr, rx_P_rx_factor,\n",
    "                                          step_time, simulation_time, smp_lo, smp_hi,\n",
    "                                          add_noise);\n",
    "    rxRR = sff(sos_lo_het, sff(sos_hi_het, rxRR));\n",
    "    rxRL = sff(sos_lo_het, sff(sos_hi_het, rxRL));\n",
    "    d_rxR_txL[i] = rtof_d_measure(s_simulation, s_adc_clock_re, rxRL, rtof_N_L, rtof_r, f_eL, f_adc_clock, c, rr);\n",
    "    d_rxR_txR[i] = rtof_d_measure(s_simulation, s_adc_clock_re, rxRR, rtof_N_R, rtof_r, f_eR, f_adc_clock, c, rr);\n",
    "    del rxRL, rxRR\n",
    "    \n",
    "    # then estimate position\n",
    "    est_y_txL[i], est_x_txL[i] = rtof_bechadergue_positioning(d_rxL_txL[i], d_rxR_txL[i], L)\n",
    "    est_y_txR[i], est_x_txR[i] = rtof_bechadergue_positioning(d_rxL_txR[i], d_rxR_txR[i], L)"
   ]
  },
  {
   "cell_type": "code",
   "execution_count": 19,
   "id": "ebfae92b",
   "metadata": {},
   "outputs": [
    {
     "data": {
      "image/png": "[encoded data removed]",
      "text/plain": [
       "<Figure size 432x288 with 1 Axes>"
      ]
     },
     "metadata": {
      "needs_background": "light"
     },
     "output_type": "display_data"
    }
   ],
   "source": [
    "fig, ax = plt.subplots()\n",
    "error_x = est_x_txL - xRL_to_rxL[int(localization_decimation_rate/2)::localization_decimation_rate]\n",
    "error_y = est_y_txL - yRL_to_rxL[int(localization_decimation_rate/2)::localization_decimation_rate]\n",
    "ax.plot(np.sqrt(error_x**2+error_y**2))\n",
    "ax.grid()\n",
    "plt.show()"
   ]
  },
  {
   "cell_type": "code",
   "execution_count": 20,
   "id": "3861b677",
   "metadata": {},
   "outputs": [
    {
     "data": {
      "image/png": "[encoded data removed]",
      "text/plain": [
       "<Figure size 432x288 with 1 Axes>"
      ]
     },
     "metadata": {
      "needs_background": "light"
     },
     "output_type": "display_data"
    }
   ],
   "source": [
    "fig, ax = plt.subplots()\n",
    "error_x = est_x_txL - xRL_to_rxL[int(localization_decimation_rate/2)::localization_decimation_rate]\n",
    "error_y = est_y_txL - yRL_to_rxL[int(localization_decimation_rate/2)::localization_decimation_rate]\n",
    "ax.plot(np.sqrt(error_x**2+error_y**2))\n",
    "ax.grid()\n",
    "plt.show()"
   ]
  },
  {
   "cell_type": "code",
   "execution_count": null,
   "id": "10b484c5",
   "metadata": {},
   "outputs": [],
   "source": [
    "w, h = signal.sosfreqz(sos_lo_het, worN=100000)\n",
    "\n",
    "plt.subplot(2, 1, 1)\n",
    "\n",
    "db = 20*np.log10(np.maximum(np.abs(h), 1e-5))\n",
    "\n",
    "plt.plot(w/np.pi, db)\n",
    "plt.xlim([0,0.001])\n",
    "plt.grid(True)\n",
    "plt.ylabel('Gain [dB]')\n",
    "plt.title('Frequency Response')\n",
    "plt.subplot(2, 1, 2)\n",
    "plt.plot(w/np.pi, np.angle(h))\n",
    "plt.grid(True)\n",
    "plt.xlim([0,0.001])\n",
    "plt.ylabel('Phase [rad]')\n",
    "plt.xlabel('Normalized frequency (1.0 = Nyquist)')\n",
    "plt.show()"
   ]
  },
  {
   "cell_type": "code",
   "execution_count": null,
   "id": "29d0e26f",
   "metadata": {},
   "outputs": [],
   "source": [
    "sos_lo_het = signal.butter(8, 2*(f_eL*1.20)*t_simulation, 'low', output='sos')\n",
    "sos_hi_het = signal.butter(8, 2*(f_eL*0.80)*t_simulation, 'high', output='sos')"
   ]
  },
  {
   "cell_type": "code",
   "execution_count": null,
   "id": "9fc39b24",
   "metadata": {},
   "outputs": [],
   "source": [
    "www = np.sin(2*np.pi*1e6*s_simulation)"
   ]
  },
  {
   "cell_type": "code",
   "execution_count": null,
   "id": "1a32edbf",
   "metadata": {},
   "outputs": [],
   "source": [
    "wwf = sff(sos_lo_het,sff(sos_hi_het,www)) "
   ]
  },
  {
   "cell_type": "code",
   "execution_count": null,
   "id": "38e13973",
   "metadata": {},
   "outputs": [],
   "source": [
    "fig, ax = plt.subplots()\n",
    "ax.plot(www[0:100000])\n",
    "ax.plot(wwf[0:100000])\n",
    "ax.grid()\n",
    "plt.show()"
   ]
  },
  {
   "cell_type": "code",
   "execution_count": null,
   "id": "c3f7292e",
   "metadata": {},
   "outputs": [],
   "source": [
    "sos_lo_het = signal.butter(8, 8*sig_dt*(r+1), 'low', output='sos')"
   ]
  },
  {
   "cell_type": "markdown",
   "id": "8070cc83",
   "metadata": {},
   "source": [
    "the emitted signal is two delays **ahead** (+) of the received one, so... -1 +2 = +1"
   ]
  },
  {
   "cell_type": "code",
   "execution_count": null,
   "id": "d2ad3544",
   "metadata": {},
   "outputs": [],
   "source": [
    "emit_rxL_txL_het = sff(sos_lo_het, np.sin(2*np.pi*txL_carrier*(sig_time + dLL_sigTime))*s_hL);\n",
    "emit_rxL_txR_het = sff(sos_lo_het, np.sin(2*np.pi*txR_carrier*(sig_time + dLR_sigTime))*s_hR);\n",
    "emit_rxR_txL_het = sff(sos_lo_het, np.sin(2*np.pi*txL_carrier*(sig_time + dRL_sigTime))*s_hL);\n",
    "emit_rxR_txR_het = sff(sos_lo_het, np.sin(2*np.pi*txR_carrier*(sig_time + dRR_sigTime))*s_hR);"
   ]
  },
  {
   "cell_type": "code",
   "execution_count": null,
   "id": "c3c3d485",
   "metadata": {},
   "outputs": [],
   "source": [
    "def attenuate_edges(signal,time_length,edge_attenuation_percent):\n",
    "    start = int(np.floor(time_length*edge_attenuation_percent))\n",
    "    end = int(time_length-start)\n",
    "    ramp = (1-np.cos(np.pi*(np.arange(start)/start)))/2\n",
    "    edge_attenuator = np.ones(time_length)\n",
    "    edge_attenuator[0:start] = ramp\n",
    "    edge_attenuator[end:time_length] = np.flip(ramp)\n",
    "    return(signal*edge_attenuator)"
   ]
  },
  {
   "cell_type": "code",
   "execution_count": null,
   "id": "344b7e80",
   "metadata": {},
   "outputs": [],
   "source": []
  },
  {
   "cell_type": "code",
   "execution_count": null,
   "id": "2b84dcd5",
   "metadata": {},
   "outputs": [],
   "source": []
  }
 ],
 "metadata": {
  "kernelspec": {
   "display_name": "Python 3",
   "language": "python",
   "name": "python3"
  },
  "language_info": {
   "codemirror_mode": {
    "name": "ipython",
    "version": 3
   },
   "file_extension": ".py",
   "mimetype": "text/x-python",
   "name": "python",
   "nbconvert_exporter": "python",
   "pygments_lexer": "ipython3",
   "version": "3.8.10"
  }
 },
 "nbformat": 4,
 "nbformat_minor": 5
}
