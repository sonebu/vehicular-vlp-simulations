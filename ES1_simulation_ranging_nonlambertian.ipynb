{
 "cells": [
  {
   "cell_type": "code",
   "execution_count": 1,
   "id": "cbd34c18",
   "metadata": {},
   "outputs": [],
   "source": [
    "import numpy             as np\n",
    "import scipy             as sp\n",
    "import matplotlib.pyplot as plt\n",
    "import matplotlib\n",
    "import time\n",
    "from numba import njit\n",
    "\n",
    "from tqdm            import tqdm\n",
    "from scipy           import signal\n",
    "\n",
    "from propagation import received_power_nonlambertian, propagation_delay, \\\n",
    "                        map_rx_config, map_tx_config_nonlambertian\n",
    "\n",
    "from parametermeasurement import generate_clocks, \\\n",
    "                                 measure_range_bechadergue_dflipflop, \\\n",
    "                                 measure_range_bechadergue_counter"
   ]
  },
  {
   "cell_type": "markdown",
   "id": "473afdfb",
   "metadata": {},
   "source": [
    "### Simulation preliminaries"
   ]
  },
  {
   "cell_type": "code",
   "execution_count": 2,
   "id": "a9baf5a1",
   "metadata": {},
   "outputs": [],
   "source": [
    "weather     = 'clear' \n",
    "temperature = 298 # Kelvin\n",
    "daynight    = 'night'\n",
    "\n",
    "daynight_noise_factors = dict()\n",
    "daynight_noise_factors['day_directsun']   = 1.000 # 5100 uA\n",
    "daynight_noise_factors['day_indirectsun'] = 0.145 # 740 uA\n",
    "daynight_noise_factors['night']           = 0.010 # very small\n",
    "\n",
    "# minmax bounds to be safe if you set the noise factor yourself\n",
    "bg_current = (np.minimum(1, np.maximum(0, daynight_noise_factors[daynight]))*5100)*1e-6;\n",
    "\n",
    "weather_attenuation_factors = dict()\n",
    "weather_attenuation_factors['clear'] = 0.0\n",
    "weather_attenuation_factors['rain']  = -0.05\n",
    "weather_attenuation_factors['fog']   = -0.2\n",
    "\n",
    "atten = weather_attenuation_factors[weather];"
   ]
  },
  {
   "cell_type": "code",
   "execution_count": 3,
   "id": "02302b1d",
   "metadata": {},
   "outputs": [],
   "source": [
    "a = np.load('optics/qrx_planoconvex.npz');\n",
    "f_QRX, pd_snst, pd_gain, pd_dim, rx_P_rx_factor, rx_I_bg_factor, rx_thermal_factor1, rx_thermal_factor2 = map_rx_config(a);"
   ]
  },
  {
   "cell_type": "code",
   "execution_count": 4,
   "id": "88e4ed32",
   "metadata": {},
   "outputs": [],
   "source": [
    "a = np.load('optics/tx_AgonLbSedan1_2W.npz')\n",
    "tx_pattern, tx_phiarray, tx_thetaarray, tx_pwr, tx_norm = map_tx_config_nonlambertian(a);"
   ]
  },
  {
   "cell_type": "code",
   "execution_count": 5,
   "id": "7012032b",
   "metadata": {},
   "outputs": [],
   "source": [
    "c         = 299702547 #299702547  # [m/s] speed of light\n",
    "f_dig_clk = 1e8;      # [Hz], bechadergue digital counter clock freq\n",
    "f_adc_clk = 1e7;      # [Hz], roberts ADC measurement clock freq\n",
    "f_e       = 1.0e6;    # [Hz], emitted wave freq, left TX\n",
    "r         = 5000;     # unitless, heterodyning factor\n",
    "N         = 4;        # unitless, averaging factor for left TX\n",
    "\n",
    "f_sim = 1e10 # [Hz]"
   ]
  },
  {
   "cell_type": "markdown",
   "id": "fe86d3b5",
   "metadata": {},
   "source": [
    "this factor is precomputed since it's the same for all links"
   ]
  },
  {
   "cell_type": "code",
   "execution_count": 6,
   "id": "a7c8786c",
   "metadata": {},
   "outputs": [],
   "source": [
    "# original bandwidth = 10 MHz, we assume a 100 kHz BPF here like bechadergue, effectively reducing BW by 100x \n",
    "#\n",
    "# see noise variance equations for further info on this\n",
    "bandwidth_scaling_due_to_filter = 0.01;\n",
    "thermal_and_bg_curr = rx_I_bg_factor *  bandwidth_scaling_due_to_filter * bg_current + \\\n",
    "                      temperature    *( bandwidth_scaling_due_to_filter * rx_thermal_factor1 + \\\n",
    "                                      ( bandwidth_scaling_due_to_filter**3) * rx_thermal_factor2)\n",
    "\n",
    "add_noise = 1"
   ]
  },
  {
   "cell_type": "markdown",
   "id": "0085ecea",
   "metadata": {},
   "source": [
    "### Simulate propagation"
   ]
  },
  {
   "cell_type": "markdown",
   "id": "aa37d5ed",
   "metadata": {},
   "source": [
    "generate simulation and adc clock signals\n",
    "\n",
    "the time resolution of the simulation clock determines the minimum spatial resolution representable on the received signal, i.e., 1 tick on the simulation clock corresponds to x cm light travel distance. \n",
    "\n",
    "Note that this is not the resolution of the auto-digital method ($d_{min}$), but for meaningful simulations, we need to make sure that the minimum spatial resolution of the simulation is at least equal to $d_{min}$. Also, note that the output of the auto-digital method can go to higher precision using the averaging factor $N$."
   ]
  },
  {
   "cell_type": "code",
   "execution_count": 7,
   "id": "58d2e92a",
   "metadata": {
    "scrolled": true
   },
   "outputs": [
    {
     "name": "stdout",
     "output_type": "stream",
     "text": [
      "sim stop time: 0.0105021 s\n",
      "sim length   : 105021000 samples\n",
      "sim time res : 100.0 ps\n",
      "sim tvec size: 0.7824674248695374 GB\n",
      "sim space res: 2.99702547 cm\n",
      "\n",
      "d_min    : 2.99702547 cm\n",
      "d_min w/N: 0.7492563675 cm\n",
      "rate     : 99.98000399920016 Hz\n"
     ]
    }
   ],
   "source": [
    "t_sim, t_sim_stop, sim_res, s_sim, s_adc_re, s_dig_re = generate_clocks(c, f_e, N, r, f_sim, f_adc_clk, f_dig_clk)\n",
    "\n",
    "d_min = c/(2*r*f_e);\n",
    "\n",
    "print(\"sim stop time:\",t_sim_stop, \"s\")\n",
    "print(\"sim length   :\",int(t_sim_stop/t_sim),\"samples\")\n",
    "print(\"sim time res :\", t_sim*(10**12), \"ps\")\n",
    "print(\"sim tvec size:\", s_sim.nbytes/(1024**3), \"GB\")\n",
    "print(\"sim space res:\", 100*sim_res, \"cm\")\n",
    "print(\"\")\n",
    "print(\"d_min    :\", d_min*100, \"cm\")\n",
    "print(\"d_min w/N:\", d_min*100/N, \"cm\")\n",
    "print(\"rate     :\", 2*f_e/(N*(r+1)), \"Hz\")"
   ]
  },
  {
   "cell_type": "markdown",
   "id": "38ec7fc6",
   "metadata": {},
   "source": [
    "the testing points, i.e., range values, need to be decimated according to simulation spatial resolution for meaningful results, so quantize them accordingly. When $d_{min}$=spatial resolution, deterministic quantization error is also prevented. Since there's also no heterodyning error here (see gate pulse graph below, we always align the simulation time windows for each testing point separately), this simulation only considers the statistical effects arising from channel noise. "
   ]
  },
  {
   "cell_type": "code",
   "execution_count": 8,
   "id": "f8e82a26",
   "metadata": {},
   "outputs": [],
   "source": [
    "range_start = 01.00\n",
    "range_stop  = 20.00\n",
    "\n",
    "range_decimation_factor = 50; # no need to go through all of them, standard deviation will evolve smoothly anyhow\n",
    "quantization_factor = sim_res\n",
    "\n",
    "rg = np.linspace(range_start, range_stop, \n",
    "                 int((range_stop-range_start)/(range_decimation_factor*quantization_factor))+1)\n",
    "rg = (quantization_factor)*np.round(rg/quantization_factor)\n",
    "\n",
    "x = np.zeros(rg.shape[0]);\n",
    "\n",
    "hdg = np.zeros(rg.shape[0]); # parallel vehicles"
   ]
  },
  {
   "cell_type": "code",
   "execution_count": 9,
   "id": "70c5b1ea",
   "metadata": {},
   "outputs": [],
   "source": [
    "pwr = np.zeros(rg.shape[0]);"
   ]
  },
  {
   "cell_type": "code",
   "execution_count": 10,
   "id": "ee5e93f9",
   "metadata": {},
   "outputs": [
    {
     "name": "stderr",
     "output_type": "stream",
     "text": [
      "  0%|                     | 0/13 [00:00<?, ?it/s]/home/ubuntu/vehicular-vlp-simulations/propagation.py:197: NumbaPerformanceWarning: \n",
      "The keyword argument 'parallel=True' was specified but no transformation for parallel execution was possible.\n",
      "\n",
      "To find out why, try turning on parallel diagnostics, see https://numba.readthedocs.io/en/stable/user/parallel.html#diagnostics for help.\n",
      "\n",
      "File \"propagation.py\", line 161:\n",
      "@njit(parallel=True, fastmath=True)\n",
      "def getinterp(y2,y1,x2,x1,xnew):\n",
      "^\n",
      "\n",
      "  eps1xy1zy_z_interp_right = getinterp(eps1xy1zy_z_top_top, eps1xy1zy_z_top_bot,\n",
      "100%|████████████| 13/13 [00:04<00:00,  2.61it/s]\n"
     ]
    }
   ],
   "source": [
    "for i in tqdm(range(rg.shape[0])):\n",
    "    pwr[i] = received_power_nonlambertian(x[i], rg[i], 0, pd_dim/1000, hdg[i], tx_pwr, tx_norm, tx_pattern, \n",
    "                                          tx_thetaarray, tx_phiarray, atten)\n",
    "delay = propagation_delay(x, rg, c)"
   ]
  },
  {
   "cell_type": "markdown",
   "id": "3c334180",
   "metadata": {},
   "source": [
    "### Simulate ranging"
   ]
  },
  {
   "cell_type": "markdown",
   "id": "c8f33549",
   "metadata": {},
   "source": [
    "pre-compute the quantities that do not change over the test track to save on simulation time, these are:\n",
    "\n",
    "- $s_e$: first transmitted signal (logic, sim time)\n",
    "- $s_{e,sin}$: same as $s_e$, but used for the DFT-based method so no zero-crossing detection necessary + it's clocked, so (sin, clocked)\n",
    "- $s_h$: heterodyning signal (logic, sim time)\n",
    "- $s_{gate}$: generated in sim time as a sine wave, then zero-crossing converts it to a logic signal, and then it's clocked, so (logic, clocked)\n"
   ]
  },
  {
   "cell_type": "code",
   "execution_count": 11,
   "id": "54e396fe",
   "metadata": {},
   "outputs": [],
   "source": [
    "s_h = np.sin(2*np.pi* f_e*(r/(r+1))*s_sim - np.pi/32)>0;\n",
    "s_e = np.sin(2*np.pi* f_e *s_sim - np.pi/32)>0;\n",
    "s_eh = measure_range_bechadergue_dflipflop(s_e, s_h)[s_dig_re]\n",
    "s_gate = np.sin(2*np.pi* f_e*(1/(N*(r+1))) *s_sim - np.pi/32)>0;\n",
    "s_gate = s_gate[s_dig_re]\n",
    "\n",
    "s_e_sin = np.sin(2*np.pi* f_e *s_sim[s_adc_re] - np.pi/32);\n",
    "s_e_sin = sp.fft.fft(s_e_sin);\n",
    "s_e_sin[0:int(s_e_sin.shape[0]/2)] = 0;\n",
    "s_e_sin = sp.fft.ifft(s_e_sin);"
   ]
  },
  {
   "cell_type": "markdown",
   "id": "c2185320",
   "metadata": {},
   "source": [
    "for each location on the test track, we measure estimations produced for one gate pulse:"
   ]
  },
  {
   "cell_type": "code",
   "execution_count": 12,
   "id": "d060a4b6",
   "metadata": {},
   "outputs": [
    {
     "data": {
      "image/png": "[encoded data removed]",
      "text/plain": [
       "<Figure size 320x160 with 1 Axes>"
      ]
     },
     "metadata": {},
     "output_type": "display_data"
    }
   ],
   "source": [
    "fig, ax = plt.subplots(figsize=(4, 2), dpi=80)\n",
    "ax.plot(s_gate)\n",
    "ax.grid()\n",
    "plt.show()"
   ]
  },
  {
   "cell_type": "markdown",
   "id": "a8a242ea",
   "metadata": {},
   "source": [
    "njit'ed utility functions to speed up simulation"
   ]
  },
  {
   "cell_type": "code",
   "execution_count": 13,
   "id": "2e270724",
   "metadata": {},
   "outputs": [],
   "source": [
    "@njit(parallel=True, fastmath=True)\n",
    "def gen_rx(rx_peakAmps, f, s_simulation, delay, rx_noise_stdev, noise, pd_gain):\n",
    "    return (rx_peakAmps*(np.sin(2*np.pi*f*(s_simulation - 2*delay) - np.pi/32)) / 2 + rx_noise_stdev * noise)*pd_gain;\n",
    "\n",
    "@njit(parallel=True, fastmath=True)\n",
    "def s_r_zc(s_r_sin):\n",
    "    return s_r_sin > 0;\n",
    "\n",
    "@njit(parallel=True, fastmath=True)\n",
    "def gen_noise(s_sim_shape):\n",
    "    return np.random.randn(s_sim_shape);"
   ]
  },
  {
   "cell_type": "code",
   "execution_count": 14,
   "id": "9a52d260",
   "metadata": {
    "scrolled": true
   },
   "outputs": [
    {
     "name": "stderr",
     "output_type": "stream",
     "text": [
      "100%|████████████| 10/10 [01:24<00:00,  8.44s/it]\n"
     ]
    }
   ],
   "source": [
    "iterations = 10;\n",
    "d_bec = np.zeros((iterations, x.shape[0]))\n",
    "d_rob = np.zeros((iterations, x.shape[0]))\n",
    "\n",
    "for j in tqdm(range(0, iterations)):\n",
    "    ns = gen_noise(s_sim.shape[0]);\n",
    "    for i in range(0, rg.shape[0]):\n",
    "        delay          = rg[i]/c\n",
    "        rx_peakAmps    = pwr[i]*pd_snst\n",
    "        rx_noise_stdev = np.sqrt(bandwidth_scaling_due_to_filter*rx_P_rx_factor*pwr[i] + thermal_and_bg_curr);         \n",
    "        \n",
    "        s_r_sin = gen_rx(rx_peakAmps, f_e, s_sim, delay, rx_noise_stdev, ns, pd_gain)\n",
    "        \n",
    "        ### roberts\n",
    "        s_r_f = sp.fft.fft(s_r_sin[s_adc_re]);\n",
    "        s_r_f[0:int(s_r_f.shape[0]/2)] = 0;\n",
    "        s_r_f = sp.fft.ifft(s_r_f);\n",
    "        \n",
    "        phase_shift_diff_est = np.mean(np.angle(s_e_sin * np.conjugate(s_r_f)));\n",
    "        del s_r_f\n",
    "        d_rob[j,i] = c*(phase_shift_diff_est/(2*np.pi*2*f_e))       \n",
    "        \n",
    "        ### bechadergue\n",
    "        s_r = s_r_zc(s_r_sin)\n",
    "        del s_r_sin\n",
    "        s_rh = measure_range_bechadergue_dflipflop(s_r, s_h)[s_dig_re]\n",
    "        del s_r\n",
    "        s_phi    = np.logical_xor(s_eh, s_rh);\n",
    "        s_phi_pp = s_phi*s_gate # clock applied implicitly with adc_clock_re\n",
    "\n",
    "        count = measure_range_bechadergue_counter(s_phi_pp, s_gate)\n",
    "        f_i = f_e/(r+1);\n",
    "        phase_shift_est = 2*np.pi*(np.asarray(count)*f_i/(N*f_dig_clk))\n",
    "        d_bec[j,i] = c*(phase_shift_est/(2*np.pi*2*f_e))\n",
    "        "
   ]
  },
  {
   "cell_type": "markdown",
   "id": "b13a1c0f",
   "metadata": {},
   "source": [
    "# plot"
   ]
  },
  {
   "cell_type": "code",
   "execution_count": 15,
   "id": "d17b91c5",
   "metadata": {},
   "outputs": [],
   "source": [
    "d_bec_clearnight_error = d_bec-rg\n",
    "d_rob_adc1e7_clearnight_error = d_rob + rg"
   ]
  },
  {
   "cell_type": "code",
   "execution_count": 16,
   "id": "419171a2",
   "metadata": {},
   "outputs": [],
   "source": [
    "font = {'family' : 'normal',\n",
    "        'weight' : 'normal',\n",
    "        'size'   : 16}\n",
    "\n",
    "matplotlib.rc('font', **font)"
   ]
  },
  {
   "cell_type": "code",
   "execution_count": 17,
   "id": "c41da73d",
   "metadata": {},
   "outputs": [
    {
     "name": "stderr",
     "output_type": "stream",
     "text": [
      "findfont: Font family 'normal' not found.\n",
      "findfont: Font family 'normal' not found.\n",
      "findfont: Font family 'normal' not found.\n",
      "findfont: Font family 'normal' not found.\n",
      "findfont: Font family 'normal' not found.\n",
      "findfont: Font family 'normal' not found.\n",
      "findfont: Font family 'normal' not found.\n",
      "findfont: Font family 'normal' not found.\n",
      "findfont: Font family 'normal' not found.\n",
      "findfont: Font family 'normal' not found.\n",
      "findfont: Font family ['normal'] not found. Falling back to DejaVu Sans.\n",
      "findfont: Font family 'normal' not found.\n",
      "findfont: Font family 'normal' not found.\n",
      "findfont: Font family 'normal' not found.\n",
      "findfont: Font family 'normal' not found.\n",
      "findfont: Font family 'normal' not found.\n",
      "findfont: Font family 'normal' not found.\n",
      "findfont: Font family 'normal' not found.\n",
      "findfont: Font family 'normal' not found.\n",
      "findfont: Font family 'normal' not found.\n",
      "findfont: Font family 'normal' not found.\n",
      "findfont: Font family 'normal' not found.\n",
      "findfont: Font family 'normal' not found.\n",
      "findfont: Font family 'normal' not found.\n",
      "findfont: Font family 'normal' not found.\n",
      "findfont: Font family 'normal' not found.\n",
      "findfont: Font family 'normal' not found.\n",
      "findfont: Font family 'normal' not found.\n",
      "findfont: Font family 'normal' not found.\n",
      "findfont: Font family 'normal' not found.\n",
      "findfont: Font family 'normal' not found.\n",
      "findfont: Font family 'normal' not found.\n",
      "findfont: Font family 'normal' not found.\n",
      "findfont: Font family 'normal' not found.\n",
      "findfont: Font family 'normal' not found.\n",
      "findfont: Font family 'normal' not found.\n",
      "findfont: Font family 'normal' not found.\n",
      "findfont: Font family 'normal' not found.\n",
      "findfont: Font family 'normal' not found.\n",
      "findfont: Font family 'normal' not found.\n",
      "findfont: Font family 'normal' not found.\n",
      "findfont: Font family 'normal' not found.\n",
      "findfont: Font family 'normal' not found.\n",
      "findfont: Font family 'normal' not found.\n",
      "findfont: Font family 'normal' not found.\n",
      "findfont: Font family 'normal' not found.\n",
      "findfont: Font family 'normal' not found.\n",
      "findfont: Font family 'normal' not found.\n",
      "findfont: Font family 'normal' not found.\n",
      "findfont: Font family 'normal' not found.\n",
      "findfont: Font family 'normal' not found.\n",
      "findfont: Font family 'normal' not found.\n",
      "findfont: Font family 'normal' not found.\n",
      "findfont: Font family 'normal' not found.\n",
      "findfont: Font family 'normal' not found.\n",
      "findfont: Font family 'normal' not found.\n",
      "findfont: Font family 'normal' not found.\n",
      "findfont: Font family 'normal' not found.\n",
      "findfont: Font family 'normal' not found.\n",
      "findfont: Font family 'normal' not found.\n",
      "findfont: Font family 'normal' not found.\n",
      "findfont: Font family 'normal' not found.\n",
      "findfont: Font family 'normal' not found.\n",
      "findfont: Font family 'normal' not found.\n",
      "findfont: Font family 'normal' not found.\n"
     ]
    },
    {
     "data": {
      "image/png": "[encoded data removed]",
      "text/plain": [
       "<Figure size 800x400 with 1 Axes>"
      ]
     },
     "metadata": {},
     "output_type": "display_data"
    }
   ],
   "source": [
    "fig, ax = plt.subplots(figsize=(10, 5), dpi=80)\n",
    "ax.semilogy(rg, np.std(d_bec_clearnight_error         ,axis=0),'-v', markersize=10)\n",
    "ax.semilogy(rg, np.std(d_rob_adc1e7_clearnight_error  ,axis=0),'-o', markersize=10)\n",
    "ax.grid()\n",
    "ax.legend(['auto-digital, clear, night', \n",
    "           'DFT-based, clear, night'])\n",
    "plt.ylabel('ranging error stdev [m]')\n",
    "plt.xlabel('true range on test track [m]')\n",
    "plt.show()"
   ]
  },
  {
   "cell_type": "code",
   "execution_count": null,
   "id": "75c94e03",
   "metadata": {},
   "outputs": [],
   "source": []
  }
 ],
 "metadata": {
  "kernelspec": {
   "display_name": "Python 3 (ipykernel)",
   "language": "python",
   "name": "python3"
  },
  "language_info": {
   "codemirror_mode": {
    "name": "ipython",
    "version": 3
   },
   "file_extension": ".py",
   "mimetype": "text/x-python",
   "name": "python",
   "nbconvert_exporter": "python",
   "pygments_lexer": "ipython3",
   "version": "3.10.12"
  }
 },
 "nbformat": 4,
 "nbformat_minor": 5
}
