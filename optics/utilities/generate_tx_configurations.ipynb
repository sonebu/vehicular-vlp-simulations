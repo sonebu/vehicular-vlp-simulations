{
 "cells": [
  {
   "cell_type": "markdown",
   "metadata": {},
   "source": [
    "# Transmitters\n",
    "\n",
    "2 transmitters are considered:\n",
    "\n",
    "- 2 W tail-light, lambertian pattern, 20$^\\circ$ half angle. This imitates the transmitter configuration used in the following article: Béchadergue, B., Chassagne, L., & Guan, H. (2017, October). \"_A visible light-based system for automotive relative positioning_\". IEEE SENSORS\n",
    "\n",
    "- real headlight pattern from Memedi, A., Tebruegge, C., Jahneke, J., & Dressler, F. (2018, December). \"_Impact of vehicle type and headlight characteristics on vehicular VLC performance_\". In 2018 IEEE Vehicular Networking Conference (VNC) (pp. 1-8). IEEE."
   ]
  },
  {
   "cell_type": "code",
   "execution_count": 1,
   "metadata": {},
   "outputs": [],
   "source": [
    "%matplotlib inline\n",
    "import numpy as np\n",
    "import os\n",
    "\n",
    "import matplotlib.pyplot as plt\n",
    "import numpy as np\n",
    "\n",
    "from tqdm import tqdm\n",
    "from numba import njit"
   ]
  },
  {
   "cell_type": "markdown",
   "metadata": {},
   "source": [
    "## tail-light, 2 W, lambertian, 20$^\\circ$ half angle"
   ]
  },
  {
   "cell_type": "code",
   "execution_count": 2,
   "metadata": {},
   "outputs": [],
   "source": [
    "power      = 2.0;  # [W]\n",
    "half_angle = 20.0; # [deg]\n",
    "\n",
    "angle_sweep_resolution = 0.02; # [deg]\n",
    "# enlarge square array (by sqrt(2)x) so that the integrator doesn't hit bounds\n",
    "angle_sweep_high       =  90*np.sqrt(2)\n",
    "angle_sweep_low        = -90*np.sqrt(2)\n",
    "angle_sweep_numsamples = int(((angle_sweep_high - angle_sweep_low)/angle_sweep_resolution))\n",
    "angle_sweep_array_sqr  = np.linspace(angle_sweep_low, angle_sweep_high, num=angle_sweep_numsamples)\n",
    "\n",
    "lambertian_order = np.round(-np.log(2)/np.log(np.cos(np.deg2rad(half_angle))));\n",
    "pattern          = np.cos(np.deg2rad(angle_sweep_array_sqr))**lambertian_order;\n",
    "pattern_indexed  = np.concatenate((np.expand_dims(angle_sweep_array_sqr, axis=0), np.expand_dims(pattern, axis=0)), axis=0)"
   ]
  },
  {
   "cell_type": "code",
   "execution_count": 3,
   "metadata": {
    "scrolled": false
   },
   "outputs": [
    {
     "data": {
      "image/png": "[encoded data removed]",
      "text/plain": [
       "<Figure size 640x480 with 1 Axes>"
      ]
     },
     "metadata": {},
     "output_type": "display_data"
    }
   ],
   "source": [
    "fig, ax = plt.subplots()\n",
    "ax.plot(pattern_indexed[0,:], pattern_indexed[1,:])\n",
    "ax.grid()\n",
    "plt.show()"
   ]
  },
  {
   "cell_type": "markdown",
   "metadata": {},
   "source": [
    "we need to compute the normalization factor for this pattern, which is the area under the angle-wise relative illumination curve shown above\n",
    "\n",
    "the total irradiance from the TX (over the whole area it shines on), is (power x integral_of_the_relative_illum_curve / normalization_factor )\n",
    "\n",
    "we'll compute the actual integral during the simulation trapezoidally for higher accuracy, but the angle span will always be really small anyhow "
   ]
  },
  {
   "cell_type": "code",
   "execution_count": 4,
   "metadata": {},
   "outputs": [],
   "source": [
    "@njit(parallel=True, fastmath=True)\n",
    "def find_nearest(array, value):\n",
    "    array = np.asarray(array)\n",
    "    idx = (np.abs(array - value)).argmin()\n",
    "    return idx\n",
    "\n",
    "@njit(parallel=True, fastmath=True)\n",
    "def radSymSrc3dIntegral( rad_pat, eps1_xy, eps2_xy, eps1_zy, eps2_zy ):\n",
    "    id0_eps1_xy = find_nearest(rad_pat[0,:], eps1_xy);\n",
    "    id0_eps2_xy = find_nearest(rad_pat[0,:], eps2_xy);\n",
    "    id0_eps1_zy = find_nearest(rad_pat[0,:], eps1_zy);\n",
    "    id0_eps2_zy = find_nearest(rad_pat[0,:], eps2_zy);\n",
    "\n",
    "    id_zero = int(rad_pat.shape[1]/2); # works because python is 0 indexed\n",
    "    \n",
    "    id_list_numsamples_xy = int(abs(id0_eps2_xy-id0_eps1_xy)+1);\n",
    "    id_list_numsamples_zy = int(abs(id0_eps2_zy-id0_eps1_zy)+1);\n",
    "    \n",
    "    id_list_fwd_xy = np.linspace(id0_eps2_xy, id0_eps1_xy, id_list_numsamples_xy);\n",
    "    id_list_bwd_xy = np.linspace(id0_eps1_xy, id0_eps2_xy, id_list_numsamples_xy);\n",
    "    id_list_fwd_zy = np.linspace(id0_eps2_zy, id0_eps1_zy, id_list_numsamples_zy);\n",
    "    id_list_bwd_zy = np.linspace(id0_eps1_zy, id0_eps2_zy, id_list_numsamples_zy);\n",
    "    \n",
    "    vol_fwd = 0;\n",
    "    for i in range(1, id_list_numsamples_xy): # i=2:length(id_list_fwd_xy)\n",
    "        for j in range(1, id_list_numsamples_zy): # j=2:length(id_list_fwd_zy)\n",
    "            radial_pos_i_xy_i_zy     = int(np.sqrt((id_list_fwd_xy[i] - id_zero)**2 + (id_list_fwd_zy[j] - id_zero)**2))\n",
    "            radial_pos_im1_xy_i_zy   = radial_pos_i_xy_i_zy-1; # this is an approximation, while this should really go into the expression above, since that would not hit a different LUT value for very small angles, we do this\n",
    "            radial_pos_i_xy_im1_zy   = radial_pos_i_xy_i_zy-1; # this is an approximation, while this should really go into the expression above, since that would not hit a different LUT value for very small angles, we do this\n",
    "            radial_pos_im1_xy_im1_zy = radial_pos_i_xy_i_zy-2; # this is an approximation, while this should really go into the expression above, since that would not hit a different LUT value for very small angles, we do this\n",
    "            avg_y_val = (rad_pat[1,radial_pos_i_xy_i_zy+id_zero] + \\\n",
    "                rad_pat[1,radial_pos_im1_xy_i_zy+id_zero] + \\\n",
    "                rad_pat[1,radial_pos_i_xy_im1_zy+id_zero] + \\\n",
    "                rad_pat[1,radial_pos_im1_xy_im1_zy+id_zero] )/4 ;\n",
    "            vol_fwd = vol_fwd + (rad_pat[0,radial_pos_i_xy_i_zy+id_zero]-rad_pat[0,radial_pos_im1_xy_i_zy+id_zero])* \\\n",
    "                (rad_pat[0,radial_pos_i_xy_i_zy+id_zero]-rad_pat[0,radial_pos_i_xy_im1_zy+id_zero])* \\\n",
    "                avg_y_val;\n",
    "\n",
    "    vol_bwd = 0;\n",
    "    for i in range(1, id_list_numsamples_xy): # i=2:length(id_list_bwd_xy)\n",
    "        for j in range(1, id_list_numsamples_zy): # j=2:length(id_list_bwd_zy)\n",
    "            radial_pos_i_xy_i_zy     = int(np.sqrt((id_list_bwd_xy[i] - id_zero)**2 + (id_list_bwd_zy[j] - id_zero)**2))\n",
    "            radial_pos_im1_xy_i_zy   = radial_pos_i_xy_i_zy-1; # this is an approximation, while this should really go into the expression above, since that would not hit a different LUT value for very small angles, we do this\n",
    "            radial_pos_i_xy_im1_zy   = radial_pos_i_xy_i_zy-1; # this is an approximation, while this should really go into the expression above, since that would not hit a different LUT value for very small angles, we do this\n",
    "            radial_pos_im1_xy_im1_zy = radial_pos_i_xy_i_zy-2; # this is an approximation, while this should really go into the expression above, since that would not hit a different LUT value for very small angles, we do this\n",
    "            avg_y_val = (rad_pat[1,radial_pos_i_xy_i_zy+id_zero] + \\\n",
    "                rad_pat[1,radial_pos_im1_xy_i_zy+id_zero] + \\\n",
    "                rad_pat[1,radial_pos_i_xy_im1_zy+id_zero] + \\\n",
    "                rad_pat[1,radial_pos_im1_xy_im1_zy+id_zero] )/4 ;\n",
    "            vol_bwd = vol_bwd + (rad_pat[0,radial_pos_i_xy_i_zy+id_zero]-rad_pat[0,radial_pos_im1_xy_i_zy+id_zero])* \\\n",
    "                (rad_pat[0,radial_pos_i_xy_i_zy+id_zero]-rad_pat[0,radial_pos_i_xy_im1_zy+id_zero])* \\\n",
    "                avg_y_val;\n",
    "\n",
    "    # we compensate the above approximations by averaging forward and backward passes, \n",
    "    # based on the fact that the curve we're doing this on is very smooth.  \n",
    "    vol = (vol_fwd+vol_bwd)/2;\n",
    "    return vol"
   ]
  },
  {
   "cell_type": "code",
   "execution_count": 5,
   "metadata": {
    "scrolled": false
   },
   "outputs": [
    {
     "name": "stdout",
     "output_type": "stream",
     "text": [
      "normalization factor:  1769.3030716257742\n"
     ]
    }
   ],
   "source": [
    "normalization_factor = radSymSrc3dIntegral( pattern_indexed, -90, 90, -90, 90);\n",
    "print(\"normalization factor: \", normalization_factor)"
   ]
  },
  {
   "cell_type": "code",
   "execution_count": 6,
   "metadata": {},
   "outputs": [],
   "source": [
    "np.savez('../tx_lambertian_20deg_2W.npz', \n",
    "         power = power,\n",
    "         half_angle = half_angle,\n",
    "         normalization_factor = normalization_factor)"
   ]
  },
  {
   "cell_type": "markdown",
   "metadata": {},
   "source": [
    "# headlight (LbSedan1)\n",
    "\n",
    "low beams are typically 50-55Ws, but our scenarios cover tail-lights, and we're just trying to understand how much effect real headlight patterns have compared to lambertians, so we just use a lower power setting with the same pattern. We use the same power setting as the lambertian for fair comparison"
   ]
  },
  {
   "cell_type": "markdown",
   "metadata": {},
   "source": [
    "first get Agon's measurements from the veins_vlc repo"
   ]
  },
  {
   "cell_type": "code",
   "execution_count": 7,
   "metadata": {},
   "outputs": [],
   "source": [
    "!wget -L https://raw.githubusercontent.com/veins/veins_vlc/35ae3f2fb8c276e1d75d8bf263fc674e6a33b21c/examples/veins-vlc/radiationPatterns.txt"
   ]
  },
  {
   "cell_type": "code",
   "execution_count": 8,
   "metadata": {},
   "outputs": [],
   "source": [
    "power = 2.0;  # [W]"
   ]
  },
  {
   "cell_type": "code",
   "execution_count": 9,
   "metadata": {},
   "outputs": [],
   "source": [
    "with open(\"radiationPatterns.txt\",\"r\") as f:\n",
    "    radpatfile_lineslist_asString = f.readlines()\n",
    "    \n",
    "# make sure you submit lines with number arrays here, not the index lines\n",
    "def getarray_from_radpatfile(lineslistfromradpatfile, linenum_0indexed):\n",
    "    # last element is a newline, that's why the list goes up to -1\n",
    "    return np.array([float(i) for i in lineslistfromradpatfile[linenum_0indexed].split(\" \")[:-1]])"
   ]
  },
  {
   "cell_type": "code",
   "execution_count": 10,
   "metadata": {},
   "outputs": [],
   "source": [
    "LbSedan1_patternL_flat         = getarray_from_radpatfile(radpatfile_lineslist_asString, 7)\n",
    "LbSedan1_anglesL_flat          = getarray_from_radpatfile(radpatfile_lineslist_asString, 9)\n",
    "\n",
    "## we don't need these, we'll just simulate for 1 TX\n",
    "## and our power transmission model disregards spectral diversity without loss of generality\n",
    "#LbSedan1_patternR_flat         = getarray_from_radpatfile(radpatfile_lineslist_asString, 8)\n",
    "#LbSedan1_anglesR_flat          = getarray_from_radpatfile(radpatfile_lineslist_asString, 10)\n",
    "#LbSedan1_spectralEmission_flat = getarray_from_radpatfile(radpatfile_lineslist_asString, 11)\n",
    "\n",
    "# this part is adapted from the veins_vlc readers for the radiation pattern file\n",
    "def getpatternval(irradPhi, irradTheta, angles, flatpattern):\n",
    "    indexPhi   = (np.round((irradPhi - angles[0]) / angles[2])).astype(int)\n",
    "    indexTheta = (np.round((irradTheta - angles[3]) / angles[5])).astype(int)\n",
    "    rowLength  = (np.round((angles[1] - angles[0] + angles[2]) / angles[2])).astype(int)\n",
    "    indexFlat  = (rowLength * indexTheta) + indexPhi\n",
    "    value      = flatpattern[indexFlat]\n",
    "    return value\n",
    "\n",
    "# 0: angle start, 1: angle end, 2: angle resolution for the lateral axis. \n",
    "# Same goes for 3,4,5 respectively, but for the vertical (azimuth?) axis.\n",
    "irradPhiArray   = np.arange(LbSedan1_anglesL_flat[0], LbSedan1_anglesL_flat[1], LbSedan1_anglesL_flat[2])\n",
    "irradThetaArray = np.arange(LbSedan1_anglesL_flat[3], LbSedan1_anglesL_flat[4], LbSedan1_anglesL_flat[5])\n",
    "\n",
    "mesh_irradPhiArray, mesh_irradThetaArray = np.meshgrid(irradPhiArray, irradThetaArray)\n",
    "\n",
    "pattern = getpatternval(mesh_irradPhiArray, mesh_irradThetaArray, LbSedan1_anglesL_flat, LbSedan1_patternL_flat)\n",
    "pattern = pattern/pattern.max()"
   ]
  },
  {
   "cell_type": "code",
   "execution_count": 11,
   "metadata": {},
   "outputs": [],
   "source": [
    "# ref: https://stackoverflow.com/a/23734295\n",
    "@njit(parallel=True, fastmath=True)\n",
    "def find_k_nearest(array, value, k):\n",
    "    array = np.asarray(array)\n",
    "    vals  = np.abs(array - value)\n",
    "    idx   = vals.argsort()[:k]\n",
    "    #idx   = idx[np.argsort(vals[idx])]\n",
    "    return idx\n",
    "\n",
    "@njit(parallel=True, fastmath=True)\n",
    "def getinterp(y2,y1,x2,x1,xnew):\n",
    "    return (xnew-x1)*(y2-y1)/(x2-x1)+y1\n",
    "\n",
    "@njit(parallel=True, fastmath=True)\n",
    "def asymmetricSrc3dIntegral_smallangle( pat, theta_anglearray, phi_anglearray, eps1_xy, eps2_xy, eps1_zy, eps2_zy ):\n",
    "    ids_eps1_xy   = find_k_nearest(theta_anglearray, eps1_xy, 2) # we get 2 values since an exact hit is improbable\n",
    "    idtop_eps1_xy = ids_eps1_xy.max() # closest top point\n",
    "    idbot_eps1_xy = ids_eps1_xy.min() # closest bottom point\n",
    "    eps1_xy_top = theta_anglearray[idtop_eps1_xy]\n",
    "    eps1_xy_bot = theta_anglearray[idbot_eps1_xy]\n",
    "    \n",
    "    # same for other 3 quantities\n",
    "    ids_eps2_xy   = find_k_nearest(theta_anglearray, eps2_xy, 2);\n",
    "    idtop_eps2_xy = ids_eps2_xy.max()\n",
    "    idbot_eps2_xy = ids_eps2_xy.min()\n",
    "    eps2_xy_top = theta_anglearray[idtop_eps2_xy]\n",
    "    eps2_xy_bot = theta_anglearray[idbot_eps2_xy]\n",
    "    \n",
    "    ids_eps1_zy   = find_k_nearest(phi_anglearray, eps1_zy, 2);\n",
    "    idtop_eps1_zy = ids_eps1_zy.max()\n",
    "    idbot_eps1_zy = ids_eps1_zy.min()\n",
    "    eps1_zy_top = phi_anglearray[idtop_eps1_zy]\n",
    "    eps1_zy_bot = phi_anglearray[idbot_eps1_zy]\n",
    "    \n",
    "    ids_eps2_zy   = find_k_nearest(phi_anglearray, eps2_zy, 2);\n",
    "    idtop_eps2_zy = ids_eps2_zy.max()\n",
    "    idbot_eps2_zy = ids_eps2_zy.min()\n",
    "    eps2_zy_top = phi_anglearray[idtop_eps2_zy]\n",
    "    eps2_zy_bot = phi_anglearray[idbot_eps2_zy]\n",
    "    \n",
    "    # first compute the interp heights on the two sides of the plane,\n",
    "    # then use their height vals for a final interp over the other axis.\n",
    "    eps1xy1zy_z_bot_bot = pat[idbot_eps1_xy, idbot_eps1_zy]\n",
    "    eps1xy1zy_z_bot_top = pat[idbot_eps1_xy, idtop_eps1_zy]\n",
    "    eps1xy1zy_z_top_bot = pat[idtop_eps1_xy, idbot_eps1_zy]\n",
    "    eps1xy1zy_z_top_top = pat[idtop_eps1_xy, idtop_eps1_zy]\n",
    "    eps1xy1zy_z_interp_right = getinterp(eps1xy1zy_z_top_top, eps1xy1zy_z_top_bot, \n",
    "                                         eps1_zy_top, eps1_zy_bot, eps1_zy)\n",
    "    eps1xy1zy_z_interp_left  = getinterp(eps1xy1zy_z_bot_top, eps1xy1zy_z_bot_bot, \n",
    "                                         eps1_zy_top, eps1_zy_bot, eps1_zy)\n",
    "    eps1xy1zy_z_interp_final = getinterp(eps1xy1zy_z_interp_right, eps1xy1zy_z_interp_left, \n",
    "                                         eps1_xy_top, eps1_xy_bot, eps1_xy)\n",
    "\n",
    "    # repeat for the other 3 eps points  \n",
    "    eps1xy2zy_z_bot_bot = pat[idbot_eps1_xy, idbot_eps2_zy]\n",
    "    eps1xy2zy_z_bot_top = pat[idbot_eps1_xy, idtop_eps2_zy]\n",
    "    eps1xy2zy_z_top_bot = pat[idtop_eps1_xy, idbot_eps2_zy]\n",
    "    eps1xy2zy_z_top_top = pat[idtop_eps1_xy, idtop_eps2_zy]\n",
    "    eps1xy2zy_z_interp_right = getinterp(eps1xy2zy_z_top_top, eps1xy2zy_z_top_bot, \n",
    "                                         eps2_zy_top, eps2_zy_bot, eps2_zy)\n",
    "    eps1xy2zy_z_interp_left  = getinterp(eps1xy2zy_z_bot_top, eps1xy2zy_z_bot_bot, \n",
    "                                         eps2_zy_top, eps2_zy_bot, eps2_zy)\n",
    "    eps1xy2zy_z_interp_final = getinterp(eps1xy2zy_z_interp_right, eps1xy2zy_z_interp_left, \n",
    "                                         eps1_xy_top, eps1_xy_bot, eps1_xy)\n",
    "\n",
    "    eps2xy1zy_z_bot_bot = pat[idbot_eps2_xy, idbot_eps1_zy]\n",
    "    eps2xy1zy_z_bot_top = pat[idbot_eps2_xy, idtop_eps1_zy]\n",
    "    eps2xy1zy_z_top_bot = pat[idtop_eps2_xy, idbot_eps1_zy]\n",
    "    eps2xy1zy_z_top_top = pat[idtop_eps2_xy, idtop_eps1_zy]\n",
    "    eps2xy1zy_z_interp_right = getinterp(eps2xy1zy_z_top_top, eps2xy1zy_z_top_bot, \n",
    "                                         eps1_zy_top, eps1_zy_bot, eps1_zy)\n",
    "    eps2xy1zy_z_interp_left  = getinterp(eps2xy1zy_z_bot_top, eps2xy1zy_z_bot_bot, \n",
    "                                         eps1_zy_top, eps1_zy_bot, eps1_zy)\n",
    "    eps2xy1zy_z_interp_final = getinterp(eps2xy1zy_z_interp_right, eps2xy1zy_z_interp_left, \n",
    "                                         eps2_xy_top, eps2_xy_bot, eps2_xy)\n",
    "    \n",
    "    eps2xy2zy_z_bot_bot = pat[idbot_eps2_xy, idbot_eps2_zy]\n",
    "    eps2xy2zy_z_bot_top = pat[idbot_eps2_xy, idtop_eps2_zy]\n",
    "    eps2xy2zy_z_top_bot = pat[idtop_eps2_xy, idbot_eps2_zy]\n",
    "    eps2xy2zy_z_top_top = pat[idtop_eps2_xy, idtop_eps2_zy]\n",
    "    eps2xy2zy_z_interp_right = getinterp(eps2xy2zy_z_top_top, eps2xy2zy_z_top_bot, \n",
    "                                         eps2_zy_top, eps2_zy_bot, eps2_zy)\n",
    "    eps2xy2zy_z_interp_left  = getinterp(eps2xy2zy_z_bot_top, eps2xy2zy_z_bot_bot, \n",
    "                                         eps2_zy_top, eps2_zy_bot, eps2_zy)\n",
    "    eps2xy2zy_z_interp_final = getinterp(eps2xy2zy_z_interp_right, eps2xy2zy_z_interp_left, \n",
    "                                         eps2_xy_top, eps2_xy_bot, eps2_xy)\n",
    "    \n",
    "    vol = (eps2_xy - eps1_xy)*(eps2_zy - eps1_zy) * \\\n",
    "          (eps1xy1zy_z_interp_final + eps1xy2zy_z_interp_final +\\\n",
    "           eps2xy1zy_z_interp_final + eps2xy2zy_z_interp_final)/4\n",
    "    \n",
    "    return vol\n",
    "\n",
    "def asymmetricSrc3dIntegral_largeangle(pat, theta_anglearray, phi_anglearray, eps1_xy, eps2_xy, eps1_zy, eps2_zy):\n",
    "    id0_eps1_xy = find_nearest(theta_anglearray, eps1_xy);\n",
    "    id0_eps2_xy = find_nearest(theta_anglearray, eps2_xy);\n",
    "    id0_eps1_zy = find_nearest(phi_anglearray, eps1_zy);\n",
    "    id0_eps2_zy = find_nearest(phi_anglearray, eps2_zy);\n",
    "    \n",
    "    id_list_numsamples_xy = int(abs(id0_eps2_xy-id0_eps1_xy)+1);\n",
    "    id_list_numsamples_zy = int(abs(id0_eps2_zy-id0_eps1_zy)+1);\n",
    "    \n",
    "    id_list_fwd_xy = np.linspace(id0_eps2_xy, id0_eps1_xy, id_list_numsamples_xy).astype(np.int64);\n",
    "    id_list_fwd_zy = np.linspace(id0_eps2_zy, id0_eps1_zy, id_list_numsamples_zy).astype(np.int64);\n",
    "    vol = 0;\n",
    "    for i in range(1, id_list_numsamples_xy): # i=2:length(id_list_fwd_xy)\n",
    "        for j in range(1, id_list_numsamples_zy): # j=2:length(id_list_fwd_zy)\n",
    "            new_vol = asymmetricSrc3dIntegral_smallangle(pat, theta_anglearray, phi_anglearray, \n",
    "                                                         theta_anglearray[id_list_fwd_xy[i-1]], \n",
    "                                                         theta_anglearray[id_list_fwd_xy[i]], \n",
    "                                                         phi_anglearray[id_list_fwd_zy[j-1]], \n",
    "                                                         phi_anglearray[id_list_fwd_zy[j]])\n",
    "            vol = vol + new_vol;\n",
    "\n",
    "    return vol"
   ]
  },
  {
   "cell_type": "code",
   "execution_count": 12,
   "metadata": {
    "scrolled": false
   },
   "outputs": [
    {
     "name": "stderr",
     "output_type": "stream",
     "text": [
      "/tmp/ipykernel_3305/4149881451.py:47: NumbaPerformanceWarning: \n",
      "The keyword argument 'parallel=True' was specified but no transformation for parallel execution was possible.\n",
      "\n",
      "To find out why, try turning on parallel diagnostics, see https://numba.readthedocs.io/en/stable/user/parallel.html#diagnostics for help.\n",
      "\n",
      "File \"../../../../../tmp/ipykernel_3305/4149881451.py\", line 10:\n",
      "<source missing, REPL/exec in use?>\n",
      "\n",
      "  eps1xy1zy_z_interp_right = getinterp(eps1xy1zy_z_top_top, eps1xy1zy_z_top_bot,\n"
     ]
    },
    {
     "name": "stdout",
     "output_type": "stream",
     "text": [
      "normalization factor:  77.22449038391461\n"
     ]
    }
   ],
   "source": [
    "normalization_factor = asymmetricSrc3dIntegral_largeangle(pattern, irradThetaArray, irradPhiArray, \n",
    "                                                          irradThetaArray[0], irradThetaArray[-1],\n",
    "                                                          irradPhiArray[0], irradPhiArray[-1])\n",
    "print(\"normalization factor: \", normalization_factor)"
   ]
  },
  {
   "cell_type": "code",
   "execution_count": 13,
   "metadata": {},
   "outputs": [],
   "source": [
    "np.savez('../tx_AgonLbSedan1_2W.npz', \n",
    "         power = power,\n",
    "         phi_array = irradPhiArray,\n",
    "         theta_array = irradThetaArray,\n",
    "         pattern = pattern,\n",
    "         normalization_factor = normalization_factor)"
   ]
  },
  {
   "cell_type": "code",
   "execution_count": null,
   "metadata": {},
   "outputs": [],
   "source": []
  }
 ],
 "metadata": {
  "kernelspec": {
   "display_name": "Python 3 (ipykernel)",
   "language": "python",
   "name": "python3"
  },
  "language_info": {
   "codemirror_mode": {
    "name": "ipython",
    "version": 3
   },
   "file_extension": ".py",
   "mimetype": "text/x-python",
   "name": "python",
   "nbconvert_exporter": "python",
   "pygments_lexer": "ipython3",
   "version": "3.10.12"
  }
 },
 "nbformat": 4,
 "nbformat_minor": 4
}
