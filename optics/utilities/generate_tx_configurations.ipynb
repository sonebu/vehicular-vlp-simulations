{
 "cells": [
  {
   "cell_type": "markdown",
   "metadata": {},
   "source": [
    "# Transmitters\n",
    "\n",
    "2 transmitters are considered:\n",
    "\n",
    "- 2 W tail-light, lambertian pattern, 20$^\\circ$ half angle. This imitates the transmitter configuration used in the following article: Béchadergue, B., Chassagne, L., & Guan, H. (2017, October). \"_A visible light-based system for automotive relative positioning_\". IEEE SENSORS\n",
    "\n",
    "- real headlight pattern from Memedi, A., Tebruegge, C., Jahneke, J., & Dressler, F. (2018, December). \"_Impact of vehicle type and headlight characteristics on vehicular VLC performance_\". In 2018 IEEE Vehicular Networking Conference (VNC) (pp. 1-8). IEEE."
   ]
  },
  {
   "cell_type": "code",
   "execution_count": 1,
   "metadata": {},
   "outputs": [],
   "source": [
    "%matplotlib inline\n",
    "import numpy as np\n",
    "import os\n",
    "\n",
    "import matplotlib.pyplot as plt\n",
    "import numpy as np"
   ]
  },
  {
   "cell_type": "markdown",
   "metadata": {},
   "source": [
    "## tail-light, 2 W, lambertian, 20$^\\circ$ half angle"
   ]
  },
  {
   "cell_type": "code",
   "execution_count": 2,
   "metadata": {},
   "outputs": [],
   "source": [
    "power      = 2.0;  # [W]\n",
    "half_angle = 20.0; # [deg]\n",
    "\n",
    "angle_sweep_resolution = 0.02; # [deg]\n",
    "# enlarge square array (by sqrt(2)x) so that the integrator doesn't hit bounds\n",
    "angle_sweep_high       =  90*np.sqrt(2)\n",
    "angle_sweep_low        = -90*np.sqrt(2)\n",
    "angle_sweep_numsamples = int(((angle_sweep_high - angle_sweep_low)/angle_sweep_resolution))\n",
    "angle_sweep_array_sqr  = np.linspace(angle_sweep_low, angle_sweep_high, num=angle_sweep_numsamples)\n",
    "\n",
    "lambertian_order = np.round(-np.log(2)/np.log(np.cos(np.deg2rad(half_angle))));\n",
    "pattern          = np.cos(np.deg2rad(angle_sweep_array_sqr))**lambertian_order;\n",
    "pattern_indexed  = np.concatenate((np.expand_dims(angle_sweep_array_sqr, axis=0), np.expand_dims(pattern, axis=0)), axis=0)"
   ]
  },
  {
   "cell_type": "code",
   "execution_count": 3,
   "metadata": {
    "scrolled": true
   },
   "outputs": [
    {
     "data": {
      "image/png": "[encoded data removed]",
      "text/plain": [
       "<Figure size 432x288 with 1 Axes>"
      ]
     },
     "metadata": {
      "needs_background": "light"
     },
     "output_type": "display_data"
    }
   ],
   "source": [
    "fig, ax = plt.subplots()\n",
    "ax.plot(pattern_indexed[0,:], pattern_indexed[1,:])\n",
    "ax.grid()\n",
    "plt.show()"
   ]
  },
  {
   "cell_type": "markdown",
   "metadata": {},
   "source": [
    "we need to compute the normalization factor for this pattern, which is the area under the angle-wise relative illumination curve shown above\n",
    "\n",
    "the total irradiance from the TX (over the whole area it shines on), is (power x integral_of_the_relative_illum_curve / normalization_factor )\n",
    "\n",
    "we'll compute the actual integral during the simulation trapezoidally for higher accuracy, but the angle span will always be really small anyhow "
   ]
  },
  {
   "cell_type": "code",
   "execution_count": 4,
   "metadata": {},
   "outputs": [],
   "source": [
    "def find_nearest(array, value):\n",
    "    array = np.asarray(array)\n",
    "    idx = (np.abs(array - value)).argmin()\n",
    "    return idx\n",
    "\n",
    "def radSymSrc3dIntegral( rad_pat, eps1_xy, eps2_xy, eps1_zy, eps2_zy ):\n",
    "    id0_eps1_xy = find_nearest(rad_pat[0,:], eps1_xy);\n",
    "    id0_eps2_xy = find_nearest(rad_pat[0,:], eps2_xy);\n",
    "    id0_eps1_zy = find_nearest(rad_pat[0,:], eps1_zy);\n",
    "    id0_eps2_zy = find_nearest(rad_pat[0,:], eps2_zy);\n",
    "\n",
    "    id_zero = int(rad_pat.shape[1]/2); # works because python is 0 indexed\n",
    "    \n",
    "    id_list_numsamples_xy = int(abs(id0_eps2_xy-id0_eps1_xy)+1);\n",
    "    id_list_numsamples_zy = int(abs(id0_eps2_zy-id0_eps1_zy)+1);\n",
    "    \n",
    "    id_list_fwd_xy = np.linspace(id0_eps2_xy, id0_eps1_xy, num=id_list_numsamples_xy);\n",
    "    id_list_bwd_xy = np.linspace(id0_eps1_xy, id0_eps2_xy, num=id_list_numsamples_xy);\n",
    "    id_list_fwd_zy = np.linspace(id0_eps2_zy, id0_eps1_zy, num=id_list_numsamples_zy);\n",
    "    id_list_bwd_zy = np.linspace(id0_eps1_zy, id0_eps2_zy, num=id_list_numsamples_zy);\n",
    "    \n",
    "    vol_fwd = 0;\n",
    "    for i in range(1, id_list_numsamples_xy): # i=2:length(id_list_fwd_xy)\n",
    "        for j in range(1, id_list_numsamples_zy): # j=2:length(id_list_fwd_zy)\n",
    "            radial_pos_i_xy_i_zy     = int(np.sqrt((id_list_fwd_xy[i] - id_zero)**2 + (id_list_fwd_zy[j] - id_zero)**2))\n",
    "            radial_pos_im1_xy_i_zy   = radial_pos_i_xy_i_zy-1; # this is an approximation, while this should really go into the expression above, since that would not hit a different LUT value for very small angles, we do this\n",
    "            radial_pos_i_xy_im1_zy   = radial_pos_i_xy_i_zy-1; # this is an approximation, while this should really go into the expression above, since that would not hit a different LUT value for very small angles, we do this\n",
    "            radial_pos_im1_xy_im1_zy = radial_pos_i_xy_i_zy-2; # this is an approximation, while this should really go into the expression above, since that would not hit a different LUT value for very small angles, we do this\n",
    "            avg_y_val = (rad_pat[1,radial_pos_i_xy_i_zy+id_zero] + \\\n",
    "                rad_pat[1,radial_pos_im1_xy_i_zy+id_zero] + \\\n",
    "                rad_pat[1,radial_pos_i_xy_im1_zy+id_zero] + \\\n",
    "                rad_pat[1,radial_pos_im1_xy_im1_zy+id_zero] )/4 ;\n",
    "            vol_fwd = vol_fwd + (rad_pat[0,radial_pos_i_xy_i_zy+id_zero]-rad_pat[0,radial_pos_im1_xy_i_zy+id_zero])* \\\n",
    "                (rad_pat[0,radial_pos_i_xy_i_zy+id_zero]-rad_pat[0,radial_pos_i_xy_im1_zy+id_zero])* \\\n",
    "                avg_y_val;\n",
    "\n",
    "    vol_bwd = 0;\n",
    "    for i in range(1, id_list_numsamples_xy): # i=2:length(id_list_bwd_xy)\n",
    "        for j in range(1, id_list_numsamples_zy): # j=2:length(id_list_bwd_zy)\n",
    "            radial_pos_i_xy_i_zy     = int(np.sqrt((id_list_bwd_xy[i] - id_zero)**2 + (id_list_bwd_zy[j] - id_zero)**2))\n",
    "            radial_pos_im1_xy_i_zy   = radial_pos_i_xy_i_zy-1; # this is an approximation, while this should really go into the expression above, since that would not hit a different LUT value for very small angles, we do this\n",
    "            radial_pos_i_xy_im1_zy   = radial_pos_i_xy_i_zy-1; # this is an approximation, while this should really go into the expression above, since that would not hit a different LUT value for very small angles, we do this\n",
    "            radial_pos_im1_xy_im1_zy = radial_pos_i_xy_i_zy-2; # this is an approximation, while this should really go into the expression above, since that would not hit a different LUT value for very small angles, we do this\n",
    "            avg_y_val = (rad_pat[1,radial_pos_i_xy_i_zy+id_zero] + \\\n",
    "                rad_pat[1,radial_pos_im1_xy_i_zy+id_zero] + \\\n",
    "                rad_pat[1,radial_pos_i_xy_im1_zy+id_zero] + \\\n",
    "                rad_pat[1,radial_pos_im1_xy_im1_zy+id_zero] )/4 ;\n",
    "            vol_bwd = vol_bwd + (rad_pat[0,radial_pos_i_xy_i_zy+id_zero]-rad_pat[0,radial_pos_im1_xy_i_zy+id_zero])* \\\n",
    "                (rad_pat[0,radial_pos_i_xy_i_zy+id_zero]-rad_pat[0,radial_pos_i_xy_im1_zy+id_zero])* \\\n",
    "                avg_y_val;\n",
    "\n",
    "    # we compensate the above approximations by averaging forward and backward passes, \n",
    "    # based on the fact that the curve we're doing this on is very smooth.  \n",
    "    vol = (vol_fwd+vol_bwd)/2;\n",
    "    return vol"
   ]
  },
  {
   "cell_type": "code",
   "execution_count": 5,
   "metadata": {},
   "outputs": [
    {
     "name": "stdout",
     "output_type": "stream",
     "text": [
      "normalization factor:  1769.3030716069761\n"
     ]
    }
   ],
   "source": [
    "normalization_factor = radSymSrc3dIntegral( pattern_indexed, -90, 90, -90, 90);\n",
    "print(\"normalization factor: \", normalization_factor)"
   ]
  },
  {
   "cell_type": "code",
   "execution_count": 6,
   "metadata": {},
   "outputs": [],
   "source": [
    "np.savez('../tx_lambertian_20deg_2W.npz', \n",
    "         power = power,\n",
    "         half_angle = half_angle,\n",
    "         normalization_factor = normalization_factor)"
   ]
  },
  {
   "cell_type": "markdown",
   "metadata": {},
   "source": [
    "# headlight (LbSedan1)\n",
    "\n",
    "low beams are typically 50-55Ws, but our scenarios cover tail-lights, and we're just trying to understand how much effect real headlight patterns have compared to lambertians, so we just use a lower power setting with the same pattern. We use the same power setting as the lambertian for fair comparison"
   ]
  },
  {
   "cell_type": "markdown",
   "metadata": {},
   "source": [
    "first get Agon's measurements from the veins_vlc repo"
   ]
  },
  {
   "cell_type": "code",
   "execution_count": 5,
   "metadata": {},
   "outputs": [
    {
     "name": "stdout",
     "output_type": "stream",
     "text": [
      "--2023-07-18 17:16:50--  https://raw.githubusercontent.com/veins/veins_vlc/35ae3f2fb8c276e1d75d8bf263fc674e6a33b21c/examples/veins-vlc/radiationPatterns.txt\n",
      "Resolving raw.githubusercontent.com (raw.githubusercontent.com)... 185.199.110.133, 185.199.111.133, 185.199.109.133, ...\n",
      "Connecting to raw.githubusercontent.com (raw.githubusercontent.com)|185.199.110.133|:443... connected.\n",
      "HTTP request sent, awaiting response... 200 OK\n",
      "Length: 10700029 (10M) [text/plain]\n",
      "Saving to: ‘radiationPatterns.txt’\n",
      "\n",
      "radiationPatterns.t 100%[===================>]  10,20M  5,67MB/s    in 1,8s    \n",
      "\n",
      "2023-07-18 17:16:53 (5,67 MB/s) - ‘radiationPatterns.txt’ saved [10700029/10700029]\n",
      "\n"
     ]
    }
   ],
   "source": [
    "!wget -L https://raw.githubusercontent.com/veins/veins_vlc/35ae3f2fb8c276e1d75d8bf263fc674e6a33b21c/examples/veins-vlc/radiationPatterns.txt"
   ]
  },
  {
   "cell_type": "code",
   "execution_count": 6,
   "metadata": {},
   "outputs": [],
   "source": [
    "power = 2.0;  # [W]"
   ]
  },
  {
   "cell_type": "code",
   "execution_count": 7,
   "metadata": {},
   "outputs": [],
   "source": [
    "with open(\"radiationPatterns.txt\",\"r\") as f:\n",
    "    radpatfile_lineslist_asString = f.readlines()\n",
    "    \n",
    "# make sure you submit lines with number arrays here, not the index lines\n",
    "def getarray_from_radpatfile(lineslistfromradpatfile, linenum_0indexed):\n",
    "    # last element is a newline, that's why the list goes up to -1\n",
    "    return np.array([float(i) for i in lineslistfromradpatfile[linenum_0indexed].split(\" \")[:-1]])"
   ]
  },
  {
   "cell_type": "code",
   "execution_count": null,
   "metadata": {},
   "outputs": [],
   "source": [
    "LbSedan1_patternL_flat         = getarray_from_radpatfile(radpatfile_lineslist_asString, 7)\n",
    "LbSedan1_anglesL_flat          = getarray_from_radpatfile(radpatfile_lineslist_asString, 9)\n",
    "\n",
    "## we don't need these, we'll just simulate for 1 TX\n",
    "## and our power transmission model disregards spectral diversity without loss of generality\n",
    "#LbSedan1_patternR_flat         = getarray_from_radpatfile(radpatfile_lineslist_asString, 8)\n",
    "#LbSedan1_anglesR_flat          = getarray_from_radpatfile(radpatfile_lineslist_asString, 10)\n",
    "#LbSedan1_spectralEmission_flat = getarray_from_radpatfile(radpatfile_lineslist_asString, 11)\n",
    "\n",
    "# this part is adapted from the veins_vlc readers for the radiation pattern file\n",
    "def getpatternval(irradPhi, irradTheta, angles, flatpattern):\n",
    "    indexPhi   = (np.round((irradPhi - angles[0]) / angles[2])).astype(int)\n",
    "    indexTheta = (np.round((irradTheta - angles[3]) / angles[5])).astype(int)\n",
    "    rowLength  = (np.round((angles[1] - angles[0] + angles[2]) / angles[2])).astype(int)\n",
    "    indexFlat  = (rowLength * indexTheta) + indexPhi\n",
    "    value      = flatpattern[indexFlat]\n",
    "    return value\n",
    "\n",
    "# 0: angle start, 1: angle end, 2: angle resolution for the lateral axis. \n",
    "# Same goes for 3,4,5 respectively, but for the vertical (azimuth?) axis.\n",
    "irradPhiArray   = np.arange(LbSedan1_anglesL_flat[0], LbSedan1_anglesL_flat[1], LbSedan1_anglesL_flat[2])\n",
    "irradThetaArray = np.arange(LbSedan1_anglesL_flat[3], LbSedan1_anglesL_flat[4], LbSedan1_anglesL_flat[5])\n",
    "\n",
    "mesh_irradPhiArray, mesh_irradThetaArray = np.meshgrid(irradPhiArray, irradThetaArray)\n",
    "\n",
    "pattern = getpatternval(mesh_irradPhiArray, mesh_irradThetaArray, LbSedan1_anglesL_flat, )"
   ]
  },
  {
   "cell_type": "code",
   "execution_count": 8,
   "metadata": {},
   "outputs": [],
   "source": [
    "# integrator here"
   ]
  },
  {
   "cell_type": "code",
   "execution_count": null,
   "metadata": {},
   "outputs": [],
   "source": [
    "np.savez('../tx_AgonLbSedan1_2W.npz', \n",
    "         power = power,\n",
    "         pattern = pattern,\n",
    "         normalization_factor = normalization_factor)"
   ]
  }
 ],
 "metadata": {
  "kernelspec": {
   "display_name": "Python 3 (ipykernel)",
   "language": "python",
   "name": "python3"
  },
  "language_info": {
   "codemirror_mode": {
    "name": "ipython",
    "version": 3
   },
   "file_extension": ".py",
   "mimetype": "text/x-python",
   "name": "python",
   "nbconvert_exporter": "python",
   "pygments_lexer": "ipython3",
   "version": "3.10.11"
  }
 },
 "nbformat": 4,
 "nbformat_minor": 4
}
