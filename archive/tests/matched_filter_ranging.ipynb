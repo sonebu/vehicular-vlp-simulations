{
 "cells": [
  {
   "cell_type": "markdown",
   "id": "2cd92161",
   "metadata": {},
   "source": [
    "# Matched Filter for Phase Measurement\n",
    "\n",
    "Matched filters are typically used for digital phase / signal delay measurement, however, this is usually done when the measured delay is large (typically >>10 ns). To measure a delay amounting to 1 cm, the method needs to be able to measure 30 ps time difference since speed of light is 300M m/s. This requires sampling at prohibitively large rates (>10 GHz !!), thus, it's impractical.\n",
    "\n",
    "Still we show how it works below"
   ]
  },
  {
   "cell_type": "code",
   "execution_count": 1,
   "id": "8388e3b7",
   "metadata": {},
   "outputs": [],
   "source": [
    "import numpy             as np\n",
    "import matplotlib.pyplot as plt\n",
    "import time\n",
    "from scipy           import signal"
   ]
  },
  {
   "cell_type": "markdown",
   "id": "9bedc793",
   "metadata": {},
   "source": [
    "# bad matched filter (approximate)"
   ]
  },
  {
   "cell_type": "markdown",
   "id": "110461e8",
   "metadata": {},
   "source": [
    "https://stackoverflow.com/questions/19468733/how-to-implement-a-matched-filter"
   ]
  },
  {
   "cell_type": "code",
   "execution_count": 2,
   "id": "f7019057",
   "metadata": {},
   "outputs": [
    {
     "name": "stdout",
     "output_type": "stream",
     "text": [
      "0.010099996698932096\n",
      "delay_est: 4.989848484848485e-08 . actual delay: 5e-08\n"
     ]
    }
   ],
   "source": [
    "f_e = 1e6;\n",
    "dt = 1e-10;\n",
    "stop = 1e-4;\n",
    "delay = 5e-8;\n",
    "stdev = 0.001;\n",
    "atten = 0.01;\n",
    "\n",
    "s_simulation = np.linspace(dt, stop, int(stop/dt));\n",
    "s_e  = np.sin(2*np.pi* f_e *s_simulation - np.pi/32);\n",
    "s_rc = np.sin(2*np.pi* f_e *(s_simulation - delay) - np.pi/32)\n",
    "s_r  = atten*np.sin(2*np.pi* f_e *(s_simulation - delay) - np.pi/32) + stdev*np.random.randn((len(s_simulation)));\n",
    "atten_est = np.sqrt(np.mean(s_r*s_r))*np.sqrt(2)\n",
    "print(atten_est)\n",
    "template = s_e[0:int(1/(f_e*dt))];\n",
    "b = np.flipud(template)\n",
    "x = s_r\n",
    "n = range(0,len(x))\n",
    "y = signal.lfilter(b, np.ones(1), x);\n",
    "thresh = 0.9\n",
    "u = atten_est*np.dot(template, template);\n",
    "aa = y>(thresh*u)\n",
    "matches = np.asarray(n)[aa];\n",
    "steps = np.concatenate((np.asarray([0]), np.where(np.gradient(matches)>1)[0][1::2]))\n",
    "means = np.zeros((steps.shape[0]-1));\n",
    "for i in range(1,steps.shape[0]):\n",
    "    means[i-1] = np.mod( np.mean(matches[steps[i-1]:steps[i]]), int(1/(f_e*dt)) );\n",
    "print(\"delay_est:\", np.mean(means)*dt, \". actual delay:\", delay)"
   ]
  },
  {
   "cell_type": "markdown",
   "id": "fcf23ac1",
   "metadata": {},
   "source": [
    "# true matched filter"
   ]
  },
  {
   "cell_type": "code",
   "execution_count": 3,
   "id": "f42d60b1",
   "metadata": {},
   "outputs": [],
   "source": [
    "f_e = 1e6;\n",
    "dt = 1e-10;\n",
    "stop = 0.011;\n",
    "delay = 4.3e-8;\n",
    "stdev = 0.00001;\n",
    "atten = 0.01;\n",
    "\n",
    "s_simulation = np.linspace(dt, stop, int(stop/dt));\n",
    "s_e  = np.sin(2*np.pi* f_e *s_simulation - np.pi/32);\n",
    "s_r  = atten*np.sin(2*np.pi* f_e *(s_simulation - delay) - np.pi/32) + stdev*np.random.randn((len(s_simulation)));"
   ]
  },
  {
   "cell_type": "code",
   "execution_count": 4,
   "id": "9aed0118",
   "metadata": {},
   "outputs": [],
   "source": [
    "y = signal.correlate(s_e, s_r, 'same');"
   ]
  },
  {
   "cell_type": "code",
   "execution_count": 5,
   "id": "2468ad90",
   "metadata": {
    "scrolled": false
   },
   "outputs": [
    {
     "name": "stdout",
     "output_type": "stream",
     "text": [
      "measured delay: 4.3099999999254944e-08\n"
     ]
    }
   ],
   "source": [
    "print(\"measured delay:\", ((stop/(dt*2))-np.argmax(y))*dt)"
   ]
  },
  {
   "cell_type": "code",
   "execution_count": null,
   "id": "9d7e7016",
   "metadata": {},
   "outputs": [],
   "source": []
  }
 ],
 "metadata": {
  "kernelspec": {
   "display_name": "Python 3",
   "language": "python",
   "name": "python3"
  },
  "language_info": {
   "codemirror_mode": {
    "name": "ipython",
    "version": 3
   },
   "file_extension": ".py",
   "mimetype": "text/x-python",
   "name": "python",
   "nbconvert_exporter": "python",
   "pygments_lexer": "ipython3",
   "version": "3.8.10"
  }
 },
 "nbformat": 4,
 "nbformat_minor": 5
}
