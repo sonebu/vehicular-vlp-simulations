{
 "cells": [
  {
   "cell_type": "code",
   "execution_count": 1,
   "id": "ac5a252d",
   "metadata": {},
   "outputs": [],
   "source": [
    "import numpy as np\n",
    "import scipy as sp\n",
    "from scipy import signal\n",
    "import matplotlib.pyplot as plt\n",
    "import time\n",
    "from tqdm import tqdm\n",
    "from numba import njit\n",
    "\n",
    "from parameter_measurement import dflipflop_vec, counter_simulation_vec, rtof_d_measure, generate_clocks"
   ]
  },
  {
   "cell_type": "code",
   "execution_count": 2,
   "id": "7e22f6dd",
   "metadata": {},
   "outputs": [
    {
     "name": "stdout",
     "output_type": "stream",
     "text": [
      "sim stop time: 0.002625 s\n",
      "sim length   : 26250000 samples\n",
      "sim time res : 100.0 ps\n",
      "sim tvec size: 0.1955777406692505 GB\n",
      "sim space res: 2.99792458 cm\n",
      "\n",
      "d_min    : 2.9985242848569715 cm\n",
      "Nli d_min: 2.9985242848569715 cm\n",
      "rate     : 400.0 Hz\n"
     ]
    }
   ],
   "source": [
    "c         = 299792458  # [m/s] speed of light\n",
    "f_adc_clk = 1e8;       # [Hz], measurement clock freq\n",
    "f_e       = 1.0e6;     # [Hz], emitted wave freq, left TX\n",
    "r         = 4999;      # unitless, heterodyning factor\n",
    "N         = 1;         # unitless, averaging factor for left TX\n",
    "\n",
    "# (r+1)(n) çarpımı 15k\n",
    "\n",
    "f_sim = 1e10 # [Hz]\n",
    "\n",
    "t_sim, t_sim_stop, spatial_sim_resolution, s_sim, s_adc_clk_re = generate_clocks(c, f_e, N, r, f_sim, f_adc_clk)\n",
    "\n",
    "d_min = c/(2*r*f_e);\n",
    "\n",
    "print(\"sim stop time:\",t_sim_stop, \"s\")\n",
    "print(\"sim length   :\",int(t_sim_stop/t_sim),\"samples\")\n",
    "print(\"sim time res :\", t_sim*(10**12), \"ps\")\n",
    "print(\"sim tvec size:\", s_sim.nbytes/(1024**3), \"GB\")\n",
    "print(\"sim space res:\", 100*spatial_sim_resolution, \"cm\")\n",
    "print(\"\")\n",
    "print(\"d_min    :\", d_min*100, \"cm\")\n",
    "print(\"Nli d_min:\", d_min*100/N, \"cm\")\n",
    "print(\"rate     :\", 2*f_e/(N*(r+1)), \"Hz\")"
   ]
  },
  {
   "cell_type": "code",
   "execution_count": 3,
   "id": "14fc7e0c",
   "metadata": {},
   "outputs": [],
   "source": [
    "range_start = 1.02\n",
    "range_stop  = 20.10\n",
    "dp = np.linspace(range_start, range_stop, int((range_stop-range_start)/(100*spatial_sim_resolution))+1)\n",
    "dp = (t_sim*c)*np.round(dp/(t_sim*c))\n",
    "fp = dp/c"
   ]
  },
  {
   "cell_type": "code",
   "execution_count": 4,
   "id": "107f9319",
   "metadata": {},
   "outputs": [],
   "source": [
    "s_h = np.sin(2*np.pi* f_e*(r/(r+1))*s_sim - np.pi/32)>0;\n",
    "s_e = np.sin(2*np.pi* f_e *s_sim - np.pi/32)>0;\n",
    "s_gate = np.sin(2*np.pi* f_e*(1/(N*(r+1))) *s_sim - np.pi/32)>0;\n",
    "s_gate = s_gate[s_adc_clk_re]\n",
    "\n",
    "tx = np.sin(2*np.pi* f_e *s_sim[s_adc_clk_re] - np.pi/32);\n",
    "tx = np.fft.fft(tx);\n",
    "tx[0:int(tx.shape[0]/2)] = 0;\n",
    "tx = np.fft.ifft(tx);"
   ]
  },
  {
   "cell_type": "code",
   "execution_count": 5,
   "id": "d0132da4",
   "metadata": {},
   "outputs": [
    {
     "data": {
      "image/png": "[encoded data removed]",
      "text/plain": [
       "<Figure size 320x160 with 1 Axes>"
      ]
     },
     "metadata": {
      "needs_background": "light"
     },
     "output_type": "display_data"
    }
   ],
   "source": [
    "fig, ax = plt.subplots(figsize=(4, 2), dpi=80)\n",
    "ax.plot(s_gate)\n",
    "ax.grid()\n",
    "plt.show()"
   ]
  },
  {
   "cell_type": "code",
   "execution_count": 6,
   "id": "403d3612",
   "metadata": {},
   "outputs": [],
   "source": [
    "@njit(parallel=True, fastmath=True)\n",
    "def s_r_zc(f, s_simulation, delay):\n",
    "    return np.sin(2*np.pi*f*(s_simulation - 2*delay) - np.pi/32)>0;\n",
    "\n",
    "@njit(parallel=True, fastmath=True)\n",
    "def s_r_zc_noise(f, s_simulation, delay, n_stdev, noise):\n",
    "    return (np.sin(2*np.pi*f*(s_simulation - 2*delay) - np.pi/32) + n_stdev*noise)>0;\n",
    "\n",
    "@njit(parallel=True, fastmath=True)\n",
    "def gen_noise(s_sim_shape):\n",
    "    return np.random.randn(s_sim_shape);\n",
    "\n",
    "@njit(parallel=True, fastmath=True)\n",
    "def s_r_zc_justadd_noise(clean, n_stdev, noise):\n",
    "    return (clean + n_stdev*noise)>0;\n",
    "\n",
    "@njit(parallel=True, fastmath=True)\n",
    "def rob_justadd_noise(clean, n_stdev, noise):\n",
    "    return clean + n_stdev*noise;"
   ]
  },
  {
   "cell_type": "code",
   "execution_count": 7,
   "id": "cf5ee22a",
   "metadata": {},
   "outputs": [
    {
     "name": "stdout",
     "output_type": "stream",
     "text": [
      "[2.00000000e-03 6.32455532e-04 2.00000000e-04 6.32455532e-05\n",
      " 2.00000000e-05 6.32455532e-06 2.00000000e-06 6.32455532e-07\n",
      " 2.00000000e-07 6.32455532e-08]\n"
     ]
    }
   ],
   "source": [
    "snr_arr_db = np.linspace(-20,70,10);\n",
    "stdev_arr  = (10**(-snr_arr_db/20))*2e-4 ; # 2e-5 from (-2*(f_e*0.95)*t_sim + 2*(f_e*1.05)*t_sim)/1 bandpass filter\n",
    "print(stdev_arr)"
   ]
  },
  {
   "cell_type": "code",
   "execution_count": 8,
   "id": "341d454a",
   "metadata": {},
   "outputs": [
    {
     "name": "stderr",
     "output_type": "stream",
     "text": [
      "100%|██████████| 10/10 [00:42<00:00,  4.27s/it]\n"
     ]
    }
   ],
   "source": [
    "iterations = 10;\n",
    "d_act = fp*c\n",
    "#d_bec = np.zeros((iterations, fp.shape[0]))\n",
    "\n",
    "delay = fp[4]\n",
    "clean = np.sin(2*np.pi*f_e*(s_sim - 2*delay) - np.pi/32)\n",
    "d_bec = np.zeros((iterations, stdev_arr.shape[0]))\n",
    "d_rob = np.zeros((iterations, stdev_arr.shape[0]))\n",
    "\n",
    "for j in tqdm(range(0, iterations)):\n",
    "    ns = gen_noise(s_sim.shape[0]);\n",
    "#    for i in range(0, fp.shape[0]):\n",
    "#        delay = fp[i]\n",
    "    for i in range(0, stdev_arr.shape[0]):\n",
    "        ### roberts\n",
    "        rxr = sp.fft.fft(rob_justadd_noise(clean, stdev_arr[i], ns)[s_adc_clk_re]);\n",
    "        rxr[0:int(rxr.shape[0]/2)] = 0;\n",
    "        rxr = sp.fft.ifft(rxr);\n",
    "        \n",
    "        phase_shift_diff_est = np.mean(np.angle(tx * np.conjugate(rxr)));\n",
    "        del rxr\n",
    "        d_rob[j,i] = c*(phase_shift_diff_est/(2*np.pi*2*f_e))       \n",
    "        \n",
    "        ### becha\n",
    "        #s_r  = s_r_zc(f_e, s_sim, delay)\n",
    "        #s_r  = s_r_zc_noise(f_e, s_sim, delay, 0.01, ns)\n",
    "        s_r = s_r_zc_justadd_noise(clean, stdev_arr[i], ns)\n",
    "        s_eh = dflipflop_vec(s_e, s_h)[s_adc_clk_re]\n",
    "        s_rh = dflipflop_vec(s_r, s_h)[s_adc_clk_re]\n",
    "        del s_r\n",
    "        s_phi    = np.logical_xor(s_eh, s_rh);\n",
    "        s_phi_pp = s_phi*s_gate # clock applied implicitly with adc_clock_re\n",
    "\n",
    "        count = counter_simulation_vec(s_phi_pp, s_gate)\n",
    "        f_i = f_e/(r+1);\n",
    "        phase_shift_est = 2*np.pi*(np.asarray(count)*f_i/(N*f_adc_clk))\n",
    "        d_bec[j,i] = c*(phase_shift_est/(2*np.pi*2*f_e))"
   ]
  },
  {
   "cell_type": "code",
   "execution_count": 9,
   "id": "89488e2e",
   "metadata": {},
   "outputs": [
    {
     "data": {
      "image/png": "[encoded data removed]",
      "text/plain": [
       "<Figure size 640x480 with 1 Axes>"
      ]
     },
     "metadata": {
      "needs_background": "light"
     },
     "output_type": "display_data"
    }
   ],
   "source": [
    "fig, ax = plt.subplots(figsize=(8, 6), dpi=80)\n",
    "ax.plot(delay*c)\n",
    "ax.plot(np.mean(d_bec,axis=0))\n",
    "ax.plot(np.mean(-d_rob,axis=0))\n",
    "ax.grid()\n",
    "plt.show()"
   ]
  },
  {
   "cell_type": "code",
   "execution_count": 11,
   "id": "331fee11",
   "metadata": {},
   "outputs": [
    {
     "data": {
      "image/png": "[encoded data removed]",
      "text/plain": [
       "<Figure size 1600x480 with 1 Axes>"
      ]
     },
     "metadata": {
      "needs_background": "light"
     },
     "output_type": "display_data"
    }
   ],
   "source": [
    "fig, ax = plt.subplots(figsize=(20, 6), dpi=80)\n",
    "ax.semilogy(np.std(delay*c-d_bec,axis=0))\n",
    "ax.semilogy(np.std(delay*c+d_rob,axis=0))\n",
    "ax.grid()\n",
    "#ax2 = ax.twinx()\n",
    "#ax2.plot(np.mean(delay*c-d_bec,axis=0),'r')\n",
    "#ax2.plot(np.mean(delay*c+d_rob,axis=0),'g')\n",
    "plt.show()"
   ]
  },
  {
   "cell_type": "code",
   "execution_count": null,
   "id": "37552ba8",
   "metadata": {},
   "outputs": [],
   "source": []
  }
 ],
 "metadata": {
  "kernelspec": {
   "display_name": "Python 3",
   "language": "python",
   "name": "python3"
  },
  "language_info": {
   "codemirror_mode": {
    "name": "ipython",
    "version": 3
   },
   "file_extension": ".py",
   "mimetype": "text/x-python",
   "name": "python",
   "nbconvert_exporter": "python",
   "pygments_lexer": "ipython3",
   "version": "3.8.10"
  }
 },
 "nbformat": 4,
 "nbformat_minor": 5
}
