{
 "cells": [
  {
   "cell_type": "code",
   "execution_count": 1,
   "id": "e781362d",
   "metadata": {},
   "outputs": [],
   "source": [
    "import numpy             as np\n",
    "import matplotlib.pyplot as plt\n",
    "import time\n",
    "\n",
    "from tqdm            import tqdm\n",
    "\n",
    "from propagation import received_power, quad_distribute_power, propagation_delay, \\\n",
    "                        map_rx_config, map_tx_config\n",
    "\n",
    "from parameter_measurement import measure_xR_roberts, measure_DB_soner, generate_clocks"
   ]
  },
  {
   "cell_type": "code",
   "execution_count": 2,
   "id": "7f014437",
   "metadata": {},
   "outputs": [],
   "source": [
    "weather     = 'clear' \n",
    "temperature = 298 # Kelvin\n",
    "daynight    = 'night'\n",
    "\n",
    "\n",
    "daynight_noise_factors = dict()\n",
    "daynight_noise_factors['day_directsun']   = 1.000 # 5100 uA\n",
    "daynight_noise_factors['day_indirectsun'] = 0.145 # 740 uA\n",
    "daynight_noise_factors['night']           = 0.010 # very small\n",
    "\n",
    "# minmax bounds to be safe if you set the noise factor yourself\n",
    "bg_current = (np.minimum(1, np.maximum(0, daynight_noise_factors[daynight]))*5100)*1e-6;\n",
    "\n",
    "weather_attenuation_factors = dict()\n",
    "weather_attenuation_factors['clear'] = 0.0\n",
    "weather_attenuation_factors['rain']  = -0.05\n",
    "weather_attenuation_factors['fog']   = -0.2\n",
    "\n",
    "atten = weather_attenuation_factors[weather];"
   ]
  },
  {
   "cell_type": "markdown",
   "id": "f4cfe9ed",
   "metadata": {},
   "source": [
    "### loading"
   ]
  },
  {
   "cell_type": "code",
   "execution_count": 3,
   "id": "1e6ac02b",
   "metadata": {},
   "outputs": [],
   "source": [
    "L = 1.6 # vehicle width in meters, check below\n",
    "\n",
    "yRL_to_rxL = np.linspace(5.0,20.0,4);\n",
    "yRL_to_rxL = np.linspace(5.0,20.0,4);\n",
    "\n",
    "\n",
    "xRL_to_rxL = a['x_RL'][0:trajectory_partial_numsamples];  \n",
    "xRR_to_rxL = a['x_RR'][0:trajectory_partial_numsamples]; yRR_to_rxL = a['y_RR'][0:trajectory_partial_numsamples]\n",
    "yRL_to_rxR = a['y_RL'][0:trajectory_partial_numsamples]; yRR_to_rxR = a['y_RR'][0:trajectory_partial_numsamples]; \n",
    "hdg  = a['hdg'][0:trajectory_partial_numsamples];\n",
    "xRL_to_rxR = a['x_RL'][0:trajectory_partial_numsamples] - L;\n",
    "xRR_to_rxR = a['x_RR'][0:trajectory_partial_numsamples] - L;"
   ]
  },
  {
   "cell_type": "code",
   "execution_count": 4,
   "id": "da5e400f",
   "metadata": {},
   "outputs": [],
   "source": [
    "a = np.load('optics/qrx_planoconvex.npz');\n",
    "f_QRX, pd_snst, pd_gain, pd_dim, rx_P_rx_factor, rx_I_bg_factor, rx_thermal_factor1, rx_thermal_factor2 = map_rx_config(a);"
   ]
  },
  {
   "cell_type": "code",
   "execution_count": 5,
   "id": "8939e9c8",
   "metadata": {},
   "outputs": [],
   "source": [
    "a = np.load('optics/tx_lambertian_20deg_2W.npz')\n",
    "tx_ha, tx_pwr, tx_norm, tx_lambertian_order = map_tx_config(a);"
   ]
  },
  {
   "cell_type": "markdown",
   "id": "be10e396",
   "metadata": {},
   "source": [
    "### computing"
   ]
  },
  {
   "cell_type": "code",
   "execution_count": 6,
   "id": "91e1d580",
   "metadata": {},
   "outputs": [],
   "source": [
    "pwr_txL_to_rxL = received_power(xRL_to_rxL, yRL_to_rxL, 0, pd_dim/1000, tx_pwr, tx_norm, tx_lambertian_order, atten)\n",
    "pwr_txL_to_rxR = received_power(xRL_to_rxR, yRL_to_rxR, 0, pd_dim/1000, tx_pwr, tx_norm, tx_lambertian_order, atten)\n",
    "pwr_txR_to_rxL = received_power(xRR_to_rxL, yRR_to_rxL, 0, pd_dim/1000, tx_pwr, tx_norm, tx_lambertian_order, atten)\n",
    "pwr_txR_to_rxR = received_power(xRR_to_rxR, yRR_to_rxR, 0, pd_dim/1000, tx_pwr, tx_norm, tx_lambertian_order, atten)"
   ]
  },
  {
   "cell_type": "code",
   "execution_count": 8,
   "id": "f0109552",
   "metadata": {},
   "outputs": [
    {
     "name": "stdout",
     "output_type": "stream",
     "text": [
      "sim stop time: 0.0105 s\n",
      "sim length   : 105000000 samples\n",
      "sim time res : 100.0 ps\n",
      "sim tvec size: 0.782310962677002 GB\n",
      "sim space res: 2.99792458 cm\n"
     ]
    }
   ],
   "source": [
    "c         = 299792458  # [m/s] speed of light\n",
    "f_adc_clk = 1e8;       # [Hz], measurement clock freq\n",
    "f_e       = 1.0e6;     # [Hz], emitted wave freq, left TX\n",
    "r         = 4999;      # unitless, heterodyning factor\n",
    "N         = 4;         # unitless, averaging factor for left TX\n",
    "\n",
    "f_sim = 1e10 # [Hz]\n",
    "\n",
    "t_sim, t_sim_stop, spatial_sim_resolution, s_sim, s_adc_clk_re = generate_clocks(c, f_e, N, r, f_sim, f_adc_clk)\n",
    "\n",
    "print(\"sim stop time:\",t_sim_stop, \"s\")\n",
    "print(\"sim length   :\",int(t_sim_stop/t_sim),\"samples\")\n",
    "print(\"sim time res :\", t_sim*(10**12), \"ps\")\n",
    "print(\"sim tvec size:\", s_sim.nbytes/(1024**3), \"GB\")\n",
    "print(\"sim space res:\", 100*spatial_sim_resolution, \"cm\")"
   ]
  },
  {
   "cell_type": "code",
   "execution_count": null,
   "id": "9254b650",
   "metadata": {},
   "outputs": [],
   "source": []
  }
 ],
 "metadata": {
  "kernelspec": {
   "display_name": "Python 3",
   "language": "python",
   "name": "python3"
  },
  "language_info": {
   "codemirror_mode": {
    "name": "ipython",
    "version": 3
   },
   "file_extension": ".py",
   "mimetype": "text/x-python",
   "name": "python",
   "nbconvert_exporter": "python",
   "pygments_lexer": "ipython3",
   "version": "3.8.10"
  }
 },
 "nbformat": 4,
 "nbformat_minor": 5
}
