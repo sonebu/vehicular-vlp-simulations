{
 "cells": [
  {
   "cell_type": "code",
   "execution_count": 1,
   "id": "aebd3125",
   "metadata": {},
   "outputs": [],
   "source": [
    "import pandas as pd\n",
    "import numpy as np\n",
    "import matplotlib.pyplot as plt\n",
    "import matplotlib"
   ]
  },
  {
   "cell_type": "markdown",
   "id": "734c20ba",
   "metadata": {},
   "source": [
    "25: ego, 24:target"
   ]
  },
  {
   "cell_type": "code",
   "execution_count": 2,
   "id": "810e5c1e",
   "metadata": {},
   "outputs": [],
   "source": [
    "v24 = pd.read_csv('veh24.csv')\n",
    "v24_length = v24['length']\n",
    "v24_width  = v24['width']\n",
    "v24x = v24['x']\n",
    "v24y = v24['y']\n",
    "v24h = v24['psi_rad']\n",
    "\n",
    "v25 = pd.read_csv('veh25.csv')\n",
    "v25_length = np.asarray(v25['length'])\n",
    "v25_width  = np.asarray(v25['width'])\n",
    "v25x = np.asarray(v25['x'])\n",
    "v25y = np.asarray(v25['y'])\n",
    "v25h = np.asarray(v25['psi_rad'])\n",
    "\n",
    "vvhdg   = np.unwrap(np.asarray(v25h-v24h))"
   ]
  },
  {
   "cell_type": "code",
   "execution_count": 3,
   "id": "97c60b96",
   "metadata": {},
   "outputs": [],
   "source": [
    "### taken from:\n",
    "### https://github.com/interaction-dataset/interaction-dataset/blob/master/python/utils/tracks_vis.py\n",
    "\n",
    "def rotate_around_center(pts, center, yaw):\n",
    "    a = pts - center;\n",
    "    b = np.array([[np.cos(yaw), np.sin(yaw)], [-np.sin(yaw), np.cos(yaw)]])\n",
    "    c = np.zeros((a.shape))\n",
    "    for i in range(0,a.shape[2]):\n",
    "        c[:,:,i] = np.dot(a[:,:,i] , b[:,:,i])\n",
    "    return c + center\n",
    "\n",
    "def polygon_xy_from_motionstate(x, y, psi_rad, width, length):\n",
    "    lowleft  = (x - length / 2., y - width / 2.)\n",
    "    lowright = (x + length / 2., y - width / 2.)\n",
    "    upright  = (x + length / 2., y + width / 2.)\n",
    "    upleft   = (x - length / 2., y + width / 2.)\n",
    "    return rotate_around_center(np.array([lowleft, lowright, upright, upleft]), np.array([x, y]), yaw=psi_rad)"
   ]
  },
  {
   "cell_type": "code",
   "execution_count": 4,
   "id": "a259c719",
   "metadata": {},
   "outputs": [],
   "source": [
    "veh24polygon = polygon_xy_from_motionstate(v24x, v24y, v24h, v24_width, v24_length)\n",
    "veh25polygon = polygon_xy_from_motionstate(v25x, v25y, v25h, v25_width, v25_length)"
   ]
  },
  {
   "cell_type": "code",
   "execution_count": 5,
   "id": "d7fae909",
   "metadata": {},
   "outputs": [],
   "source": [
    "veh24_rel_txRR_long = veh25polygon[2,0,:] - veh24polygon[0,0,:]\n",
    "veh24_rel_txRR_lat  = -(veh25polygon[2,1,:] - veh24polygon[0,1,:])\n",
    "\n",
    "veh24_rel_txRL_long = veh25polygon[2,0,:] - veh24polygon[3,0,:]\n",
    "veh24_rel_txRL_lat  = -(veh25polygon[2,1,:] - veh24polygon[3,1,:])"
   ]
  },
  {
   "cell_type": "code",
   "execution_count": 6,
   "id": "c882edc4",
   "metadata": {},
   "outputs": [],
   "source": [
    "dt_interaction = 0.1\n",
    "t_interaction  = np.linspace(0, dt_interaction*v24x.shape[0], v24x.shape[0])\n",
    "t_desired      = np.linspace(0, dt_interaction*v24x.shape[0], 100*v24x.shape[0])\n",
    "\n",
    "x_RL = np.interp(t_desired, t_interaction, veh24_rel_txRL_lat)\n",
    "y_RL = np.interp(t_desired, t_interaction, veh24_rel_txRL_long)\n",
    "x_RR = np.interp(t_desired, t_interaction, veh24_rel_txRR_lat)\n",
    "y_RR = np.interp(t_desired, t_interaction, veh24_rel_txRR_long)\n",
    "hdg  = np.interp(t_desired, t_interaction, np.rad2deg(vvhdg))"
   ]
  },
  {
   "cell_type": "code",
   "execution_count": 7,
   "id": "3d675a7e",
   "metadata": {},
   "outputs": [
    {
     "data": {
      "image/png": "[encoded data removed]",
      "text/plain": [
       "<Figure size 320x640 with 1 Axes>"
      ]
     },
     "metadata": {
      "needs_background": "light"
     },
     "output_type": "display_data"
    }
   ],
   "source": [
    "fig, ax = plt.subplots(figsize=(4, 8), dpi=80)\n",
    "ax.plot(x_RR, y_RR)\n",
    "ax.grid()\n",
    "plt.xlim([-2.0, 2.0])\n",
    "plt.ylim([0, 8])\n",
    "plt.show()"
   ]
  },
  {
   "cell_type": "code",
   "execution_count": 8,
   "id": "b3b41a57",
   "metadata": {},
   "outputs": [],
   "source": [
    "np.savez('interaction.npz', x_RR=x_RR,y_RR=y_RR, x_RL=x_RL, y_RL=y_RL, hdg=hdg)"
   ]
  },
  {
   "cell_type": "code",
   "execution_count": null,
   "id": "c4147be5",
   "metadata": {},
   "outputs": [],
   "source": []
  }
 ],
 "metadata": {
  "kernelspec": {
   "display_name": "Python 3",
   "language": "python",
   "name": "python3"
  },
  "language_info": {
   "codemirror_mode": {
    "name": "ipython",
    "version": 3
   },
   "file_extension": ".py",
   "mimetype": "text/x-python",
   "name": "python",
   "nbconvert_exporter": "python",
   "pygments_lexer": "ipython3",
   "version": "3.8.10"
  }
 },
 "nbformat": 4,
 "nbformat_minor": 5
}
