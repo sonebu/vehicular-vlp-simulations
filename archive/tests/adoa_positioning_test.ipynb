{
 "cells": [
  {
   "cell_type": "code",
   "execution_count": 1,
   "id": "970c4704",
   "metadata": {},
   "outputs": [],
   "source": [
    "import numpy as np"
   ]
  },
  {
   "cell_type": "code",
   "execution_count": 2,
   "id": "f75eb92a",
   "metadata": {},
   "outputs": [],
   "source": [
    "W  = 1.6\n",
    "xL = -1\n",
    "yL = 5\n",
    "\n",
    "xR = xL+W\n",
    "yR = yL"
   ]
  },
  {
   "cell_type": "code",
   "execution_count": 3,
   "id": "25367e61",
   "metadata": {},
   "outputs": [],
   "source": [
    "alpha1 = np.arctan2(-xL,yL)\n",
    "alpha2 = np.arctan2(-(xL+W),yL)\n",
    "beta1  = np.arctan2(W-xL,yL)\n",
    "beta2  = np.arctan2(W-(xL+W),yL)"
   ]
  },
  {
   "cell_type": "code",
   "execution_count": 8,
   "id": "86e463c5",
   "metadata": {},
   "outputs": [],
   "source": [
    "teta1  = beta1-alpha1\n",
    "teta2  = beta2-alpha2"
   ]
  },
  {
   "cell_type": "markdown",
   "id": "4dde6ca7",
   "metadata": {},
   "source": [
    "check"
   ]
  },
  {
   "cell_type": "code",
   "execution_count": 12,
   "id": "f735ecf6",
   "metadata": {},
   "outputs": [
    {
     "name": "stdout",
     "output_type": "stream",
     "text": [
      "this should be equal to w: 1.5999999999999985\n"
     ]
    }
   ],
   "source": [
    "d1 = np.sqrt(xL**2+yL**2)\n",
    "d2 = np.sqrt((W-xL)**2+yL**2)\n",
    "\n",
    "print(\"this should be equal to w:\",np.sqrt(d1**2 + d2**2 - 2*d1*d2*np.cos(teta1)))"
   ]
  },
  {
   "cell_type": "code",
   "execution_count": 14,
   "id": "8addff46",
   "metadata": {},
   "outputs": [],
   "source": [
    "K = 0.5*(1/np.tan(teta2)-1/np.tan(teta1))"
   ]
  },
  {
   "cell_type": "code",
   "execution_count": 17,
   "id": "e869bc7d",
   "metadata": {},
   "outputs": [
    {
     "name": "stdout",
     "output_type": "stream",
     "text": [
      "5.000000000000001\n"
     ]
    }
   ],
   "source": [
    "yL_est = (1/(1+K**2))*(W/np.tan(teta2)-W*K)\n",
    "print(yL_est)"
   ]
  },
  {
   "cell_type": "code",
   "execution_count": 18,
   "id": "3b7e5754",
   "metadata": {},
   "outputs": [
    {
     "name": "stdout",
     "output_type": "stream",
     "text": [
      "-0.9999999999999976\n"
     ]
    }
   ],
   "source": [
    "xL_est = K*yL\n",
    "print(xL_est)"
   ]
  },
  {
   "cell_type": "code",
   "execution_count": null,
   "id": "8a64ff36",
   "metadata": {},
   "outputs": [],
   "source": []
  }
 ],
 "metadata": {
  "kernelspec": {
   "display_name": "Python 3",
   "language": "python",
   "name": "python3"
  },
  "language_info": {
   "codemirror_mode": {
    "name": "ipython",
    "version": 3
   },
   "file_extension": ".py",
   "mimetype": "text/x-python",
   "name": "python",
   "nbconvert_exporter": "python",
   "pygments_lexer": "ipython3",
   "version": "3.8.10"
  }
 },
 "nbformat": 4,
 "nbformat_minor": 5
}
