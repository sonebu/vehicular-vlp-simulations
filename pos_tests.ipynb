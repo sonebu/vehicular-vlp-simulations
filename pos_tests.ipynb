{
 "cells": [
  {
   "cell_type": "code",
   "execution_count": 1,
   "metadata": {},
   "outputs": [],
   "source": [
    "import matplotlib.pyplot as plt\n",
    "from VLC_init import *\n",
    "from aoa_pos import *\n",
    "from rtof_pos import *\n",
    "from Roberts import *\n",
    "import numpy as np\n",
    "from matplotlib import pyplot as plt\n",
    "from math import pi\n",
    "from  scipy.interpolate import interp1d  "
   ]
  },
  {
   "cell_type": "code",
   "execution_count": 2,
   "metadata": {},
   "outputs": [],
   "source": [
    "vlc_obj = VLC_init()\n",
    "\n",
    "u=0.5     #x-position of the center\n",
    "v=-5.    #y-position of the center\n",
    "a=5.     #radius on the x-axis\n",
    "b=5.5    #radius on the y-axis\n",
    "\n",
    "t = np.linspace(pi, 2*pi, 100)  \n",
    "x_data = u+a*np.cos(t)\n",
    "y_data = v+b*np.sin(t)\n",
    "\n",
    "# Interpolate values for x and y.\n",
    "t2 = np.linspace(pi, 2*pi, 8)\n",
    "# One-dimensional linear interpolation.\n",
    "y2 = np.interp(t2, t, x_data)\n",
    "x2 = np.interp(t2, t, y_data)\n",
    "\n",
    "tx_cords = []\n",
    "for i in range(len(x2)):\n",
    "    tx_cords.append(((x2[i], y2[i]),(x2[i], y2[i] + 1)))\n",
    "\n",
    "rx_cord = ((0, 0), (0, 1))"
   ]
  },
  {
   "cell_type": "code",
   "execution_count": null,
   "metadata": {},
   "outputs": [
    {
     "name": "stdout",
     "output_type": "stream",
     "text": [
      "Iteration # 0 : \n",
      "Transmitter-1 x pos is:  -5.001178097197775 , y pos is :  -4.99964597407999\n",
      "Transmitter-2 x pos is :  -4.5011352175090105 , y pos is :  -3.4998264543552984\n",
      "AoA finished\n",
      "RToF finished\n",
      "TDoA finished\n",
      "Iteration # 1 : \n",
      "Transmitter-1 x pos is:  -7.388302226587858 , y pos is :  -7.387810002563913\n",
      "Transmitter-2 x pos is :  -4.005641591460462 , y pos is :  -3.005385237115432\n",
      "AoA finished\n",
      "RToF finished\n",
      "TDoA finished\n",
      "Iteration # 2 : \n",
      "Transmitter-1 x pos is:  -9.298076578028336 , y pos is :  -9.3150784170962\n",
      "Transmitter-2 x pos is :  -2.6166623561228235 , y pos is :  -1.6198956904810835\n",
      "AoA finished\n",
      "RToF finished\n",
      "TDoA finished\n",
      "Iteration # 3 : \n",
      "Transmitter-1 x pos is:  -10.361316877325944 , y pos is :  -10.36151259940431\n",
      "Transmitter-2 x pos is :  -0.6124669421564612 , y pos is :  0.38751855421289005\n",
      "AoA finished\n",
      "RToF finished\n",
      "TDoA finished\n",
      "Iteration # 4 : \n",
      "Transmitter-1 x pos is:  -10.358788923225267 , y pos is :  -10.361324775545027\n",
      "Transmitter-2 x pos is :  1.6123079946945276 , y pos is :  2.6124664999890905\n",
      "AoA finished\n",
      "RToF finished\n",
      "TDoA finished\n",
      "Iteration # 5 : \n",
      "Transmitter-1 x pos is:  -9.298666390273581 , y pos is :  -9.298091762662581\n",
      "Transmitter-2 x pos is :  3.6167935338139925 , y pos is :  4.616401195782655\n",
      "AoA finished\n",
      "RToF finished\n",
      "TDoA finished\n",
      "Iteration # 6 : \n",
      "Transmitter-1 x pos is:  -7.386332974603811 , y pos is :  -7.387034541124422\n",
      "Transmitter-2 x pos is :  5.00458924892942 , y pos is :  6.005075229102221\n",
      "AoA finished\n",
      "RToF finished\n",
      "TDoA finished\n",
      "Iteration # 7 : \n",
      "Transmitter-1 x pos is:  -4.9999312902735005 , y pos is :  -5.000390628705348\n",
      "Transmitter-2 x pos is :  5.500037655804823 , y pos is :  6.500064655747117\n",
      "AoA finished\n"
     ]
    }
   ],
   "source": [
    "x_pose, y_pose, x_roberts, y_roberts, x_becha, y_becha = [], [], [], [], [], []\n",
    "x, y = [], []\n",
    "for i in range(len(tx_cords)):\n",
    "    # updating the given coordinates\n",
    "    print(\"Iteration #\", i ,\": \")\n",
    "    vlc_obj.update_coords(tx_cords[i], rx_cord)\n",
    "    vlc_obj.update_lookuptable()\n",
    "    x.append(vlc_obj.trxpos)\n",
    "    y.append(vlc_obj.trypos)\n",
    "    # providing the environmentt to methods\n",
    "    aoa = Pose(vlc_obj)\n",
    "    rtof = RToF_pos(vlc_obj)\n",
    "    tdoa = Roberts(vlc_obj)\n",
    "    # making estimations\n",
    "    tx_aoa = aoa.estimate()\n",
    "    print(\"AoA finished\")\n",
    "    tx_rtof = rtof.estimate()\n",
    "    print(\"RToF finished\")\n",
    "    tx_tdoa = tdoa.estimate()\n",
    "    print(\"TDoA finished\")\n",
    "    # storing to plot later\n",
    "    x_pose.append(tx_aoa[0])\n",
    "    y_pose.append(tx_aoa[1])\n",
    "    x_becha.append(tx_rtof[0])\n",
    "    y_becha.append(tx_rtof[1])\n",
    "    x_roberts.append(tx_tdoa[0])\n",
    "    y_roberts.append(tx_tdoa[1])"
   ]
  },
  {
   "cell_type": "code",
   "execution_count": null,
   "metadata": {},
   "outputs": [],
   "source": [
    "plt.figure()\n",
    "plt.plot(x, y,'o', color='green', markersize=10)\n",
    "plt.plot(x_becha, y_becha, 'o', color='orange', markersize=8)\n",
    "plt.plot(x_pose, y_pose, 'o', color='blue', markersize=7)\n",
    "plt.plot(x_roberts, y_roberts, 'o', color='purple', markersize=5)\n",
    "plt.plot(y_data, x_data+0.5, '--', color='red', markersize=5)\n",
    "plt.grid()"
   ]
  },
  {
   "cell_type": "code",
   "execution_count": null,
   "metadata": {},
   "outputs": [],
   "source": []
  }
 ],
 "metadata": {
  "kernelspec": {
   "display_name": "Python 3",
   "language": "python",
   "name": "python3"
  },
  "language_info": {
   "codemirror_mode": {
    "name": "ipython",
    "version": 3
   },
   "file_extension": ".py",
   "mimetype": "text/x-python",
   "name": "python",
   "nbconvert_exporter": "python",
   "pygments_lexer": "ipython3",
   "version": "3.7.6"
  }
 },
 "nbformat": 4,
 "nbformat_minor": 4
}
