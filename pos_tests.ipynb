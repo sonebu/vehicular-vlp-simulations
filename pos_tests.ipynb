{
 "cells": [
  {
   "cell_type": "code",
   "execution_count": 1,
   "metadata": {},
   "outputs": [],
   "source": [
    "import matplotlib.pyplot as plt\n",
    "from VLC_init import *\n",
    "from pose_estimation import *\n",
    "from rtof_pos import *\n",
    "from Roberts import *"
   ]
  },
  {
   "cell_type": "code",
   "execution_count": 2,
   "metadata": {},
   "outputs": [],
   "source": [
    "vlc_obj = VLC_init()\n",
    "\n",
    "tx_cord_1, tx_cord_2, tx_cord_3, tx_cord_4 = ((-5, 2), (-5, 3)), ((-3, 0), (-3, 1)), ((-4, 1), (-4, 2)), ((-6, 2), (-6, 3))\n",
    "rx_cord = ((0, 0), (0, 1))\n",
    "tx_cords = [tx_cord_1, tx_cord_2, tx_cord_3, tx_cord_4]"
   ]
  },
  {
   "cell_type": "code",
   "execution_count": 3,
   "metadata": {},
   "outputs": [
    {
     "name": "stdout",
     "output_type": "stream",
     "text": [
      "Iteration # 0 : \n",
      "AoA finished\n",
      "RToF finished\n",
      "TDoA finished\n",
      "Iteration # 1 : \n",
      "AoA finished\n",
      "RToF finished\n",
      "TDoA finished\n",
      "Iteration # 2 : \n",
      "AoA finished\n",
      "RToF finished\n",
      "TDoA finished\n",
      "Iteration # 3 : \n",
      "AoA finished\n",
      "RToF finished\n",
      "TDoA finished\n"
     ]
    }
   ],
   "source": [
    "x_pose, y_pose, x_roberts, y_roberts, x_becha, y_becha = [], [], [], [], [], []\n",
    "x, y = [], []\n",
    "for i in range(len(tx_cords)):\n",
    "    # updating the given coordinates\n",
    "    print(\"Iteration #\", i ,\": \")\n",
    "    vlc_obj.update_coords(tx_cords[i], rx_cord)\n",
    "    vlc_obj.update_lookuptable()\n",
    "    x.append(vlc_obj.trxpos)\n",
    "    y.append(vlc_obj.trypos)\n",
    "    # providing the environmentt to methods\n",
    "    aoa = Pose(vlc_obj)\n",
    "    rtof = RToF_pos(vlc_obj)\n",
    "    tdoa = Roberts(vlc_obj)\n",
    "    # making estimations\n",
    "    tx_aoa = aoa.estimate()\n",
    "    print(\"AoA finished\")\n",
    "    tx_rtof = rtof.estimate()\n",
    "    print(\"RToF finished\")\n",
    "    tx_tdoa = tdoa.estimate()\n",
    "    print(\"TDoA finished\")\n",
    "    # storing to plot later\n",
    "    x_pose.append(tx_aoa[0])\n",
    "    y_pose.append(tx_aoa[1])\n",
    "    x_becha.append(tx_rtof[0])\n",
    "    y_becha.append(tx_rtof[1])\n",
    "    x_roberts.append(tx_tdoa[0])\n",
    "    y_roberts.append(tx_tdoa[1])"
   ]
  },
  {
   "cell_type": "code",
   "execution_count": 4,
   "metadata": {},
   "outputs": [
    {
     "data": {
      "image/png": "[encoded data removed]",
      "text/plain": [
       "<Figure size 432x288 with 1 Axes>"
      ]
     },
     "metadata": {
      "needs_background": "light"
     },
     "output_type": "display_data"
    }
   ],
   "source": [
    "plt.figure()\n",
    "plt.plot(x, y,'o', color='green', markersize=9)\n",
    "plt.plot(x_becha, y_becha, 'o', color='orange', markersize=8)\n",
    "plt.plot(x_pose, y_pose, 'o', color='blue', markersize=7)\n",
    "plt.plot(x_roberts, y_roberts, 'o', color='purple', markersize=6)\n",
    "plt.grid()"
   ]
  },
  {
   "cell_type": "code",
   "execution_count": null,
   "metadata": {},
   "outputs": [],
   "source": []
  }
 ],
 "metadata": {
  "kernelspec": {
   "display_name": "Python 3",
   "language": "python",
   "name": "python3"
  },
  "language_info": {
   "codemirror_mode": {
    "name": "ipython",
    "version": 3
   },
   "file_extension": ".py",
   "mimetype": "text/x-python",
   "name": "python",
   "nbconvert_exporter": "python",
   "pygments_lexer": "ipython3",
   "version": "3.7.6"
  }
 },
 "nbformat": 4,
 "nbformat_minor": 4
}
