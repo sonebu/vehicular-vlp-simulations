{
 "cells": [
  {
   "cell_type": "code",
   "execution_count": 1,
   "metadata": {},
   "outputs": [],
   "source": [
    "import matplotlib.pyplot as plt\n",
    "from VLC_init import *\n",
    "from aoa_pos import *\n",
    "from rtof_pos import *\n",
    "from Roberts import *\n",
    "import numpy as np\n",
    "from matplotlib import pyplot as plt\n",
    "from math import pi\n",
    "from  scipy.interpolate import interp1d  "
   ]
  },
  {
   "cell_type": "code",
   "execution_count": 2,
   "metadata": {},
   "outputs": [],
   "source": [
    "vlc_obj = VLC_init()\n",
    "\n",
    "u=0.5     #x-position of the center\n",
    "v=-5.    #y-position of the center\n",
    "a=5.     #radius on the x-axis\n",
    "b=5.5    #radius on the y-axis\n",
    "\n",
    "t = np.linspace(pi, 2*pi, 100)  \n",
    "x_data = u+a*np.cos(t)\n",
    "y_data = v+b*np.sin(t)\n",
    "\n",
    "# Interpolate values for x and y.\n",
    "t2 = np.linspace(pi, 2*pi, 8)\n",
    "# One-dimensional linear interpolation.\n",
    "y2 = np.interp(t2, t, x_data)\n",
    "x2 = np.interp(t2, t, y_data)\n",
    "\n",
    "tx_cords = []\n",
    "for i in range(len(x2)):\n",
    "    tx_cords.append(((x2[i], y2[i]),(x2[i], y2[i] + 1)))\n",
    "\n",
    "rx_cord = ((0, 0), (0, 1))"
   ]
  },
  {
   "cell_type": "code",
   "execution_count": null,
   "metadata": {},
   "outputs": [
    {
     "name": "stdout",
     "output_type": "stream",
     "text": [
      "Iteration # 0 : \n",
      "Transmitter-1 x pos is:  -4.978661904560514 , y pos is :  -4.996867194418035\n",
      "Transmitter-2 x pos is :  -4.4767316555060885 , y pos is :  -3.497013504426518\n",
      "AoA finished\n",
      "RToF finished\n",
      "TDoA finished\n",
      "Iteration # 1 : \n",
      "Transmitter-1 x pos is:  -7.387991227401961 , y pos is :  -7.389268709058229\n",
      "Transmitter-2 x pos is :  -4.00561360620033 , y pos is :  -3.0058504429650563\n",
      "AoA finished\n",
      "RToF finished\n",
      "TDoA finished\n",
      "Iteration # 2 : \n",
      "Transmitter-1 x pos is:  -9.296307303588906 , y pos is :  -9.301447603702586\n",
      "Transmitter-2 x pos is :  -2.616182838435429 , y pos is :  -1.6174644833735483\n",
      "AoA finished\n",
      "RToF finished\n",
      "TDoA finished\n",
      "Iteration # 3 : \n",
      "Transmitter-1 x pos is:  -10.36061064635582 , y pos is :  -10.361904249126965\n",
      "Transmitter-2 x pos is :  -0.6123557319757991 , y pos is :  0.3875407083144955\n",
      "AoA finished\n",
      "RToF finished\n",
      "TDoA finished\n",
      "Iteration # 4 : \n",
      "Transmitter-1 x pos is:  -10.362522176742592 , y pos is :  -10.360733151935005\n",
      "Transmitter-2 x pos is :  1.6125064628129966 , y pos is :  2.6123206375703725\n",
      "AoA finished\n"
     ]
    }
   ],
   "source": [
    "x_pose, y_pose, x_roberts, y_roberts, x_becha, y_becha = [], [], [], [], [], []\n",
    "x, y = [], []\n",
    "for i in range(len(tx_cords)):\n",
    "    # updating the given coordinates\n",
    "    print(\"Iteration #\", i ,\": \")\n",
    "    vlc_obj.update_coords(tx_cords[i], rx_cord)\n",
    "    vlc_obj.update_lookuptable()\n",
    "    x.append(vlc_obj.trxpos)\n",
    "    y.append(vlc_obj.trypos)\n",
    "    # providing the environmentt to methods\n",
    "    aoa = Pose(vlc_obj)\n",
    "    rtof = RToF_pos(vlc_obj)\n",
    "    tdoa = Roberts(vlc_obj)\n",
    "    # making estimations\n",
    "    tx_aoa = aoa.estimate()\n",
    "    print(\"AoA finished\")\n",
    "    tx_rtof = rtof.estimate()\n",
    "    print(\"RToF finished\")\n",
    "    tx_tdoa = tdoa.estimate()\n",
    "    print(\"TDoA finished\")\n",
    "    # storing to plot later\n",
    "    x_pose.append(tx_aoa[0])\n",
    "    y_pose.append(tx_aoa[1])\n",
    "    x_becha.append(tx_rtof[0])\n",
    "    y_becha.append(tx_rtof[1])\n",
    "    x_roberts.append(tx_tdoa[0])\n",
    "    y_roberts.append(tx_tdoa[1])"
   ]
  },
  {
   "cell_type": "code",
   "execution_count": null,
   "metadata": {},
   "outputs": [],
   "source": [
    "import matplotlib.patches as mpatches\n",
    "\n",
    "plt.figure()\n",
    "plt.plot(x, y,'o', color='green', markersize=10)\n",
    "plt.plot(x_becha, y_becha, 'o', color='orange', markersize=8)\n",
    "plt.plot(x_pose, y_pose, 'o', color='blue', markersize=7)\n",
    "plt.plot(x_roberts, y_roberts, 'o', color='purple', markersize=5)\n",
    "plt.plot(y_data, x_data+0.5, '--', color='red', markersize=5)\n",
    "plt.grid()\n",
    "\n",
    "green_patch = mpatches.Patch(color='green', label='Actual coordinates')\n",
    "blue_patch = mpatches.Patch(color='blue', label='AoA-estimated coordinates')\n",
    "orange_patch = mpatches.Patch(color='orange', label='RToF-estimated coordinates')\n",
    "purple_patch = mpatches.Patch(color='purple', label='TDoA-estimated coordinates')\n",
    "\n",
    "plt.legend(handles=[green_patch, blue_patch, orange_patch, purple_patch])\n",
    "plt.xlabel('x')\n",
    "plt.ylabel('y')"
   ]
  },
  {
   "cell_type": "code",
   "execution_count": null,
   "metadata": {},
   "outputs": [],
   "source": []
  }
 ],
 "metadata": {
  "kernelspec": {
   "display_name": "Python 3",
   "language": "python",
   "name": "python3"
  },
  "language_info": {
   "codemirror_mode": {
    "name": "ipython",
    "version": 3
   },
   "file_extension": ".py",
   "mimetype": "text/x-python",
   "name": "python",
   "nbconvert_exporter": "python",
   "pygments_lexer": "ipython3",
   "version": "3.7.4"
  }
 },
 "nbformat": 4,
 "nbformat_minor": 4
}
