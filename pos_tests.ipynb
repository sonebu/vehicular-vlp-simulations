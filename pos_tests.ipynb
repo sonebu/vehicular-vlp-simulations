{
 "cells": [
  {
   "cell_type": "code",
   "execution_count": 1,
   "metadata": {},
   "outputs": [],
   "source": [
    "import matplotlib.pyplot as plt\n",
    "from VLC_init import *\n",
    "from aoa_pos import *\n",
    "from rtof_pos import *\n",
    "from Roberts import *\n",
    "import numpy as np\n",
    "from matplotlib import pyplot as plt\n",
    "from math import pi\n",
    "from  scipy.interpolate import interp1d  "
   ]
  },
  {
   "cell_type": "code",
   "execution_count": 2,
   "metadata": {},
   "outputs": [],
   "source": [
    "vlc_obj = VLC_init()\n",
    "\n",
    "u=0.5     #x-position of the center\n",
    "v=-5.    #y-position of the center\n",
    "a=5.     #radius on the x-axis\n",
    "b=5.5    #radius on the y-axis\n",
    "\n",
    "t = np.linspace(pi, 2*pi, 100)  \n",
    "x_data = u+a*np.cos(t)\n",
    "y_data = v+b*np.sin(t)\n",
    "\n",
    "# Interpolate values for x and y.\n",
    "t2 = np.linspace(pi, 2*pi, 8)\n",
    "# One-dimensional linear interpolation.\n",
    "y2 = np.interp(t2, t, x_data)\n",
    "x2 = np.interp(t2, t, y_data)\n",
    "\n",
    "tx_cords = []\n",
    "for i in range(len(x2)):\n",
    "    tx_cords.append(((x2[i], y2[i]),(x2[i], y2[i] + 1)))\n",
    "\n",
    "rx_cord = ((0, 0), (0, 1))"
   ]
  },
  {
   "cell_type": "code",
   "execution_count": 3,
   "metadata": {},
   "outputs": [
    {
     "name": "stdout",
     "output_type": "stream",
     "text": [
      "Iteration # 0 : \n",
      "Transmitter-1 x pos is:  -5.001402263047115 , y pos is :  -5.001248556517762\n",
      "Transmitter-2 x pos is :  -4.501343930885195 , y pos is :  -3.5009818640167136\n",
      "AoA finished\n",
      "RToF finished\n",
      "TDoA finished\n",
      "Iteration # 1 : \n",
      "Transmitter-1 x pos is:  -7.386117240348985 , y pos is :  -7.389214396312506\n",
      "Transmitter-2 x pos is :  -4.004477838107172 , y pos is :  -3.006152973881428\n",
      "AoA finished\n",
      "RToF finished\n",
      "TDoA finished\n",
      "Iteration # 2 : \n",
      "Transmitter-1 x pos is:  -9.300701252342662 , y pos is :  -9.302744793807737\n",
      "Transmitter-2 x pos is :  -2.6175117671717603 , y pos is :  -1.6177035495746868\n",
      "AoA finished\n",
      "RToF finished\n",
      "TDoA finished\n",
      "Iteration # 3 : \n",
      "Transmitter-1 x pos is:  -10.361015694858855 , y pos is :  -10.357243984321476\n",
      "Transmitter-2 x pos is :  -0.6124514897495832 , y pos is :  0.38736438460244366\n",
      "AoA finished\n",
      "RToF finished\n",
      "TDoA finished\n",
      "Iteration # 4 : \n",
      "Transmitter-1 x pos is:  -10.363985043361065 , y pos is :  -10.361960354848678\n",
      "Transmitter-2 x pos is :  1.612850996858115 , y pos is :  2.6127177654390192\n",
      "AoA finished\n",
      "RToF finished\n",
      "TDoA finished\n",
      "Iteration # 5 : \n",
      "Transmitter-1 x pos is:  -9.298641680864566 , y pos is :  -9.30055366759673\n",
      "Transmitter-2 x pos is :  3.616780462760966 , y pos is :  4.617432710101037\n",
      "AoA finished\n",
      "RToF finished\n",
      "TDoA finished\n",
      "Iteration # 6 : \n",
      "Transmitter-1 x pos is:  -7.38699183613724 , y pos is :  -7.3850945905924865\n",
      "Transmitter-2 x pos is :  5.005194679073954 , y pos is :  6.00374912929152\n",
      "AoA finished\n",
      "RToF finished\n",
      "TDoA finished\n",
      "Iteration # 7 : \n",
      "Transmitter-1 x pos is:  -4.999891543989207 , y pos is :  -4.9997187790259945\n",
      "Transmitter-2 x pos is :  5.50002606414473 , y pos is :  6.499509957028732\n",
      "AoA finished\n",
      "RToF finished\n",
      "TDoA finished\n"
     ]
    }
   ],
   "source": [
    "x_pose, y_pose, x_roberts, y_roberts, x_becha, y_becha = [], [], [], [], [], []\n",
    "x, y = [], []\n",
    "for i in range(len(tx_cords)):\n",
    "    # updating the given coordinates\n",
    "    print(\"Iteration #\", i ,\": \")\n",
    "    vlc_obj.update_coords(tx_cords[i], rx_cord)\n",
    "    vlc_obj.update_lookuptable()\n",
    "    x.append(vlc_obj.trxpos)\n",
    "    y.append(vlc_obj.trypos)\n",
    "    # providing the environmentt to methods\n",
    "    aoa = Pose(vlc_obj)\n",
    "    rtof = RToF_pos(vlc_obj)\n",
    "    tdoa = Roberts(vlc_obj)\n",
    "    # making estimations\n",
    "    tx_aoa = aoa.estimate()\n",
    "    print(\"AoA finished\")\n",
    "    tx_rtof = rtof.estimate()\n",
    "    print(\"RToF finished\")\n",
    "    tx_tdoa = tdoa.estimate()\n",
    "    print(\"TDoA finished\")\n",
    "    # storing to plot later\n",
    "    x_pose.append(tx_aoa[0])\n",
    "    y_pose.append(tx_aoa[1])\n",
    "    x_becha.append(tx_rtof[0])\n",
    "    y_becha.append(tx_rtof[1])\n",
    "    x_roberts.append(tx_tdoa[0])\n",
    "    y_roberts.append(tx_tdoa[1])"
   ]
  },
  {
   "cell_type": "code",
   "execution_count": 7,
   "metadata": {},
   "outputs": [
    {
     "name": "stdout",
     "output_type": "stream",
     "text": [
      "[array([-4.66134084, -5.28258615]), array([-7.15329649, -7.58513693]), array([-9.44493542, -9.15338103]), array([-10.34470799, -10.34542441]), array([-10.34470799, -10.33830155]), array([-9.44493542, -9.41644132]), array([-7.15329649, -7.5747021 ]), array([-4.66134084, -5.09390723])]\n"
     ]
    },
    {
     "data": {
      "image/png": "[encoded data removed]",
      "text/plain": [
       "<Figure size 432x288 with 1 Axes>"
      ]
     },
     "metadata": {
      "needs_background": "light"
     },
     "output_type": "display_data"
    }
   ],
   "source": [
    "print(x_becha)\n",
    "\n",
    "plt.figure()\n",
    "plt.plot(x, y,'o', color='green', markersize=10)\n",
    "plt.plot(x_becha, y_becha, 'o', color='orange', markersize=8)\n",
    "plt.plot(x_pose, y_pose, 'o', color='blue', markersize=7)\n",
    "plt.plot(x_roberts, y_roberts, 'o', color='purple', markersize=5)\n",
    "plt.plot(y_data, x_data+0.5, '--', color='red', markersize=5)\n",
    "plt.grid()"
   ]
  },
  {
   "cell_type": "code",
   "execution_count": null,
   "metadata": {},
   "outputs": [],
   "source": []
  }
 ],
 "metadata": {
  "kernelspec": {
   "display_name": "Python 3",
   "language": "python",
   "name": "python3"
  },
  "language_info": {
   "codemirror_mode": {
    "name": "ipython",
    "version": 3
   },
   "file_extension": ".py",
   "mimetype": "text/x-python",
   "name": "python",
   "nbconvert_exporter": "python",
   "pygments_lexer": "ipython3",
   "version": "3.8.3"
  }
 },
 "nbformat": 4,
 "nbformat_minor": 4
}
