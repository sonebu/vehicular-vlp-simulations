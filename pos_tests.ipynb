{
 "cells": [
  {
   "cell_type": "code",
   "execution_count": 1,
   "metadata": {},
   "outputs": [],
   "source": [
    "import os\n",
    "import subprocess\n",
    "import multiprocessing\n",
    "import resource\n",
    "import matplotlib.pyplot as plt\n",
    "import math\n",
    "import scipy\n",
    "from functools import lru_cache\n",
    "from scipy.integrate import quad, dblquad, tplquad\n",
    "from VLC_init import *\n",
    "from pose_estimation import *\n",
    "from rtof_pos import *"
   ]
  },
  {
   "cell_type": "code",
   "execution_count": 2,
   "metadata": {},
   "outputs": [],
   "source": [
    "vlc_obj = VLC_init()\n",
    "\n",
    "tx_coords = ((-5, 2), (-5, 3))\n",
    "rx_coords = ((0, 0), (0, 1))\n",
    "\n",
    "vlc_obj.update_coords(tx_coords, rx_coords)\n",
    "vlc_obj.update_lookuptable()\n",
    "\n",
    "aoa = Pose(vlc_obj)\n",
    "rtof = RToF_pos(vlc_obj)"
   ]
  },
  {
   "cell_type": "code",
   "execution_count": 3,
   "metadata": {},
   "outputs": [
    {
     "name": "stdout",
     "output_type": "stream",
     "text": [
      "Distance:  5.085 Error:  0.014019513592784527\n",
      "Distance:  5.37 Error:  0.015164807134503633\n",
      "x:  -4.987729616127337\n",
      "y:  1.9898375000000001\n",
      "Distance:  5.37 Error:  0.015164807134503633\n",
      "Distance:  5.835 Error:  0.004048105154699222\n",
      "x:  -4.940161014440092\n",
      "y:  3.1051624999999987\n"
     ]
    }
   ],
   "source": [
    "tx_aoa = aoa.estimate()\n",
    "tx_rtof = rtof.estimate()"
   ]
  },
  {
   "cell_type": "code",
   "execution_count": 5,
   "metadata": {},
   "outputs": [
    {
     "data": {
      "image/png": "[encoded data removed]",
      "text/plain": [
       "<Figure size 432x288 with 1 Axes>"
      ]
     },
     "metadata": {
      "needs_background": "light"
     },
     "output_type": "display_data"
    }
   ],
   "source": [
    "plt.figure()\n",
    "plt.plot(vlc_obj.trxpos, vlc_obj.trypos,'o', color='green')\n",
    "plt.plot(tx_rtof[0], tx_rtof[1], 'o', color='orange')\n",
    "plt.plot(tx_aoa[0], tx_aoa[1], 'o', color='blue')\n",
    "plt.grid()"
   ]
  },
  {
   "cell_type": "code",
   "execution_count": null,
   "metadata": {},
   "outputs": [],
   "source": []
  }
 ],
 "metadata": {
  "kernelspec": {
   "display_name": "Python 3",
   "language": "python",
   "name": "python3"
  },
  "language_info": {
   "codemirror_mode": {
    "name": "ipython",
    "version": 3
   },
   "file_extension": ".py",
   "mimetype": "text/x-python",
   "name": "python",
   "nbconvert_exporter": "python",
   "pygments_lexer": "ipython3",
   "version": "3.7.6"
  }
 },
 "nbformat": 4,
 "nbformat_minor": 4
}
