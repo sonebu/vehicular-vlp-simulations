{
 "cells": [
  {
   "cell_type": "code",
   "execution_count": 1,
   "id": "cbd34c18",
   "metadata": {},
   "outputs": [],
   "source": [
    "import numpy             as np\n",
    "import scipy             as sp\n",
    "import matplotlib.pyplot as plt\n",
    "import time\n",
    "from numba import njit\n",
    "\n",
    "from tqdm            import tqdm\n",
    "from scipy           import signal\n",
    "\n",
    "from propagation import received_power, quad_distribute_power, propagation_delay, map_rx_config, map_tx_config, \\\n",
    "                        gen_qrx_onlyclocked\n",
    "\n",
    "from parametermeasurement import generate_clocks, measure_range_roberts, measure_bearing\n",
    "\n",
    "from positioning import classicalfix_directbearing_mle, classicalfix_diffbearing_mle, \\\n",
    "                        classicalfix_directrange_mle, classicalfix_diffrange_mle"
   ]
  },
  {
   "cell_type": "markdown",
   "id": "473afdfb",
   "metadata": {},
   "source": [
    "### Simulation preliminaries"
   ]
  },
  {
   "cell_type": "code",
   "execution_count": 2,
   "id": "a9baf5a1",
   "metadata": {},
   "outputs": [],
   "source": [
    "weather     = 'fog' \n",
    "temperature = 298 # Kelvin\n",
    "daynight    = 'day_indirectsun'\n",
    "\n",
    "daynight_noise_factors = dict()\n",
    "daynight_noise_factors['day_directsun']   = 1.000 # 5100 uA\n",
    "daynight_noise_factors['day_indirectsun'] = 0.145 # 740 uA\n",
    "daynight_noise_factors['night']           = 0.010 # very small\n",
    "\n",
    "# minmax bounds to be safe if you set the noise factor yourself\n",
    "bg_current = (np.minimum(1, np.maximum(0, daynight_noise_factors[daynight]))*5100)*1e-6;\n",
    "\n",
    "weather_attenuation_factors = dict()\n",
    "weather_attenuation_factors['clear'] = 0.0\n",
    "weather_attenuation_factors['rain']  = -0.05\n",
    "weather_attenuation_factors['fog']   = -0.2\n",
    "\n",
    "atten = weather_attenuation_factors[weather];"
   ]
  },
  {
   "cell_type": "code",
   "execution_count": 3,
   "id": "02302b1d",
   "metadata": {},
   "outputs": [],
   "source": [
    "a = np.load('optics/qrx_planoconvex.npz');\n",
    "f_QRX, pd_snst, pd_gain, pd_dim, rx_P_rx_factor, rx_I_bg_factor, rx_thermal_factor1, rx_thermal_factor2 = map_rx_config(a);"
   ]
  },
  {
   "cell_type": "code",
   "execution_count": 4,
   "id": "88e4ed32",
   "metadata": {},
   "outputs": [],
   "source": [
    "a = np.load('optics/tx_lambertian_20deg_2W.npz')\n",
    "tx_ha, tx_pwr, tx_norm, tx_lambertian_order = map_tx_config(a);"
   ]
  },
  {
   "cell_type": "markdown",
   "id": "fe86d3b5",
   "metadata": {},
   "source": [
    "this factor is precomputed since it's the same for all links (/16 due to $C_i^2$ in the thermal_factor2, each cell gets 1/4 of the total cap)"
   ]
  },
  {
   "cell_type": "code",
   "execution_count": 5,
   "id": "a7c8786c",
   "metadata": {},
   "outputs": [],
   "source": [
    "# original bandwidth = 10 MHz, we assume a 100 kHz BPF here like bechadergue, effectively reducing BW by 100x \n",
    "#\n",
    "# see noise variance equations for further info on this\n",
    "bandwidth_scaling_due_to_filter = 0.01;\n",
    "thermal_and_bg_curr = rx_I_bg_factor *  bandwidth_scaling_due_to_filter * bg_current + \\\n",
    "                      temperature    *( bandwidth_scaling_due_to_filter * rx_thermal_factor1 + \\\n",
    "                                      ( bandwidth_scaling_due_to_filter**3) * rx_thermal_factor2/16)\n",
    "\n",
    "add_noise = 1"
   ]
  },
  {
   "cell_type": "markdown",
   "id": "0085ecea",
   "metadata": {},
   "source": [
    "### Simulate propagation"
   ]
  },
  {
   "cell_type": "code",
   "execution_count": 6,
   "id": "59c57f43",
   "metadata": {},
   "outputs": [],
   "source": [
    "a = np.load('trajectories/generated_platooning.npz')\n",
    "\n",
    "trajectory_partial_numsamples = 1000 # 1000 is the whole thing actually...\n",
    "\n",
    "L = 1.6 # [m]\n",
    "\n",
    "xRL_to_rxL = a['x_RL'][0:trajectory_partial_numsamples]; yRL_to_rxL = a['y_RL'][0:trajectory_partial_numsamples]; \n",
    "xRR_to_rxL = a['x_RR'][0:trajectory_partial_numsamples]; yRR_to_rxL = a['y_RR'][0:trajectory_partial_numsamples]\n",
    "yRL_to_rxR = a['y_RL'][0:trajectory_partial_numsamples]; yRR_to_rxR = a['y_RR'][0:trajectory_partial_numsamples]; \n",
    "hdg  = a['hdg'][0:trajectory_partial_numsamples];\n",
    "xRL_to_rxR = a['x_RL'][0:trajectory_partial_numsamples] - L;\n",
    "xRR_to_rxR = a['x_RR'][0:trajectory_partial_numsamples] - L;\n",
    "\n",
    "#t2 = np.linspace(0,1,1000)\n",
    "#t1 = np.linspace(0,1,4000)\n",
    "#trajectory_partial_numsamples = 4000\n",
    "#xRL_to_rxL = np.interp(t1, t2, xRL_to_rxL)\n",
    "#yRL_to_rxL = np.interp(t1, t2, yRL_to_rxL)\n",
    "#xRL_to_rxR = np.interp(t1, t2, xRL_to_rxR)\n",
    "#yRL_to_rxR = np.interp(t1, t2, yRL_to_rxR)\n",
    "#xRR_to_rxL = np.interp(t1, t2, xRR_to_rxL)\n",
    "#yRR_to_rxL = np.interp(t1, t2, yRR_to_rxL)\n",
    "#xRR_to_rxR = np.interp(t1, t2, xRR_to_rxR)\n",
    "#yRR_to_rxR = np.interp(t1, t2, yRR_to_rxR)\n",
    "#hdg = np.interp(t1, t2, hdg)\n",
    "\n",
    "f_vehicle = 1e3;         # [Hz], trajectory simulation clock rate, fixed by trajectory generation\n",
    "t_vehicle = 1/f_vehicle; # [s] , trajectory simulation clock period, fixed by trajectory generation"
   ]
  },
  {
   "cell_type": "code",
   "execution_count": 7,
   "id": "8b63024e",
   "metadata": {},
   "outputs": [
    {
     "name": "stdout",
     "output_type": "stream",
     "text": [
      "localization rate: 100.0 Hz\n",
      "so each localization period considers 10 trajectory samples\n",
      "and there are a total of 100 steps\n"
     ]
    }
   ],
   "source": [
    "localization_decimation_rate = 10\n",
    "localization_rate = 1/(t_vehicle*localization_decimation_rate)\n",
    "localization_num_steps = int(trajectory_partial_numsamples/localization_decimation_rate)\n",
    "print(\"localization rate:\", localization_rate, \"Hz\")\n",
    "print(\"so each localization period considers\", localization_decimation_rate, \"trajectory samples\")\n",
    "print(\"and there are a total of\", localization_num_steps, \"steps\")"
   ]
  },
  {
   "cell_type": "code",
   "execution_count": 8,
   "id": "58d2e92a",
   "metadata": {
    "scrolled": true
   },
   "outputs": [
    {
     "name": "stdout",
     "output_type": "stream",
     "text": [
      "Simulation stop time: 1.0\n",
      "Simulation length   : 10000000\n"
     ]
    }
   ],
   "source": [
    "c         = 299702547 #299702547  # [m/s] speed of light\n",
    "f_e       = 1.0e6;    # [Hz], emitted wave freq, left TX\n",
    "\n",
    "f_adc_clock  = 1e7;             # [Hz], measurement clock freq\n",
    "t_adc_clock  = 1/f_adc_clock;   # [s] , measurement clock period\n",
    "\n",
    "simulation_start  = t_adc_clock; # [s]\n",
    "simulation_stop   = trajectory_partial_numsamples*t_vehicle;\n",
    "simulation_length = int(simulation_stop/t_adc_clock)\n",
    "print(\"Simulation stop time:\",simulation_stop)\n",
    "print(\"Simulation length   :\",simulation_length)\n",
    "\n",
    "s_simulation   = np.linspace(simulation_start, simulation_stop, simulation_length)\n",
    "\n",
    "vehicle_time_start  = t_vehicle;\n",
    "vehicle_time_stop   = simulation_stop;\n",
    "vehicle_time_length = int(vehicle_time_stop/t_vehicle)\n",
    "\n",
    "s_vehicle_time = np.linspace(vehicle_time_start, vehicle_time_stop, vehicle_time_length)"
   ]
  },
  {
   "cell_type": "code",
   "execution_count": 9,
   "id": "ee5e93f9",
   "metadata": {},
   "outputs": [],
   "source": [
    "pwr_txL_to_rxL = received_power(xRL_to_rxL, yRL_to_rxL, 0, pd_dim/1000, hdg, tx_pwr, tx_norm, tx_lambertian_order, atten)\n",
    "pwr_txL_to_rxR = received_power(xRL_to_rxR, yRL_to_rxR, 0, pd_dim/1000, hdg, tx_pwr, tx_norm, tx_lambertian_order, atten)\n",
    "pwr_txR_to_rxL = received_power(xRR_to_rxL, yRR_to_rxL, 0, pd_dim/1000, hdg, tx_pwr, tx_norm, tx_lambertian_order, atten)\n",
    "pwr_txR_to_rxR = received_power(xRR_to_rxR, yRR_to_rxR, 0, pd_dim/1000, hdg, tx_pwr, tx_norm, tx_lambertian_order, atten)\n",
    "\n",
    "shared_pwr_txL_to_rxL = quad_distribute_power(xRL_to_rxL, yRL_to_rxL, 0, f_QRX, pwr_txL_to_rxL)\n",
    "shared_pwr_txL_to_rxR = quad_distribute_power(xRL_to_rxR, yRL_to_rxR, 0, f_QRX, pwr_txL_to_rxR)\n",
    "shared_pwr_txR_to_rxL = quad_distribute_power(xRR_to_rxL, yRR_to_rxL, 0, f_QRX, pwr_txR_to_rxL)\n",
    "shared_pwr_txR_to_rxR = quad_distribute_power(xRR_to_rxR, yRR_to_rxR, 0, f_QRX, pwr_txR_to_rxR)\n",
    "\n",
    "delay_txL_to_rxL = propagation_delay(xRL_to_rxL, yRL_to_rxL, c)\n",
    "delay_txL_to_rxR = propagation_delay(xRL_to_rxR, yRL_to_rxR, c)\n",
    "delay_txR_to_rxL = propagation_delay(xRR_to_rxL, yRR_to_rxL, c)\n",
    "delay_txR_to_rxR = propagation_delay(xRR_to_rxR, yRR_to_rxR, c)"
   ]
  },
  {
   "cell_type": "markdown",
   "id": "3c334180",
   "metadata": {},
   "source": [
    "### Simulate methods"
   ]
  },
  {
   "cell_type": "code",
   "execution_count": 10,
   "id": "f3a5c030",
   "metadata": {},
   "outputs": [],
   "source": [
    "add_noise = 1;"
   ]
  },
  {
   "cell_type": "code",
   "execution_count": 11,
   "id": "9a9e9f53",
   "metadata": {},
   "outputs": [
    {
     "name": "stderr",
     "output_type": "stream",
     "text": [
      "  0%|          | 0/1000 [00:00<?, ?it/s]/home/buraksoner/Dropbox/akademik/arastirma/vehicular/vehicular-vlp-simulations/positioning.py:108: RuntimeWarning: invalid value encountered in sqrt\n",
      "  est_y = np.sqrt(dL**2-est_x**2)\n",
      "/home/buraksoner/Dropbox/akademik/arastirma/vehicular/vehicular-vlp-simulations/positioning.py:102: RuntimeWarning: invalid value encountered in double_scalars\n",
      "  est_x = L*(1 + np.sin(np.deg2rad(aoaR))*np.cos(np.deg2rad(aoaL))/np.sin(np.deg2rad(aoaL - aoaR)));\n",
      "/home/buraksoner/Dropbox/akademik/arastirma/vehicular/vehicular-vlp-simulations/positioning.py:103: RuntimeWarning: divide by zero encountered in double_scalars\n",
      "  est_y = L*np.cos(np.deg2rad(aoaR))*np.cos(np.deg2rad(aoaL))/np.sin(np.deg2rad(aoaL - aoaR));\n",
      "100%|██████████| 1000/1000 [13:55<00:00,  1.20it/s]\n"
     ]
    }
   ],
   "source": [
    "iterations = 1000;\n",
    "\n",
    "aoa_rxL_txL = np.zeros((iterations, localization_num_steps)); \n",
    "aoa_rxR_txL = np.zeros((iterations, localization_num_steps));\n",
    "d_rxL_txL   = np.zeros((iterations, localization_num_steps)); \n",
    "d_rxR_txL   = np.zeros((iterations, localization_num_steps));\n",
    "\n",
    "est_x_directbearing = np.zeros((iterations, localization_num_steps)); \n",
    "est_y_directbearing = np.zeros((iterations, localization_num_steps));\n",
    "est_x_directrange   = np.zeros((iterations, localization_num_steps)); \n",
    "est_y_directrange   = np.zeros((iterations, localization_num_steps));\n",
    "\n",
    "for j in tqdm(range(0,iterations)):\n",
    "    for i in range(0, localization_num_steps):\n",
    "        smp_lo = i*localization_decimation_rate\n",
    "        smp_hi = (i+1)*localization_decimation_rate\n",
    "\n",
    "        step_time       = s_vehicle_time[smp_lo:smp_hi]\n",
    "        simulation_time = s_simulation[int(i*f_adc_clock/f_vehicle):int((i+1)*f_adc_clock/f_vehicle)]\n",
    "\n",
    "        rxLL, rxLR, rxRL, rxRR, delays = gen_qrx_onlyclocked(shared_pwr_txL_to_rxL, shared_pwr_txL_to_rxR, shared_pwr_txR_to_rxL, shared_pwr_txR_to_rxR,\n",
    "                                                             delay_txL_to_rxL, delay_txL_to_rxR, delay_txR_to_rxL, delay_txR_to_rxR,\n",
    "                                                             f_e, f_e, pd_snst, pd_gain, thermal_and_bg_curr, rx_P_rx_factor,\n",
    "                                                             step_time, simulation_time, smp_lo, smp_hi, add_noise);\n",
    "        (rxLA_txL, rxLB_txL, rxLC_txL, rxLD_txL) = rxLL\n",
    "        (rxLA_txR, rxLB_txR, rxLC_txR, rxLD_txR) = rxLR\n",
    "        (rxRA_txL, rxRB_txL, rxRC_txL, rxRD_txL) = rxRL\n",
    "        (rxRA_txR, rxRB_txR, rxRC_txR, rxRD_txR) = rxRR \n",
    "        (delayLL_sigTime, delayLR_sigTime, delayRL_sigTime, delayRR_sigTime) = delays\n",
    "\n",
    "        del rxLL, rxLR, rxRL, rxRR, delays \n",
    "\n",
    "        # initial transmitted signal is known (mark the +, that's because the signal does a roundtrip\n",
    "        # which is 1 delay earlier than echo transmission from target vehicle)\n",
    "        ### pi/32 to show it works with initial phase offset too\n",
    "        wav_rxL_txL = np.sin(2*np.pi*f_e*(simulation_time + delayLL_sigTime))\n",
    "        wav_rxR_txL = np.sin(2*np.pi*f_e*(simulation_time + delayLR_sigTime))\n",
    "\n",
    "        d_rxL_txL[j,i] = measure_range_roberts(rxLA_txL+rxLB_txL+rxLC_txL+rxLD_txL, wav_rxL_txL, c, f_e)\n",
    "        d_rxR_txL[j,i] = measure_range_roberts(rxRA_txL+rxRB_txL+rxRC_txL+rxRD_txL, wav_rxR_txL, c, f_e)\n",
    "\n",
    "        # assume that the VLC subsystem correctly decodes the signal (mark that the delayed signal \n",
    "        # is decoded, so the delay isn't actually measured, it's implicitly present on the RX signal)\n",
    "        ### pi/32 to show it works with initial phase offset too\n",
    "        wav_rxL_txL = np.sin(2*np.pi*f_e*(simulation_time - delayLL_sigTime))\n",
    "        wav_rxR_txL = np.sin(2*np.pi*f_e*(simulation_time - delayLR_sigTime))\n",
    "\n",
    "        thd = 1e-5; # just to avoid messing up the graphs when aoa detection is too bad.\n",
    "        aoa_rxL_txL[j,i] = measure_bearing(rxLA_txL, rxLB_txL, rxLC_txL, rxLD_txL, wav_rxL_txL, f_QRX, thd)\n",
    "        aoa_rxR_txL[j,i] = measure_bearing(rxRA_txL, rxRB_txL, rxRC_txL, rxRD_txL, wav_rxR_txL, f_QRX, thd)\n",
    "\n",
    "        est_x_directbearing[j,i], est_y_directbearing[j,i] = classicalfix_directbearing_mle(aoa_rxL_txL[j,i], aoa_rxR_txL[j,i], L)\n",
    "        est_x_directrange[j,i], est_y_directrange[j,i]     = classicalfix_directrange_mle(d_rxL_txL[j,i], d_rxR_txL[j,i], L)"
   ]
  },
  {
   "cell_type": "code",
   "execution_count": 12,
   "id": "0bdc34a3",
   "metadata": {},
   "outputs": [],
   "source": [
    "np.savez('es4_'+weather+daynight+'.npz', \n",
    "        xRL_to_rxL=xRL_to_rxL, yRL_to_rxL=yRL_to_rxL, xRL_to_rxR=xRL_to_rxR, yRL_to_rxR=yRL_to_rxR,\n",
    "        hdg=hdg, c=c, f_e = f_e,\n",
    "        d_rxL_txL=d_rxL_txL, d_rxR_txL=d_rxR_txL, aoa_rxL_txL=aoa_rxL_txL, aoa_rxR_txL=aoa_rxR_txL,\n",
    "        est_x_directbearing=est_x_directbearing, est_y_directbearing=est_y_directbearing,\n",
    "        est_x_directrange=est_x_directrange, est_y_directrange=est_y_directrange,\n",
    "        f_adc_clk=f_adc_clock,\n",
    "        daynight=daynight,\n",
    "        weather=weather,\n",
    "        temperature=temperature)"
   ]
  },
  {
   "cell_type": "code",
   "execution_count": 13,
   "id": "e3ec5cb4",
   "metadata": {},
   "outputs": [
    {
     "data": {
      "image/png": "[encoded data removed]",
      "text/plain": [
       "<Figure size 1200x480 with 2 Axes>"
      ]
     },
     "metadata": {
      "needs_background": "light"
     },
     "output_type": "display_data"
    }
   ],
   "source": [
    "fig, ax = plt.subplots(1,2,figsize=(15, 6), dpi=80)\n",
    "error_x_db = np.zeros((iterations, localization_decimation_rate, localization_num_steps))\n",
    "error_y_db = np.zeros((iterations, localization_decimation_rate, localization_num_steps))\n",
    "error_x_dr = np.zeros((iterations, localization_decimation_rate, localization_num_steps))\n",
    "error_y_dr = np.zeros((iterations, localization_decimation_rate, localization_num_steps))\n",
    "\n",
    "for i in range(0, localization_num_steps):\n",
    "    for j in range(0, localization_decimation_rate):\n",
    "        for k in range(0, iterations):\n",
    "            error_x_db[k,j,i] = est_x_directbearing[k,i] - xRL_to_rxL[i*localization_decimation_rate + j]\n",
    "            error_y_db[k,j,i] = est_y_directbearing[k,i] - yRL_to_rxL[i*localization_decimation_rate + j]\n",
    "            error_x_dr[k,j,i] = est_x_directrange[k,i] - xRL_to_rxL[i*localization_decimation_rate + j]\n",
    "            error_y_dr[k,j,i] = est_y_directrange[k,i] - yRL_to_rxL[i*localization_decimation_rate + j]\n",
    "\n",
    "error_xy_db = np.sqrt(error_x_db**2 + error_y_db**2)\n",
    "error_xy_dr = np.sqrt(error_x_dr**2 + error_y_dr**2)\n",
    "error_xy_cm = np.sqrt(error_x_db**2 + error_y_dr**2)\n",
    "ax[0].semilogy(np.amax(np.mean(error_xy_db,axis=0), axis=0))\n",
    "ax[0].semilogy(np.amax(np.mean(error_xy_dr,axis=0), axis=0))\n",
    "ax[0].semilogy(np.amax(np.mean(error_xy_cm,axis=0), axis=0))\n",
    "ax[0].grid()\n",
    "ax[1].semilogy(np.amax(np.std(error_xy_db,axis=0), axis=0))\n",
    "ax[1].semilogy(np.amax(np.std(error_xy_dr,axis=0), axis=0))\n",
    "ax[1].semilogy(np.amax(np.std(error_xy_cm,axis=0), axis=0))\n",
    "ax[1].grid()"
   ]
  }
 ],
 "metadata": {
  "kernelspec": {
   "display_name": "Python 3",
   "language": "python",
   "name": "python3"
  },
  "language_info": {
   "codemirror_mode": {
    "name": "ipython",
    "version": 3
   },
   "file_extension": ".py",
   "mimetype": "text/x-python",
   "name": "python",
   "nbconvert_exporter": "python",
   "pygments_lexer": "ipython3",
   "version": "3.8.10"
  }
 },
 "nbformat": 4,
 "nbformat_minor": 5
}
