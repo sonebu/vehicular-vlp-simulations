{
 "cells": [
  {
   "cell_type": "code",
   "execution_count": null,
   "metadata": {},
   "outputs": [],
   "source": [
    "import numpy as np\n",
    "import time\n",
    "import os\n",
    "import subprocess\n",
    "import multiprocessing\n",
    "import resource\n",
    "import matplotlib.pyplot as plt\n",
    "import math\n",
    "from functools import lru_cache\n",
    "import scipy\n",
    "from scipy.integrate import quad, dblquad, tplquad\n",
    "from pose_estimation import *\n",
    "from VLC_init import *\n",
    "\n",
    "\n",
    "\n",
    "vlc_obj = VLC_init()\n",
    "tx_cord_1, tx_cord_2, tx_cord_3, tx_cord_4 = np.array([[-5, 2], [-5, 3]]), np.array([[-5, 2], [-5, 3]]), np.array \\\n",
    "    ([[-5, 2], [-5, 3]]), np.array([[-5, 2], [-5, 3]])\n",
    "rx_cord_1, rx_cord_2, rx_cord_3, rx_cord_4 = np.array([[-5, 2], [-5, 3]]), np.array([[-5, 2], [-5, 3]]), np.array(\n",
    "    [[-5, 2], [-5, 3]]), np.array([[-5, 2], [-5, 3]])\n",
    "tx_cords = [tx_cord_1, tx_cord_2, tx_cord_3, tx_cord_4]\n",
    "rx_cords = [rx_cord_1, rx_cord_2, rx_cord_3, rx_cord_4]\n",
    "x_pose, y_pose, x_roberts, y_roberts, x_becha, y_becha = [], [], [], [], [], []\n",
    "for i in range(len(tx_cords)):\n",
    "    vlc_obj.update_cords(tx_cords[i], rx_cords[i])\n",
    "    vlc_obj.update_lookuptable()\n",
    "    pose_estimation = Pose(vlc_obj)\n",
    "    tx_pose = pose_estimation.estimate()\n",
    "    roberts_estimation = roberts(vlc_obj)\n",
    "    tx_roberts = roberts_estimation.estimate()\n",
    "    becha_estimation = becha(vlc_obj)\n",
    "    tx_becha = becha_estimation.estimate()\n",
    "    x_pose.append([tx_pose[0][0], tx_pose[1][0]])\n",
    "    y_pose.append([tx_pose[0][1], tx_pose[1][1]])\n",
    "    x_becha.append([tx_becha[0][0], tx_becha[1][0]])\n",
    "    y_becha.append([tx_becha[0][1], tx_becha[1][1]])\n",
    "    x_roberts.append([tx_roberts[0][0], tx_roberts[1][0]])\n",
    "    y_roberts.append([tx_roberts[0][1], tx_roberts[1][1]])\n",
    "\n",
    "plt.figure()\n",
    "plt.plot(x_pose, y_pose, 'o', color='blue')\n",
    "plt.plot(x_becha, y_becha, 'o', color='orange')\n",
    "plt.plot(x_roberts, y_roberts, 'o', color='purple')\n",
    "plt.plot(vlc_obj.trxpos, vlc_obj.trypos, 'o', color='green')\n",
    "plt.xlim(-6, -4)\n",
    "plt.ylim(1, 4)\n",
    "plt.grid()\n",
    "\n",
    "\n"
   ]
  }
 ],
 "metadata": {
  "kernelspec": {
   "display_name": "Python 3",
   "language": "python",
   "name": "python3"
  },
  "language_info": {
   "codemirror_mode": {
    "name": "ipython",
    "version": 3
   },
   "file_extension": ".py",
   "mimetype": "text/x-python",
   "name": "python",
   "nbconvert_exporter": "python",
   "pygments_lexer": "ipython3",
   "version": "3.8.3"
  },
  "pycharm": {
   "stem_cell": {
    "cell_type": "raw",
    "source": [],
    "metadata": {
     "collapsed": false
    }
   }
  }
 },
 "nbformat": 4,
 "nbformat_minor": 4
}