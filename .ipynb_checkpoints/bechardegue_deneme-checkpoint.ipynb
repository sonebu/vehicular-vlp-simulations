{
 "cells": [
  {
   "cell_type": "code",
   "execution_count": 1,
   "metadata": {},
   "outputs": [
    {
     "data": {
      "text/plain": [
       "'\\n*: coordinate center of cari\\n\\n|--------|                     \\n| car1   |                      \\n|-------*|\\n         |\\n       y |                   |---------|\\n         |                   |  car2   |\\n         |-------------------|*--------|\\n                    d\\n\\n'"
      ]
     },
     "execution_count": 1,
     "metadata": {},
     "output_type": "execute_result"
    }
   ],
   "source": [
    "import numpy as np\n",
    "import matplotlib.pyplot as plt\n",
    "from VLC_init import *\n",
    "\n",
    "\"\"\"\n",
    "*: coordinate center of cari\n",
    "\n",
    "|--------|                     \n",
    "| car1   |                      \n",
    "|-------*|\n",
    "         |\n",
    "       y |                   |---------|\n",
    "         |                   |  car2   |\n",
    "         |-------------------|*--------|\n",
    "                    d\n",
    "\n",
    "\"\"\""
   ]
  },
  {
   "cell_type": "code",
   "execution_count": 2,
   "metadata": {},
   "outputs": [
    {
     "name": "stdout",
     "output_type": "stream",
     "text": [
      "5.385164807134504\n",
      "5.0990195135927845\n",
      "5.385164807134504\n",
      "5.0990195135927845\n"
     ]
    }
   ],
   "source": [
    "vlc_obj = VLC_init()\n",
    "print(vlc_obj.distancebtw11)\n",
    "print(vlc_obj.distancebtw12)\n",
    "print(vlc_obj.distancebtw21)\n",
    "print(vlc_obj.distancebtw22)"
   ]
  },
  {
   "cell_type": "code",
   "execution_count": null,
   "metadata": {},
   "outputs": [],
   "source": []
  }
 ],
 "metadata": {
  "kernelspec": {
   "display_name": "Python 3",
   "language": "python",
   "name": "python3"
  },
  "language_info": {
   "codemirror_mode": {
    "name": "ipython",
    "version": 3
   },
   "file_extension": ".py",
   "mimetype": "text/x-python",
   "name": "python",
   "nbconvert_exporter": "python",
   "pygments_lexer": "ipython3",
   "version": "3.8.3"
  }
 },
 "nbformat": 4,
 "nbformat_minor": 4
}
