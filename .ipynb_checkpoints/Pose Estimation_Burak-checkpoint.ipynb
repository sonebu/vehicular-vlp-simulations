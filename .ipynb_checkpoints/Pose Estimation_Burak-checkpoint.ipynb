{
 "cells": [
  {
   "cell_type": "code",
   "execution_count": 1,
   "metadata": {},
   "outputs": [],
   "source": [
    "import numpy as np\n",
    "import scipy.signal as signal\n",
    "import matplotlib.pyplot as plt\n",
    "from VLC_init import *\n",
    "import scipy.fftpack\n",
    "import math\n"
   ]
  },
  {
   "cell_type": "code",
   "execution_count": 2,
   "metadata": {},
   "outputs": [],
   "source": [
    "\"\"\"\n",
    "*: coordinate center of cari\n",
    "\n",
    "|--------|                     \n",
    "| car1   |                      \n",
    "|-------*|\n",
    "         |\n",
    "       y |                   |---------|\n",
    "         |                   |  car2   |\n",
    "         |-------------------|*--------|\n",
    "                    d\n",
    "\n",
    "\"\"\"\n",
    "def translate(self, value, leftMin, leftMax, rightMin, rightMax):\n",
    "    # Figure out how 'wide' each range is\n",
    "    leftSpan = leftMax - leftMin\n",
    "    rightSpan = rightMax - rightMin\n",
    "    # Convert the left range into a 0-1 range (float)\n",
    "    valueScaled = float(value - leftMin) / float(leftSpan)\n",
    "    # Convert the 0-1 range into a value in the right range.\n",
    "    return rightMin + (valueScaled * rightSpan)"
   ]
  },
  {
   "cell_type": "code",
   "execution_count": 3,
   "metadata": {},
   "outputs": [
    {
     "name": "stdout",
     "output_type": "stream",
     "text": [
      "[[1.30566923e-10 9.19293971e-11]\n",
      " [2.41169141e-10 1.30566923e-10]]\n",
      "[[0.24881092 0.24938314]\n",
      " [0.24831119 0.24881092]]\n",
      "[[0.25118908 0.25061686]\n",
      " [0.25168881 0.25118908]]\n",
      "[[0.24881092 0.24938314]\n",
      " [0.24831119 0.24881092]]\n",
      "[[0.25118908 0.25061686]\n",
      " [0.25168881 0.25118908]]\n"
     ]
    }
   ],
   "source": [
    "vlc_obj = VLC_init()\n",
    "vlc_obj.update_lookuptable()\n",
    "print(vlc_obj.H)\n",
    "print(vlc_obj.eps_a)\n",
    "print(vlc_obj.eps_b)\n",
    "print(vlc_obj.eps_c)\n",
    "print(vlc_obj.eps_d)"
   ]
  },
  {
   "cell_type": "code",
   "execution_count": 4,
   "metadata": {},
   "outputs": [
    {
     "data": {
      "text/plain": [
       "(1999,)"
      ]
     },
     "execution_count": 4,
     "metadata": {},
     "output_type": "execute_result"
    }
   ],
   "source": [
    "f_m1 = 1000000  # 1MHz \n",
    "f_m2 = 2000000 # 2MHz \n",
    "\n",
    "dt = 5e-6; \n",
    "t = np.arange(0, 1e-2-dt, dt);\n",
    "w1 = 2 * math.pi * f_m1\n",
    "w2 = 2 * math.pi * f_m2\n",
    "noise_standard_deviation = 1e-5\n",
    "\n",
    "vlc_params = VLC_init()\n",
    "\n",
    "delta_delay1 = (vlc_params.delays)[0][0] - (vlc_params.delays)[0][1]\n",
    "delta_delay2 = vlc_params.delays[1][0] - vlc_params.delays[1][1]\n",
    "s1_w1 = np.cos(w1*(t))\n",
    "s1_w1 = s1_w1[:, np.newaxis].T\n",
    "s2_w2 = np.cos(w2*(t))\n",
    "s2_w2 = s2_w2[:, np.newaxis].T\n",
    "\n",
    "#after going through ADC at receiver\n",
    "r1_w1 = (vlc_obj.H[0][0]*np.cos(w1*(t - delta_delay1))+noise_standard_deviation*np.random.randn(1,len(t)))\n",
    "r2_w1 = (vlc_obj.H[1][0]*np.cos(w1*(t))+noise_standard_deviation*np.random.randn(1,len(t)))\n",
    "\n",
    "r1_w2 = (vlc_obj.H[0][1]*np.cos(w2*(t - delta_delay2))+noise_standard_deviation*np.random.randn(1,len(t)))\n",
    "r2_w2 = (vlc_obj.H[1][1]*np.cos(w2*(t))+noise_standard_deviation*np.random.randn(1,len(t)))\n",
    "t.shape"
   ]
  },
  {
   "cell_type": "code",
   "execution_count": 5,
   "metadata": {},
   "outputs": [],
   "source": [
    "eps_a_s1, eps_b_s1, eps_c_s1, eps_d_s1, phi_h_s1 = np.array([0.,0.]), np.array([0.,0.]), np.array([0.,0.]), np.array([0.,0.]), np.array([0.,0.])\n",
    "eps_a_s2, eps_b_s2, eps_c_s2, eps_d_s2, phi_h_s2 = np.array([0.,0.]), np.array([0.,0.]), np.array([0.,0.]), np.array([0.,0.]), np.array([0.,0.])\n",
    "\n",
    "hbuf = 1000 \n",
    "w0 = 500\n",
    "theta_R_L = np.array([[0., 0.], [0., 0.]]).astype(longfloat)\n",
    "u_q = 1e-12\n",
    "\n",
    "for w in range(w0, (w0+hbuf-1)):\n",
    "    eps_a_s1[0] += ((vlc_obj.eps_a[0][0]*r1_w1[0][w] - u_q)*s1_w1[0][w]) \n",
    "    eps_b_s1[0] += ((vlc_obj.eps_b[0][0]*r1_w1[0][w]- u_q)*s1_w1[0][w]) \n",
    "    eps_c_s1[0] += ((vlc_obj.eps_c[0][0]*r1_w1[0][w]- u_q)*s1_w1[0][w]) \n",
    "    eps_d_s1[0] += ((vlc_obj.eps_d[0][0]*r1_w1[0][w]- u_q)*s1_w1[0][w])\n",
    "    eps_a_s1[1] += ((vlc_obj.eps_a[0][1]*r2_w1[0][w]- u_q)*s1_w1[0][w]) \n",
    "    eps_b_s1[1] += ((vlc_obj.eps_b[0][1]*r2_w1[0][w]- u_q)*s1_w1[0][w])\n",
    "    eps_c_s1[1] += ((vlc_obj.eps_c[0][1]*r2_w1[0][w]- u_q)*s1_w1[0][w]) \n",
    "    eps_d_s1[1] += ((vlc_obj.eps_d[0][1]*r2_w1[0][w]- u_q)*s1_w1[0][w]) \n",
    "    \n",
    "    eps_a_s2[0] += ((vlc_obj.eps_a[1][0]*r1_w2[0][w]- u_q)*s2_w2[0][w])\n",
    "    eps_b_s2[0] += ((vlc_obj.eps_b[1][0]*r1_w2[0][w]- u_q)*s2_w2[0][w])\n",
    "    eps_c_s2[0] += ((vlc_obj.eps_c[1][0]*r1_w2[0][w]- u_q)*s2_w2[0][w])\n",
    "    eps_d_s2[0] += ((vlc_obj.eps_d[1][0]*r1_w2[0][w]- u_q)*s2_w2[0][w])\n",
    "    eps_a_s2[1] += ((vlc_obj.eps_a[1][1]*r2_w2[0][w]- u_q)*s2_w2[0][w])\n",
    "    eps_b_s2[1] += ((vlc_obj.eps_b[1][1]*r2_w2[0][w]- u_q)*s2_w2[0][w])\n",
    "    eps_c_s2[1] += ((vlc_obj.eps_c[1][1]*r2_w2[0][w]- u_q)*s2_w2[0][w])\n",
    "    eps_d_s2[1] += ((vlc_obj.eps_d[1][1]*r2_w2[0][w]- u_q)*s2_w2[0][w])\n",
    "\n",
    "\n",
    "    \n",
    "eps_a_s1[0] /= hbuf\n",
    "eps_b_s1[0] /= hbuf\n",
    "eps_c_s1[0] /= hbuf\n",
    "eps_d_s1[0] /= hbuf\n",
    "eps_a_s1[1] /= hbuf\n",
    "eps_b_s1[1] /= hbuf\n",
    "eps_c_s1[1] /= hbuf\n",
    "eps_d_s1[1] /= hbuf\n",
    "\n",
    "eps_a_s2[0] /= hbuf\n",
    "eps_b_s2[0] /= hbuf\n",
    "eps_c_s2[0] /= hbuf\n",
    "eps_d_s2[0] /= hbuf\n",
    "eps_a_s2[1] /= hbuf\n",
    "eps_b_s2[1] /= hbuf\n",
    "eps_c_s2[1] /= hbuf\n",
    "eps_d_s2[1] /= hbuf\n",
    "\n",
    "\n",
    "phi_h_s1[0] = ((eps_b_s1[0] + eps_d_s1[0]) - (eps_a_s1[0] + eps_c_s1[0])) / (eps_a_s1[0] + eps_b_s1[0] + eps_c_s1[0] + eps_d_s1[0])\n",
    "phi_h_s1[1] = ((eps_b_s1[1] + eps_d_s1[1]) - (eps_a_s1[1] + eps_c_s1[1])) / (eps_a_s1[1] + eps_b_s1[1] + eps_c_s1[1] + eps_d_s1[1])\n",
    "phi_h_s2[0] = ((eps_b_s2[0] + eps_d_s2[0]) - (eps_a_s2[0] + eps_c_s2[0])) / (eps_a_s2[0] + eps_b_s2[0] + eps_c_s2[0] + eps_d_s2[0])\n",
    "phi_h_s2[1] = ((eps_b_s2[1] + eps_d_s2[1]) - (eps_a_s2[1] + eps_c_s2[1])) / (eps_a_s2[1] + eps_b_s2[1] + eps_c_s2[1] + eps_d_s2[1])\n",
    "\n",
    "\n",
    "\n",
    "theta_R_L[0][0] = vlc_obj.translate(phi_h_s1[0], -1, 1, (-1*vlc_obj.e_angle), vlc_obj.e_angle)\n",
    "theta_R_L[0][1] = vlc_obj.translate(phi_h_s1[1], -1, 1, (-1*vlc_obj.e_angle), vlc_obj.e_angle)\n",
    "theta_R_L[1][0] = vlc_obj.translate(phi_h_s2[0], -1, 1, (-1*vlc_obj.e_angle), vlc_obj.e_angle)\n",
    "theta_R_L[1][1] = vlc_obj.translate(phi_h_s2[1], -1, 1, (-1*vlc_obj.e_angle), vlc_obj.e_angle)\n"
   ]
  },
  {
   "cell_type": "code",
   "execution_count": 6,
   "metadata": {},
   "outputs": [
    {
     "name": "stdout",
     "output_type": "stream",
     "text": [
      "Transmitter-1 x pos is :  -1.4999783597749459 , y pos is :  -5.000031364095184\n",
      "Transmitter-2 x pos is :  -2.50068417717565 , y pos is :  -5.001846627570651\n"
     ]
    }
   ],
   "source": [
    "diff_1 = theta_R_L[0][1]-theta_R_L[0][0]\n",
    "t_x_1 = vlc_obj.distancecar*(0.5 + (math.sin(theta_R_L[0][0])*math.cos(theta_R_L[0][1]))/(math.sin(diff_1)))\n",
    "t_y_1 = vlc_obj.distancecar*((math.cos(theta_R_L[0][0])*math.cos(theta_R_L[0][1]))/(math.sin(diff_1)))\n",
    "print(\"Transmitter-1 x pos is : \", t_x_1, \", y pos is : \", t_y_1)\n",
    "\n",
    "diff_2 = theta_R_L[1][1]-theta_R_L[1][0]\n",
    "t_x_2 = vlc_obj.distancecar*(0.5 + (math.sin(theta_R_L[1][0])*math.cos(theta_R_L[1][1]))/(math.sin(diff_2)))\n",
    "t_y_2 = vlc_obj.distancecar*((math.cos(theta_R_L[1][0])*math.cos(theta_R_L[1][1]))/(math.sin(diff_2)))\n",
    "print(\"Transmitter-2 x pos is : \", t_x_2, \", y pos is : \", t_y_2)\n",
    "\n",
    "\n"
   ]
  },
  {
   "cell_type": "code",
   "execution_count": 7,
   "metadata": {},
   "outputs": [
    {
     "name": "stdout",
     "output_type": "stream",
     "text": [
      "Error of Transmitter-1 position in x: 2.1640225054131434e-05 , y: 7.000031364095184\n",
      "Error of Transmitter-2 position in x, y: 5.50068417717565 , y: 2.501846627570651\n"
     ]
    }
   ],
   "source": [
    "#Error calc\n",
    "t_x_1_act, t_y_1_act, t_x_2_act, t_y_2_act = vlc_obj.change_cords()\n",
    "\n",
    "print(\"Error of Transmitter-1 position in x:\", abs(t_x_1_act-t_x_1),\", y:\", abs(t_y_1_act-t_y_1))\n",
    "print(\"Error of Transmitter-2 position in x, y:\", abs(t_x_2_act-t_x_2),\", y:\", abs(t_y_2_act-t_y_2))\n",
    "\n",
    "\n"
   ]
  },
  {
   "cell_type": "code",
   "execution_count": null,
   "metadata": {},
   "outputs": [],
   "source": []
  },
  {
   "cell_type": "code",
   "execution_count": null,
   "metadata": {},
   "outputs": [],
   "source": []
  }
 ],
 "metadata": {
  "kernelspec": {
   "display_name": "Python 3",
   "language": "python",
   "name": "python3"
  },
  "language_info": {
   "codemirror_mode": {
    "name": "ipython",
    "version": 3
   },
   "file_extension": ".py",
   "mimetype": "text/x-python",
   "name": "python",
   "nbconvert_exporter": "python",
   "pygments_lexer": "ipython3",
   "version": "3.8.3"
  }
 },
 "nbformat": 4,
 "nbformat_minor": 4
}
