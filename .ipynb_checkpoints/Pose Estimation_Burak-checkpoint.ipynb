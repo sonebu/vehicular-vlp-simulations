{
 "cells": [
  {
   "cell_type": "code",
   "execution_count": 1,
   "metadata": {},
   "outputs": [],
   "source": [
    "import numpy as np\n",
    "import scipy.signal as signal\n",
    "import matplotlib.pyplot as plt\n",
    "from VLC_init import *\n",
    "import scipy.fftpack\n",
    "import cmath\n"
   ]
  },
  {
   "cell_type": "code",
   "execution_count": 2,
   "metadata": {},
   "outputs": [],
   "source": [
    "\"\"\"\n",
    "*: coordinate center of cari\n",
    "\n",
    "|--------|                     \n",
    "| car1   |                      \n",
    "|-------*|\n",
    "         |\n",
    "       y |                   |---------|\n",
    "         |                   |  car2   |\n",
    "         |-------------------|*--------|\n",
    "                    d\n",
    "\n",
    "\"\"\"\n",
    "def translate(self, value, leftMin, leftMax, rightMin, rightMax):\n",
    "    # Figure out how 'wide' each range is\n",
    "    leftSpan = leftMax - leftMin\n",
    "    rightSpan = rightMax - rightMin\n",
    "    # Convert the left range into a 0-1 range (float)\n",
    "    valueScaled = float(value - leftMin) / float(leftSpan)\n",
    "    # Convert the 0-1 range into a value in the right range.\n",
    "    return rightMin + (valueScaled * rightSpan)"
   ]
  },
  {
   "cell_type": "code",
   "execution_count": 3,
   "metadata": {},
   "outputs": [
    {
     "name": "stdout",
     "output_type": "stream",
     "text": [
      "[[1.30566923e-10 9.19293971e-11]\n",
      " [2.41169141e-10 1.30566923e-10]]\n",
      "[[0.24881092 0.24938314]\n",
      " [0.24831119 0.24881092]]\n",
      "[[0.25118908 0.25061686]\n",
      " [0.25168881 0.25118908]]\n",
      "[[0.24881092 0.24938314]\n",
      " [0.24831119 0.24881092]]\n",
      "[[0.25118908 0.25061686]\n",
      " [0.25168881 0.25118908]]\n"
     ]
    }
   ],
   "source": [
    "vlc_obj = VLC_init()\n",
    "vlc_obj.update_lookuptable()\n",
    "print(vlc_obj.H)\n",
    "print(vlc_obj.eps_a)\n",
    "print(vlc_obj.eps_b)\n",
    "print(vlc_obj.eps_c)\n",
    "print(vlc_obj.eps_d)"
   ]
  },
  {
   "cell_type": "code",
   "execution_count": 4,
   "metadata": {},
   "outputs": [],
   "source": [
    "#A_c = 20  # float(input('Enter carrier amplitude: '))\n",
    "#f_c = 500000000000000  # float(input('Enter carrier frquency: '))\n",
    "A_m = 1  # float(input('Enter message amplitude: '))\n",
    "f_m1 = 40000000  # 40MHz \n",
    "f_m2 = 25000000 # 25MHz \n",
    "#modulation_index = 1  \n",
    "\n",
    "dt = 1e-8; \n",
    "t = np.arange(0, 1e-3-dt, dt);\n",
    "w1 = 2 * math.pi * f_m1\n",
    "w2 = 2 * math.pi * f_m2\n",
    "noise_standard_deviation = 1e-5\n",
    "\n",
    "vlc_params = VLC_init()\n",
    "\n",
    "delta_delay1 = (vlc_params.delays)[0][0] - (vlc_params.delays)[0][1]\n",
    "delta_delay2 = vlc_params.delays[1][0] - vlc_params.delays[1][1]\n",
    "#carrier = A_c * np.cos(2 * np.pi * f_c * t)\n",
    "#modulator = A_m * np.cos(2 * np.pi * f_m * t)\n",
    "#product = A_c * (1 + modulation_index * np.cos(2 * np.pi * f_m * t)) * np.cos(2 * np.pi * f_c * t)\n",
    "\n",
    "s1_w1 = np.cos(w1*(t))\n",
    "s1_w1 = s1_w1[:, np.newaxis].T\n",
    "s2_w2 = np.cos(w2*(t))\n",
    "s2_w2 = s2_w2[:, np.newaxis].T\n",
    "#after going through ADC at receiver\n",
    "r1_w1 = (vlc_obj.H[0][0]*np.cos(w1*(t - delta_delay1))+noise_standard_deviation*np.random.randn(1,len(t)))\n",
    "r2_w1 = (vlc_obj.H[1][0]*np.cos(w1*(t))+noise_standard_deviation*np.random.randn(1,len(t)))\n",
    "\n",
    "r1_w2 = (vlc_obj.H[0][1]*np.cos(w2*(t - delta_delay2))+noise_standard_deviation*np.random.randn(1,len(t)))\n",
    "r2_w2 = (vlc_obj.H[1][1]*np.cos(w2*(t))+noise_standard_deviation*np.random.randn(1,len(t)))\n"
   ]
  },
  {
   "cell_type": "code",
   "execution_count": 41,
   "metadata": {},
   "outputs": [],
   "source": [
    "eps_a, eps_b, eps_c, eps_d, phi_h = np.array([0.,0.]), np.array([0.,0.]), np.array([0.,0.]), np.array([0.,0.]), np.array([0.,0.])\n",
    "hbuf = 1000 \n",
    "w0 = 500\n",
    "\n",
    "for w in range(w0, (w0+hbuf-1)):\n",
    "    eps_a[0] += ((vlc_obj.eps_a[0][0]*r1_w1[0][w])*s1_w1[0][w]) +((vlc_obj.eps_a[1][0]*r1_w2[0][w])*s2_w2[0][w])\n",
    "    eps_b[0] += ((vlc_obj.eps_b[0][0]*r1_w1[0][w])*s1_w1[0][w]) +((vlc_obj.eps_b[1][0]*r1_w2[0][w])*s2_w2[0][w])\n",
    "    eps_c[0] += ((vlc_obj.eps_c[0][0]*r1_w1[0][w])*s1_w1[0][w]) +((vlc_obj.eps_c[1][0]*r1_w2[0][w])*s2_w2[0][w])\n",
    "    eps_d[0] += ((vlc_obj.eps_d[0][0]*r1_w1[0][w])*s1_w1[0][w]) +((vlc_obj.eps_d[1][0]*r1_w2[0][w])*s2_w2[0][w])\n",
    "    eps_a[1] += ((vlc_obj.eps_a[0][1]*r1_w1[0][w])*s1_w1[0][w]) +((vlc_obj.eps_a[1][1]*r1_w2[0][w])*s2_w2[0][w])\n",
    "    eps_b[1] += ((vlc_obj.eps_b[0][1]*r1_w1[0][w])*s1_w1[0][w]) +((vlc_obj.eps_b[1][1]*r1_w2[0][w])*s2_w2[0][w])\n",
    "    eps_c[1] += ((vlc_obj.eps_c[0][1]*r1_w1[0][w])*s1_w1[0][w]) +((vlc_obj.eps_c[1][1]*r1_w2[0][w])*s2_w2[0][w])\n",
    "    eps_d[1] += ((vlc_obj.eps_d[0][1]*r1_w1[0][w])*s1_w1[0][w]) +((vlc_obj.eps_d[1][1]*r1_w2[0][w])*s2_w2[0][w])\n",
    "\n",
    "\n",
    "phi_h[0] = ((eps_b[0] + eps_d[0]) - (eps_a[0] + eps_c[0])) / (eps_a[0] + eps_b[0] + eps_c[0] + eps_d[0])\n",
    "phi_h[1] = ((eps_b[1] + eps_d[1]) - (eps_a[1] + eps_c[1])) / (eps_a[1] + eps_b[1] + eps_c[1] + eps_d[1])\n",
    "\n",
    "\n",
    "theta_R = vlc_obj.translate(phi_h[0], -1, 1, (-1*vlc_obj.e_angle), vlc_obj.e_angle)\n",
    "theta_L = vlc_obj.translate(phi_h[1], -1, 1, (-1*vlc_obj.e_angle), vlc_obj.e_angle)\n"
   ]
  },
  {
   "cell_type": "code",
   "execution_count": 42,
   "metadata": {},
   "outputs": [
    {
     "name": "stdout",
     "output_type": "stream",
     "text": [
      "Receiver x pos is :  1.5802866729289364\n",
      "Receiver y pos is :  -1.7667304160396207\n"
     ]
    }
   ],
   "source": [
    "diff = theta_L-theta_R\n",
    "r_x = vlc_obj.distancecar*(0.5 + (math.sin(theta_R)*math.cos(theta_L))/(math.sin(diff)))\n",
    "r_y = vlc_obj.distancecar*((math.cos(theta_R)*math.cos(theta_L))/(math.sin(diff)))\n",
    "print(\"Receiver x pos is : \", r_x)\n",
    "print(\"Receiver y pos is : \", r_y)\n",
    "\n",
    "\n",
    "\n",
    "\n",
    "\n",
    "\n"
   ]
  },
  {
   "cell_type": "code",
   "execution_count": null,
   "metadata": {},
   "outputs": [],
   "source": []
  }
 ],
 "metadata": {
  "kernelspec": {
   "display_name": "Python 3",
   "language": "python",
   "name": "python3"
  },
  "language_info": {
   "codemirror_mode": {
    "name": "ipython",
    "version": 3
   },
   "file_extension": ".py",
   "mimetype": "text/x-python",
   "name": "python",
   "nbconvert_exporter": "python",
   "pygments_lexer": "ipython3",
   "version": "3.8.3"
  }
 },
 "nbformat": 4,
 "nbformat_minor": 4
}
