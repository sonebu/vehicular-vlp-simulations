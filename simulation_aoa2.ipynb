{
 "cells": [
  {
   "cell_type": "code",
   "execution_count": 1,
   "id": "cbd34c18",
   "metadata": {},
   "outputs": [],
   "source": [
    "import numpy as np\n",
    "import matplotlib.pyplot as plt\n",
    "\n",
    "from propagation import received_power, quad_distribute_power, propagation_delay\n",
    "from parameter_measurement import aoa_measurement"
   ]
  },
  {
   "cell_type": "markdown",
   "id": "5d9d721a",
   "metadata": {},
   "source": [
    "## Get configuration"
   ]
  },
  {
   "cell_type": "markdown",
   "id": "ca170bc1",
   "metadata": {},
   "source": [
    "**weather and sunlight conditions**\n",
    "\n",
    "weather-dependent signal attenuation values for laser-based FSO channels are provided in the following paper:\n",
    "\n",
    "Grabner, M., & Kvicera, V. (2013). \"Multiple scattering in rain and fog on free-space optical links.\" _Journal of lightwave technology_, 32(3), 513-520.\n",
    " \n",
    "we've modified these (considering worst-case approximations) for a vlc channel. Also, sunlight noise values are provided here:\n",
    "\n",
    "Moreira, A. J., Valadas, R. T., & de Oliveira Duarte, A. M. (1997). \"Optical interference produced by artificial light.\" _Wireless Networks_, 3(2), 131-140."
   ]
  },
  {
   "cell_type": "code",
   "execution_count": 2,
   "id": "a9baf5a1",
   "metadata": {},
   "outputs": [],
   "source": [
    "weather     = 'clear' \n",
    "temperature = 298 # Kelvin\n",
    "daynight    = 'day_indirectsun'\n",
    "\n",
    "\n",
    "daynight_noise_factors = dict()\n",
    "daynight_noise_factors['day_directsun']   = 1.000 # 5100 uA\n",
    "daynight_noise_factors['day_indirectsun'] = 0.145 # 740 uA\n",
    "daynight_noise_factors['night']           = 0.010 # very small\n",
    "\n",
    "# minmax bounds to be safe if you set the noise factor yourself\n",
    "bg_current = (np.minimum(1, np.maximum(0, daynight_noise_factors[daynight]))*5100)*1e-6;\n",
    "\n",
    "weather_attenuation_factors = dict()\n",
    "weather_attenuation_factors['clear'] = 0.0\n",
    "weather_attenuation_factors['rain']  = -0.05\n",
    "weather_attenuation_factors['fog']   = -0.2\n",
    "\n",
    "atten = weather_attenuation_factors[weather];"
   ]
  },
  {
   "cell_type": "markdown",
   "id": "9a40d647",
   "metadata": {},
   "source": [
    "**trajectory**"
   ]
  },
  {
   "cell_type": "code",
   "execution_count": 3,
   "id": "74202979",
   "metadata": {},
   "outputs": [],
   "source": [
    "a = np.load('trajectories/generated_lanechange.npz')"
   ]
  },
  {
   "cell_type": "code",
   "execution_count": 4,
   "id": "f8e82a26",
   "metadata": {},
   "outputs": [
    {
     "name": "stdout",
     "output_type": "stream",
     "text": [
      "vehicle width, check:  1.6\n"
     ]
    }
   ],
   "source": [
    "L = 1.6 # vehicle width in meters, check below\n",
    "print(\"vehicle width, check: \", np.sqrt((a['x_RR']-a['x_RL'])**2+(a['y_RR']-a['y_RL'])**2)[0])\n",
    "xRL_to_rxL = a['x_RL']\n",
    "yRL_to_rxL = a['y_RL']\n",
    "xRR_to_rxL = a['x_RR']\n",
    "yRR_to_rxL = a['y_RR']\n",
    "xRL_to_rxR = a['x_RL'] - L\n",
    "yRL_to_rxR = a['y_RL']\n",
    "xRR_to_rxR = a['x_RR'] - L\n",
    "yRR_to_rxR = a['y_RR']\n",
    "hdg  = a['hdg']\n",
    "veh_dt = 1e-3 # sampling rate is 1000 Hz by default."
   ]
  },
  {
   "cell_type": "markdown",
   "id": "4ce2bd91",
   "metadata": {},
   "source": [
    "**optics**"
   ]
  },
  {
   "cell_type": "code",
   "execution_count": 5,
   "id": "02302b1d",
   "metadata": {},
   "outputs": [],
   "source": [
    "a = np.load('optics/qrx_planoconvex.npz')"
   ]
  },
  {
   "cell_type": "code",
   "execution_count": 6,
   "id": "88e4ed32",
   "metadata": {},
   "outputs": [],
   "source": [
    "f_QRX    = a['f_QRX']\n",
    "pd_snst  = a['tia_gamma']\n",
    "pd_gain  = a['tia_R_F']\n",
    "pd_dim   = a['detecting_area'] # square detector dimension in milimeters. needs a /1000 in calcs\n",
    "rx_P_rx_factor     = a['tia_shot_P_r_factor']\n",
    "rx_I_bg_factor     = a['tia_shot_I_bg_factor']\n",
    "rx_thermal_factor1 = a['tia_thermal_factor1']\n",
    "rx_thermal_factor2 = a['tia_thermal_factor2']"
   ]
  },
  {
   "cell_type": "code",
   "execution_count": 7,
   "id": "7ab7a3ea",
   "metadata": {},
   "outputs": [],
   "source": [
    "a = np.load('optics/tx_lambertian_20deg_2W.npz')"
   ]
  },
  {
   "cell_type": "code",
   "execution_count": 8,
   "id": "356be537",
   "metadata": {},
   "outputs": [],
   "source": [
    "tx_ha   = a['half_angle']\n",
    "tx_pwr  = a['power']\n",
    "tx_norm = a['normalization_factor']\n",
    "tx_lambertian_order = int(-np.log(2)/np.log(np.cos(np.deg2rad(tx_ha))));"
   ]
  },
  {
   "cell_type": "markdown",
   "id": "0085ecea",
   "metadata": {},
   "source": [
    "## Simulate propagation"
   ]
  },
  {
   "cell_type": "markdown",
   "id": "249ccdc8",
   "metadata": {},
   "source": [
    "**channel gain**\n",
    "\n",
    "get received optical power (whole detector) in Watts"
   ]
  },
  {
   "cell_type": "code",
   "execution_count": 9,
   "id": "ae4ca91f",
   "metadata": {},
   "outputs": [],
   "source": [
    "pwr_txL_to_rxL = received_power(xRL_to_rxL, yRL_to_rxL, 0, pd_dim/1000, tx_pwr, tx_norm, tx_lambertian_order, atten)\n",
    "pwr_txL_to_rxR = received_power(xRL_to_rxR, yRL_to_rxR, 0, pd_dim/1000, tx_pwr, tx_norm, tx_lambertian_order, atten)\n",
    "pwr_txR_to_rxL = received_power(xRR_to_rxL, yRR_to_rxL, 0, pd_dim/1000, tx_pwr, tx_norm, tx_lambertian_order, atten)\n",
    "pwr_txR_to_rxR = received_power(xRR_to_rxR, yRR_to_rxR, 0, pd_dim/1000, tx_pwr, tx_norm, tx_lambertian_order, atten)"
   ]
  },
  {
   "cell_type": "code",
   "execution_count": 10,
   "id": "c0a066b6",
   "metadata": {},
   "outputs": [
    {
     "data": {
      "image/png": "[encoded data removed]",
      "text/plain": [
       "<Figure size 432x288 with 1 Axes>"
      ]
     },
     "metadata": {
      "needs_background": "light"
     },
     "output_type": "display_data"
    }
   ],
   "source": [
    "fig, ax = plt.subplots()\n",
    "ax.plot(pwr_txL_to_rxL)\n",
    "ax.plot(pwr_txL_to_rxR)\n",
    "ax.plot(pwr_txR_to_rxL)\n",
    "ax.plot(pwr_txR_to_rxR)\n",
    "ax.grid()\n",
    "plt.show()"
   ]
  },
  {
   "cell_type": "markdown",
   "id": "dabb6bbb",
   "metadata": {},
   "source": [
    "share that among the 4 quadrants"
   ]
  },
  {
   "cell_type": "code",
   "execution_count": 11,
   "id": "6b6b3088",
   "metadata": {},
   "outputs": [],
   "source": [
    "shared_pwr_txL_to_rxL = quad_distribute_power(xRL_to_rxL, yRL_to_rxL, 0, f_QRX, pwr_txL_to_rxL)\n",
    "shared_pwr_txL_to_rxR = quad_distribute_power(xRL_to_rxR, yRL_to_rxR, 0, f_QRX, pwr_txL_to_rxR)\n",
    "shared_pwr_txR_to_rxL = quad_distribute_power(xRR_to_rxL, yRR_to_rxL, 0, f_QRX, pwr_txR_to_rxL)\n",
    "shared_pwr_txR_to_rxR = quad_distribute_power(xRR_to_rxR, yRR_to_rxR, 0, f_QRX, pwr_txR_to_rxR)"
   ]
  },
  {
   "cell_type": "code",
   "execution_count": 12,
   "id": "5e9566d8",
   "metadata": {},
   "outputs": [
    {
     "data": {
      "image/png": "[encoded data removed]",
      "text/plain": [
       "<Figure size 432x288 with 1 Axes>"
      ]
     },
     "metadata": {
      "needs_background": "light"
     },
     "output_type": "display_data"
    }
   ],
   "source": [
    "fig, ax = plt.subplots()\n",
    "ax.plot(shared_pwr_txR_to_rxL[0])\n",
    "ax.plot(shared_pwr_txR_to_rxL[1])\n",
    "ax.plot(shared_pwr_txR_to_rxL[2])\n",
    "ax.plot(shared_pwr_txR_to_rxL[3])\n",
    "ax.grid()\n",
    "plt.show()"
   ]
  },
  {
   "cell_type": "markdown",
   "id": "a9821c6e",
   "metadata": {},
   "source": [
    "**propagation delay**\n",
    "\n",
    "speed_of_light defined inside"
   ]
  },
  {
   "cell_type": "code",
   "execution_count": 13,
   "id": "c5d09c79",
   "metadata": {},
   "outputs": [],
   "source": [
    "delay_txL_to_rxL = propagation_delay(xRL_to_rxL, yRL_to_rxL, 0)\n",
    "delay_txL_to_rxR = propagation_delay(xRL_to_rxR, yRL_to_rxR, 0)\n",
    "delay_txR_to_rxL = propagation_delay(xRR_to_rxL, yRR_to_rxL, 0)\n",
    "delay_txR_to_rxR = propagation_delay(xRR_to_rxR, yRR_to_rxR, 0)"
   ]
  },
  {
   "cell_type": "markdown",
   "id": "941d7f9e",
   "metadata": {},
   "source": [
    "## Generate received signals from rx power values and noise factors"
   ]
  },
  {
   "cell_type": "markdown",
   "id": "ed91a3b6",
   "metadata": {},
   "source": [
    "for simplicity, let's just assume a simple sine wave for each TX. \n",
    "\n",
    "Roberts wants 10-50 MHz with higher=better, but that's not feasible. Bechadergue ideally wants something on the order of MHz, and SonerColeri doesn't care, so let's stick to 1 MHz / 0.9 MHz, which is feasible\n",
    "\n",
    "noiseless waveforms first"
   ]
  },
  {
   "cell_type": "code",
   "execution_count": 14,
   "id": "5dff7fd5",
   "metadata": {},
   "outputs": [],
   "source": [
    "sig_dt      = 1.0*1e-7 #signal sampling period, seconds\n",
    "txL_carrier = 1.0*1e6 # Hz\n",
    "txR_carrier = 0.9*1e6 # Hz\n",
    "\n",
    "rxLA_txL_peakAmps = shared_pwr_txL_to_rxL[0]*pd_snst\n",
    "rxLC_txL_peakAmps = shared_pwr_txL_to_rxL[1]*pd_snst\n",
    "rxLB_txL_peakAmps = shared_pwr_txL_to_rxL[2]*pd_snst\n",
    "rxLD_txL_peakAmps = shared_pwr_txL_to_rxL[3]*pd_snst\n",
    "rxRA_txL_peakAmps = shared_pwr_txL_to_rxR[0]*pd_snst\n",
    "rxRC_txL_peakAmps = shared_pwr_txL_to_rxR[1]*pd_snst\n",
    "rxRB_txL_peakAmps = shared_pwr_txL_to_rxR[2]*pd_snst\n",
    "rxRD_txL_peakAmps = shared_pwr_txL_to_rxR[3]*pd_snst\n",
    "rxLA_txR_peakAmps = shared_pwr_txR_to_rxL[0]*pd_snst\n",
    "rxLC_txR_peakAmps = shared_pwr_txR_to_rxL[1]*pd_snst\n",
    "rxLB_txR_peakAmps = shared_pwr_txR_to_rxL[2]*pd_snst\n",
    "rxLD_txR_peakAmps = shared_pwr_txR_to_rxL[3]*pd_snst\n",
    "rxRA_txR_peakAmps = shared_pwr_txR_to_rxR[0]*pd_snst\n",
    "rxRC_txR_peakAmps = shared_pwr_txR_to_rxR[1]*pd_snst\n",
    "rxRB_txR_peakAmps = shared_pwr_txR_to_rxR[2]*pd_snst\n",
    "rxRD_txR_peakAmps = shared_pwr_txR_to_rxR[3]*pd_snst\n",
    "\n",
    "veh_time = np.asarray( range(1,len(rxLA_txL_peakAmps)+1) )*veh_dt\n",
    "sig_time = np.linspace(sig_dt, veh_time[-1], int(veh_time[-1]/sig_dt))\n",
    "\n",
    "dLL_sigTime  = np.interp(sig_time, veh_time, delay_txL_to_rxL)\n",
    "dLR_sigTime  = np.interp(sig_time, veh_time, delay_txL_to_rxR)\n",
    "dRL_sigTime  = np.interp(sig_time, veh_time, delay_txR_to_rxL)\n",
    "dRR_sigTime  = np.interp(sig_time, veh_time, delay_txR_to_rxR)\n",
    "\n",
    "# /2 because sin is -1 to +1, which is 2 A_pp, we want nominal 1 A_pp \n",
    "rxLA_txL_peakAmps_sigTime = np.interp(sig_time, veh_time, rxLA_txL_peakAmps) \n",
    "rxLA_txL_wavAmps          = rxLA_txL_peakAmps_sigTime*(np.sin(2*np.pi*txL_carrier*(sig_time - dLL_sigTime))) / 2; \n",
    "rxLB_txL_peakAmps_sigTime = np.interp(sig_time, veh_time, rxLB_txL_peakAmps) \n",
    "rxLB_txL_wavAmps          = rxLB_txL_peakAmps_sigTime*(np.sin(2*np.pi*txL_carrier*(sig_time - dLL_sigTime))) / 2; \n",
    "rxLC_txL_peakAmps_sigTime = np.interp(sig_time, veh_time, rxLC_txL_peakAmps) \n",
    "rxLC_txL_wavAmps          = rxLC_txL_peakAmps_sigTime*(np.sin(2*np.pi*txL_carrier*(sig_time - dLL_sigTime))) / 2; \n",
    "rxLD_txL_peakAmps_sigTime = np.interp(sig_time, veh_time, rxLD_txL_peakAmps) \n",
    "rxLD_txL_wavAmps          = rxLD_txL_peakAmps_sigTime*(np.sin(2*np.pi*txL_carrier*(sig_time - dLL_sigTime))) / 2; \n",
    "rxRA_txL_peakAmps_sigTime = np.interp(sig_time, veh_time, rxRA_txL_peakAmps) \n",
    "rxRA_txL_wavAmps          = rxRA_txL_peakAmps_sigTime*(np.sin(2*np.pi*txL_carrier*(sig_time - dLR_sigTime))) / 2; \n",
    "rxRB_txL_peakAmps_sigTime = np.interp(sig_time, veh_time, rxRB_txL_peakAmps) \n",
    "rxRB_txL_wavAmps          = rxRB_txL_peakAmps_sigTime*(np.sin(2*np.pi*txL_carrier*(sig_time - dLR_sigTime))) / 2; \n",
    "rxRC_txL_peakAmps_sigTime = np.interp(sig_time, veh_time, rxRC_txL_peakAmps) \n",
    "rxRC_txL_wavAmps          = rxRC_txL_peakAmps_sigTime*(np.sin(2*np.pi*txL_carrier*(sig_time - dLR_sigTime))) / 2; \n",
    "rxRD_txL_peakAmps_sigTime = np.interp(sig_time, veh_time, rxRD_txL_peakAmps) \n",
    "rxRD_txL_wavAmps          = rxRD_txL_peakAmps_sigTime*(np.sin(2*np.pi*txL_carrier*(sig_time - dLR_sigTime))) / 2; \n",
    "\n",
    "rxLA_txR_peakAmps_sigTime = np.interp(sig_time, veh_time, rxLA_txR_peakAmps) \n",
    "rxLA_txR_wavAmps          = rxLA_txR_peakAmps_sigTime*(np.sin(2*np.pi*txR_carrier*(sig_time - dRL_sigTime))) / 2; \n",
    "rxLB_txR_peakAmps_sigTime = np.interp(sig_time, veh_time, rxLB_txR_peakAmps) \n",
    "rxLB_txR_wavAmps          = rxLB_txR_peakAmps_sigTime*(np.sin(2*np.pi*txR_carrier*(sig_time - dRL_sigTime))) / 2; \n",
    "rxLC_txR_peakAmps_sigTime = np.interp(sig_time, veh_time, rxLC_txR_peakAmps) \n",
    "rxLC_txR_wavAmps          = rxLC_txR_peakAmps_sigTime*(np.sin(2*np.pi*txR_carrier*(sig_time - dRL_sigTime))) / 2; \n",
    "rxLD_txR_peakAmps_sigTime = np.interp(sig_time, veh_time, rxLD_txR_peakAmps) \n",
    "rxLD_txR_wavAmps          = rxLD_txR_peakAmps_sigTime*(np.sin(2*np.pi*txR_carrier*(sig_time - dRL_sigTime))) / 2; \n",
    "rxRA_txR_peakAmps_sigTime = np.interp(sig_time, veh_time, rxRA_txR_peakAmps) \n",
    "rxRA_txR_wavAmps          = rxRA_txR_peakAmps_sigTime*(np.sin(2*np.pi*txR_carrier*(sig_time - dRR_sigTime))) / 2; \n",
    "rxRB_txR_peakAmps_sigTime = np.interp(sig_time, veh_time, rxRB_txR_peakAmps) \n",
    "rxRB_txR_wavAmps          = rxRB_txR_peakAmps_sigTime*(np.sin(2*np.pi*txR_carrier*(sig_time - dRR_sigTime))) / 2; \n",
    "rxRC_txR_peakAmps_sigTime = np.interp(sig_time, veh_time, rxRC_txR_peakAmps) \n",
    "rxRC_txR_wavAmps          = rxRC_txR_peakAmps_sigTime*(np.sin(2*np.pi*txR_carrier*(sig_time - dRR_sigTime))) / 2; \n",
    "rxRD_txR_peakAmps_sigTime = np.interp(sig_time, veh_time, rxRD_txR_peakAmps) \n",
    "rxRD_txR_wavAmps          = rxRD_txR_peakAmps_sigTime*(np.sin(2*np.pi*txR_carrier*(sig_time - dRR_sigTime))) / 2; "
   ]
  },
  {
   "cell_type": "code",
   "execution_count": 15,
   "id": "92e7696c",
   "metadata": {},
   "outputs": [],
   "source": [
    "# too much memory\n",
    "del rxLA_txL_peakAmps_sigTime, rxLB_txL_peakAmps_sigTime, rxLC_txL_peakAmps_sigTime, rxLD_txL_peakAmps_sigTime \n",
    "del rxLA_txR_peakAmps_sigTime, rxLB_txR_peakAmps_sigTime, rxLC_txR_peakAmps_sigTime, rxLD_txR_peakAmps_sigTime \n",
    "del rxRA_txL_peakAmps_sigTime, rxRB_txL_peakAmps_sigTime, rxRC_txL_peakAmps_sigTime, rxRD_txL_peakAmps_sigTime \n",
    "del rxRA_txR_peakAmps_sigTime, rxRB_txR_peakAmps_sigTime, rxRC_txR_peakAmps_sigTime, rxRD_txR_peakAmps_sigTime\n",
    "#del dLL_sigTime, dLR_sigTime, dRL_sigTime, dRR_sigTime"
   ]
  },
  {
   "cell_type": "markdown",
   "id": "0d2beee0",
   "metadata": {},
   "source": [
    "compute noise factors"
   ]
  },
  {
   "cell_type": "code",
   "execution_count": 16,
   "id": "286e4c90",
   "metadata": {},
   "outputs": [],
   "source": [
    "# /16 due to C_T^2 in the thermal_factor2, each cell gets 1/4 of the total cap\n",
    "thermal_and_bg_curr = rx_I_bg_factor*bg_current + temperature*(rx_thermal_factor1 + rx_thermal_factor2/16)\n",
    "\n",
    "rxLA_total_pwr = shared_pwr_txR_to_rxL[0] + shared_pwr_txL_to_rxL[0] \n",
    "rxLB_total_pwr = shared_pwr_txR_to_rxL[1] + shared_pwr_txL_to_rxL[1] \n",
    "rxLC_total_pwr = shared_pwr_txR_to_rxL[2] + shared_pwr_txL_to_rxL[2] \n",
    "rxLD_total_pwr = shared_pwr_txR_to_rxL[3] + shared_pwr_txL_to_rxL[3]\n",
    "rxRA_total_pwr = shared_pwr_txR_to_rxR[0] + shared_pwr_txL_to_rxR[0] \n",
    "rxRB_total_pwr = shared_pwr_txR_to_rxR[1] + shared_pwr_txL_to_rxR[1] \n",
    "rxRC_total_pwr = shared_pwr_txR_to_rxR[2] + shared_pwr_txL_to_rxR[2] \n",
    "rxRD_total_pwr = shared_pwr_txR_to_rxR[3] + shared_pwr_txL_to_rxR[3]\n",
    "\n",
    "rxLA_noise_var = rx_P_rx_factor*rxLA_total_pwr + thermal_and_bg_curr; \n",
    "rxLB_noise_var = rx_P_rx_factor*rxLB_total_pwr + thermal_and_bg_curr; \n",
    "rxLC_noise_var = rx_P_rx_factor*rxLC_total_pwr + thermal_and_bg_curr; \n",
    "rxLD_noise_var = rx_P_rx_factor*rxLD_total_pwr + thermal_and_bg_curr; \n",
    "rxRA_noise_var = rx_P_rx_factor*rxRA_total_pwr + thermal_and_bg_curr; \n",
    "rxRB_noise_var = rx_P_rx_factor*rxRB_total_pwr + thermal_and_bg_curr; \n",
    "rxRC_noise_var = rx_P_rx_factor*rxRC_total_pwr + thermal_and_bg_curr; \n",
    "rxRD_noise_var = rx_P_rx_factor*rxRD_total_pwr + thermal_and_bg_curr; \n",
    "\n",
    "rxLA_noise_std = np.interp(sig_time, veh_time, np.sqrt(rxLA_noise_var));\n",
    "rxLB_noise_std = np.interp(sig_time, veh_time, np.sqrt(rxLB_noise_var));\n",
    "rxLC_noise_std = np.interp(sig_time, veh_time, np.sqrt(rxLC_noise_var));\n",
    "rxLD_noise_std = np.interp(sig_time, veh_time, np.sqrt(rxLD_noise_var));\n",
    "rxRA_noise_std = np.interp(sig_time, veh_time, np.sqrt(rxRA_noise_var));\n",
    "rxRB_noise_std = np.interp(sig_time, veh_time, np.sqrt(rxRB_noise_var));\n",
    "rxRC_noise_std = np.interp(sig_time, veh_time, np.sqrt(rxRC_noise_var));\n",
    "rxRD_noise_std = np.interp(sig_time, veh_time, np.sqrt(rxRD_noise_var));"
   ]
  },
  {
   "cell_type": "markdown",
   "id": "65f7e841",
   "metadata": {},
   "source": [
    "add noise, get received signals at each quadrant in sig_time\n",
    "\n",
    "note that the signals are separate for the two TX units -> this is because we assume that the two TX signals are kept at different frequency bands, thus, they can be easily extracted from the actual received signal via bandpass filtering. "
   ]
  },
  {
   "cell_type": "code",
   "execution_count": 17,
   "id": "3ee6aa60",
   "metadata": {},
   "outputs": [],
   "source": [
    "add_noise  = 1\n",
    "numsamples = len(rxLA_txL_wavAmps)\n",
    "\n",
    "rxLA_txL = (rxLA_txL_wavAmps + add_noise * rxLA_noise_std * np.random.randn(numsamples))*pd_gain;\n",
    "rxLB_txL = (rxLB_txL_wavAmps + add_noise * rxLB_noise_std * np.random.randn(numsamples))*pd_gain;\n",
    "rxLC_txL = (rxLC_txL_wavAmps + add_noise * rxLC_noise_std * np.random.randn(numsamples))*pd_gain;\n",
    "rxLD_txL = (rxLD_txL_wavAmps + add_noise * rxLD_noise_std * np.random.randn(numsamples))*pd_gain;\n",
    "rxRA_txL = (rxRA_txL_wavAmps + add_noise * rxRA_noise_std * np.random.randn(numsamples))*pd_gain;\n",
    "rxRB_txL = (rxRB_txL_wavAmps + add_noise * rxRB_noise_std * np.random.randn(numsamples))*pd_gain;\n",
    "rxRC_txL = (rxRC_txL_wavAmps + add_noise * rxRC_noise_std * np.random.randn(numsamples))*pd_gain;\n",
    "rxRD_txL = (rxRD_txL_wavAmps + add_noise * rxRD_noise_std * np.random.randn(numsamples))*pd_gain;\n",
    "rxLA_txR = (rxLA_txR_wavAmps + add_noise * rxLA_noise_std * np.random.randn(numsamples))*pd_gain;\n",
    "rxLB_txR = (rxLB_txR_wavAmps + add_noise * rxLB_noise_std * np.random.randn(numsamples))*pd_gain;\n",
    "rxLC_txR = (rxLC_txR_wavAmps + add_noise * rxLC_noise_std * np.random.randn(numsamples))*pd_gain;\n",
    "rxLD_txR = (rxLD_txR_wavAmps + add_noise * rxLD_noise_std * np.random.randn(numsamples))*pd_gain;\n",
    "rxRA_txR = (rxRA_txR_wavAmps + add_noise * rxRA_noise_std * np.random.randn(numsamples))*pd_gain;\n",
    "rxRB_txR = (rxRB_txR_wavAmps + add_noise * rxRB_noise_std * np.random.randn(numsamples))*pd_gain;\n",
    "rxRC_txR = (rxRC_txR_wavAmps + add_noise * rxRC_noise_std * np.random.randn(numsamples))*pd_gain;\n",
    "rxRD_txR = (rxRD_txR_wavAmps + add_noise * rxRD_noise_std * np.random.randn(numsamples))*pd_gain;"
   ]
  },
  {
   "cell_type": "code",
   "execution_count": 18,
   "id": "a63b0053",
   "metadata": {},
   "outputs": [],
   "source": [
    "del rxLA_txL_wavAmps, rxLB_txL_wavAmps, rxLC_txL_wavAmps, rxLD_txL_wavAmps\n",
    "del rxRA_txL_wavAmps, rxRB_txL_wavAmps, rxRC_txL_wavAmps, rxRD_txL_wavAmps\n",
    "del rxLA_txR_wavAmps, rxLB_txR_wavAmps, rxLC_txR_wavAmps, rxLD_txR_wavAmps\n",
    "del rxRA_txR_wavAmps, rxRB_txR_wavAmps, rxRC_txR_wavAmps, rxRD_txR_wavAmps\n",
    "\n",
    "del rxLA_noise_std, rxLB_noise_std, rxLC_noise_std, rxLD_noise_std\n",
    "del rxRA_noise_std, rxRB_noise_std, rxRC_noise_std, rxRD_noise_std"
   ]
  },
  {
   "cell_type": "code",
   "execution_count": 19,
   "id": "14c2d203",
   "metadata": {},
   "outputs": [
    {
     "data": {
      "image/png": "[encoded data removed]",
      "text/plain": [
       "<Figure size 432x288 with 1 Axes>"
      ]
     },
     "metadata": {
      "needs_background": "light"
     },
     "output_type": "display_data"
    }
   ],
   "source": [
    "fig, ax = plt.subplots()\n",
    "ax.plot(sig_time[0:100], rxLA_txL[0:100])\n",
    "ax.grid()\n",
    "plt.show()"
   ]
  },
  {
   "cell_type": "markdown",
   "id": "c338308b",
   "metadata": {},
   "source": [
    "## Run parameter measurement + positioning algo on the received signals"
   ]
  },
  {
   "cell_type": "markdown",
   "id": "cdb76b57",
   "metadata": {},
   "source": [
    "we assume that the VLC subsystem correctly decodes the signal, so we directly use the waveform here for power calc"
   ]
  },
  {
   "cell_type": "code",
   "execution_count": 20,
   "id": "29def9f2",
   "metadata": {},
   "outputs": [],
   "source": [
    "wav_rxL_txL = np.sin(2*np.pi*txL_carrier*(sig_time - dLL_sigTime))\n",
    "wav_rxL_txR = np.sin(2*np.pi*txR_carrier*(sig_time - dLR_sigTime))\n",
    "wav_rxR_txL = np.sin(2*np.pi*txL_carrier*(sig_time - dRL_sigTime))\n",
    "wav_rxR_txR = np.sin(2*np.pi*txR_carrier*(sig_time - dRR_sigTime))"
   ]
  },
  {
   "cell_type": "markdown",
   "id": "1b45b592",
   "metadata": {},
   "source": [
    "now loop on the signals and compute parameter estimations"
   ]
  },
  {
   "cell_type": "code",
   "execution_count": 25,
   "id": "29ff7758",
   "metadata": {},
   "outputs": [
    {
     "name": "stdout",
     "output_type": "stream",
     "text": [
      "vlp rate: 50.0 Hz\n"
     ]
    }
   ],
   "source": [
    "vlp_decimation_rate = 20 # make sure this divides len(veh_time)\n",
    "vlp_rate = 1/(veh_dt*vlp_decimation_rate)\n",
    "print(\"vlp rate:\",vlp_rate, \"Hz\")\n",
    "\n",
    "num_vlp_steps = int(len(veh_time)/vlp_decimation_rate)"
   ]
  },
  {
   "cell_type": "code",
   "execution_count": 26,
   "id": "3fda28a5",
   "metadata": {},
   "outputs": [],
   "source": [
    "sig_numsamples = int(veh_dt/sig_dt)*vlp_decimation_rate\n",
    "thd = 1e-5;\n",
    "\n",
    "aoa_rxL_txL = np.zeros((num_vlp_steps))\n",
    "aoa_rxL_txR = np.zeros((num_vlp_steps))\n",
    "aoa_rxR_txL = np.zeros((num_vlp_steps))\n",
    "aoa_rxR_txR = np.zeros((num_vlp_steps))\n",
    "\n",
    "est_x_txL = np.zeros((num_vlp_steps))\n",
    "est_x_txR = np.zeros((num_vlp_steps))\n",
    "est_y_txL = np.zeros((num_vlp_steps))\n",
    "est_y_txR = np.zeros((num_vlp_steps))\n",
    "\n",
    "for i in range(0, num_vlp_steps):\n",
    "    ii = range(i*sig_numsamples,(i+1)*sig_numsamples)\n",
    "    \n",
    "    aoa_rxL_txL[i] = aoa_measurement(rxLA_txL[ii], rxLB_txL[ii], rxLC_txL[ii], rxLD_txL[ii], wav_rxL_txL[ii], f_QRX, thd)\n",
    "    aoa_rxR_txL[i] = aoa_measurement(rxRA_txL[ii], rxRB_txL[ii], rxRC_txL[ii], rxRD_txL[ii], wav_rxR_txL[ii], f_QRX, thd)\n",
    "    aoa_rxL_txR[i] = aoa_measurement(rxLA_txR[ii], rxLB_txR[ii], rxLC_txR[ii], rxLD_txR[ii], wav_rxL_txR[ii], f_QRX, thd)\n",
    "    aoa_rxR_txR[i] = aoa_measurement(rxRA_txR[ii], rxRB_txR[ii], rxRC_txR[ii], rxRD_txR[ii], wav_rxR_txR[ii], f_QRX, thd)\n",
    "    \n",
    "    est_x_txL[i] = L*(1 + np.sin(np.deg2rad(aoa_rxR_txL[i]))*np.cos(np.deg2rad(aoa_rxL_txL[i]))/np.sin(np.deg2rad(aoa_rxL_txL[i] - aoa_rxR_txL[i])));\n",
    "    est_y_txL[i] = L*np.cos(np.deg2rad(aoa_rxR_txL[i]))*np.cos(np.deg2rad(aoa_rxL_txL[i]))/np.sin(np.deg2rad(aoa_rxL_txL[i] - aoa_rxR_txL[i]));\n",
    "    est_x_txR[i] = L*(1 + np.sin(np.deg2rad(aoa_rxR_txR[i]))*np.cos(np.deg2rad(aoa_rxL_txR[i]))/np.sin(np.deg2rad(aoa_rxL_txR[i] - aoa_rxR_txR[i])));\n",
    "    est_y_txR[i] = L*np.cos(np.deg2rad(aoa_rxR_txR[i]))*np.cos(np.deg2rad(aoa_rxL_txR[i]))/np.sin(np.deg2rad(aoa_rxL_txR[i] - aoa_rxR_txR[i]));"
   ]
  },
  {
   "cell_type": "code",
   "execution_count": 27,
   "id": "804a2009",
   "metadata": {},
   "outputs": [
    {
     "data": {
      "image/png": "[encoded data removed]",
      "text/plain": [
       "<Figure size 432x288 with 1 Axes>"
      ]
     },
     "metadata": {
      "needs_background": "light"
     },
     "output_type": "display_data"
    }
   ],
   "source": [
    "fig, ax = plt.subplots()\n",
    "#ax.plot(est_x_txL, est_y_txL)\n",
    "#ax.plot(xRL_to_rxL[::vlp_decimation_rate], yRL_to_rxL[::vlp_decimation_rate])\n",
    "error_x = est_x_txL - xRL_to_rxL[::vlp_decimation_rate]\n",
    "error_y = est_y_txL - yRL_to_rxL[::vlp_decimation_rate]\n",
    "ax.plot(np.sqrt(error_x**2+error_y**2))\n",
    "ax.grid()\n",
    "plt.show()"
   ]
  },
  {
   "cell_type": "code",
   "execution_count": null,
   "id": "aa8d94de",
   "metadata": {},
   "outputs": [],
   "source": []
  }
 ],
 "metadata": {
  "kernelspec": {
   "display_name": "Python 3",
   "language": "python",
   "name": "python3"
  },
  "language_info": {
   "codemirror_mode": {
    "name": "ipython",
    "version": 3
   },
   "file_extension": ".py",
   "mimetype": "text/x-python",
   "name": "python",
   "nbconvert_exporter": "python",
   "pygments_lexer": "ipython3",
   "version": "3.8.10"
  }
 },
 "nbformat": 4,
 "nbformat_minor": 5
}
