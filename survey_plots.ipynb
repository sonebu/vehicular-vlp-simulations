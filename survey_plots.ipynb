{
 "cells": [
  {
   "cell_type": "code",
   "execution_count": null,
   "id": "dabe740e-7bf8-4ee0-acc3-e1f8a61f6d34",
   "metadata": {},
   "outputs": [],
   "source": [
    "import matplotlib\n",
    "import numpy             as np\n",
    "import matplotlib.pyplot as plt\n",
    "from matplotlib.pyplot import figure"
   ]
  },
  {
   "cell_type": "code",
   "execution_count": null,
   "id": "34bc774a-1a01-4d48-b610-0ec96a1a2b05",
   "metadata": {},
   "outputs": [],
   "source": [
    "font = {'family' : 'DejaVu Sans',\n",
    "        'weight' : 'normal',\n",
    "        'size'   : 16}\n",
    "\n",
    "matplotlib.rc('font', **font)"
   ]
  },
  {
   "cell_type": "markdown",
   "id": "913c906e-a47c-4366-8263-2496a46838ee",
   "metadata": {},
   "source": [
    "### Evaluation Scenario 1 - ranging methods"
   ]
  },
  {
   "cell_type": "code",
   "execution_count": null,
   "id": "48c18c05-cca6-43a4-a61c-4520c23df758",
   "metadata": {},
   "outputs": [],
   "source": [
    "a = np.load(\"results/survey_es1.npz\")\n",
    "\n",
    "rg=a[\"rg\"]\n",
    "d_bec_clearnight=a[\"d_bec_clearnight\"]\n",
    "d_rob_clearnight=a[\"d_rob_clearnight\"]\n",
    "d_bec_rainsun=a[\"d_bec_rainsun\"]\n",
    "d_rob_rainsun=a[\"d_rob_rainsun\"]"
   ]
  },
  {
   "cell_type": "code",
   "execution_count": null,
   "id": "f5ae89dd-c74b-4faa-a087-69d80bcb42d3",
   "metadata": {},
   "outputs": [],
   "source": [
    "d_bec_clearnight_error = d_bec_clearnight - rg\n",
    "d_rob_clearnight_error = d_rob_clearnight + rg # rob goes out as negative\n",
    "d_bec_rainsun_error = d_bec_rainsun - rg\n",
    "d_rob_rainsun_error = d_rob_rainsun + rg # rob goes out as negative\n",
    "\n",
    "fig, ax = plt.subplots(figsize=(10, 5), dpi=80)\n",
    "ax.semilogy(rg, np.std(d_bec_clearnight_error, axis=0),'-v', markersize=10)\n",
    "ax.semilogy(rg, np.std(d_rob_clearnight_error, axis=0),'-o', markersize=10)\n",
    "ax.semilogy(rg, np.std(d_bec_rainsun_error, axis=0),'-v', markersize=10)\n",
    "ax.semilogy(rg, np.std(d_rob_rainsun_error, axis=0),'-o', markersize=10)\n",
    "ax.grid()\n",
    "ax.legend(['auto-digital, clear, night', \n",
    "           'DFT-based, clear, night', \n",
    "           'auto-digital, rain, direct sun', \n",
    "           'DFT-based, rain, direct sun'])\n",
    "plt.ylabel('ranging error stdev [m]')\n",
    "plt.xlabel('true range on test track [m]')\n",
    "plt.savefig(\"results/survey_es1_res.png\")"
   ]
  },
  {
   "cell_type": "markdown",
   "id": "431c052b-1d66-4b3f-a12f-6632198ccd44",
   "metadata": {},
   "source": [
    "### Evaluation Scenario 2 - all methods, lane change"
   ]
  },
  {
   "cell_type": "code",
   "execution_count": null,
   "id": "7d6b8f0a-106a-4b06-8597-6f5ab28f4494",
   "metadata": {},
   "outputs": [],
   "source": [
    "a = np.load(\"results/survey_es2.npz\")\n",
    "\n",
    "iterations = a[\"iterations\"]\n",
    "ldr = a[\"localization_decimation_rate\"]\n",
    "lns = a[\"localization_num_steps\"]\n",
    "x = a[\"xRL_to_rxL\"][int(ldr/2)::ldr]\n",
    "y = a[\"yRL_to_rxL\"][int(ldr/2)::ldr]\n",
    "h = a[\"hdg\"][int(ldr/2)::ldr]\n",
    "t = a[\"s_veh_clock\"][int(ldr/2)::ldr]\n",
    "cls_x_drb = a[\"cls_x_directbearing\"] # all of the vars below are of size (localization_num_steps, iterations)\n",
    "cls_y_drb = a[\"cls_y_directbearing\"]\n",
    "cls_x_drr = a[\"cls_x_directrange\"]\n",
    "cls_y_drr = a[\"cls_y_directrange\"]\n",
    "cls_x_dfb = a[\"cls_x_diffbearing\"]\n",
    "cls_y_dfb = a[\"cls_y_diffbearing\"]\n",
    "cls_x_dfr = a[\"cls_x_diffrange\"]\n",
    "cls_y_dfr = a[\"cls_y_diffrange\"]\n",
    "run_x_drr = a[\"run_rxL_x_directrange\"]\n",
    "run_y_drr = a[\"run_rxL_y_directrange\"]\n",
    "run_x_drb = a[\"run_rxL_x_directbearing\"]\n",
    "run_y_drb = a[\"run_rxL_y_directbearing\"]"
   ]
  },
  {
   "cell_type": "code",
   "execution_count": null,
   "id": "66ae8542-4531-4470-82ce-4e560dee6b87",
   "metadata": {},
   "outputs": [],
   "source": [
    "e_cls_x_directbearing     = np.std(np.expand_dims(x,-1) - cls_x_drb, axis=1)\n",
    "e_cls_y_directbearing     = np.std(np.expand_dims(y,-1) - cls_y_drb, axis=1)\n",
    "e_cls_x_diffbearing       = np.std(np.expand_dims(x,-1) - cls_x_dfb, axis=1)\n",
    "e_cls_y_diffbearing       = np.std(np.expand_dims(y,-1) - cls_y_dfb, axis=1)\n",
    "e_cls_x_directrange       = np.std(np.expand_dims(x,-1) - cls_x_drr, axis=1)\n",
    "e_cls_y_directrange       = np.std(np.expand_dims(y,-1) - cls_y_drr, axis=1)\n",
    "e_cls_x_diffrange         = np.std(np.expand_dims(x,-1) - cls_x_dfr, axis=1)\n",
    "e_cls_y_diffrange         = np.std(np.expand_dims(y,-1) - cls_y_dfr, axis=1)\n",
    "e_run_rxL_x_directbearing = np.std(np.expand_dims(x,-1) - run_x_drb, axis=1)\n",
    "e_run_rxL_y_directbearing = np.std(np.expand_dims(y,-1) - run_x_drr, axis=1)\n",
    "e_run_rxL_x_directrange   = np.std(np.expand_dims(x,-1) - run_x_drr, axis=1)\n",
    "e_run_rxL_y_directrange   = np.std(np.expand_dims(y,-1) - run_y_drr, axis=1)"
   ]
  },
  {
   "cell_type": "code",
   "execution_count": null,
   "id": "850caf4a-1d25-4342-89c4-869c1b3319c8",
   "metadata": {},
   "outputs": [],
   "source": [
    "plt.semilogy(np.sqrt(e_cls_x_directbearing**2 + e_cls_y_directbearing**2))\n",
    "plt.semilogy(np.sqrt(e_cls_x_diffbearing**2 + e_cls_y_diffbearing**2))\n",
    "plt.semilogy(np.sqrt(e_cls_x_directrange**2 + e_cls_y_directrange**2))\n",
    "plt.semilogy(np.sqrt(e_cls_x_diffrange**2 + e_cls_y_diffrange**2))\n",
    "plt.semilogy(np.sqrt(e_run_rxL_x_directbearing**2 + e_run_rxL_y_directbearing**2))\n",
    "plt.semilogy(np.sqrt(e_run_rxL_x_directrange**2 + e_run_rxL_y_directrange**2))\n",
    "plt.semilogy(np.sqrt(e_cls_x_directbearing**2 + e_cls_y_directrange**2))\n",
    "plt.legend([\"cls-drb\", \"cls-dfb\", \"cls-drr\", \"cls-dfr\", \"run-drb\", \"run-drr\", \"cls-hyb\"])\n",
    "plt.grid(which=\"both\")\n",
    "plt.savefig(\"results/survey_es2_res.png\")"
   ]
  },
  {
   "cell_type": "markdown",
   "id": "1543465f-3fa1-48af-a40d-d267040d8b64",
   "metadata": {},
   "source": [
    "### Evaluation Scenario 3 - direct methods vs hybrid method heatmap"
   ]
  },
  {
   "cell_type": "markdown",
   "id": "c97404ab-f057-4123-8bd7-78744186ee52",
   "metadata": {},
   "source": [
    "this needs to be adapted"
   ]
  },
  {
   "cell_type": "code",
   "execution_count": null,
   "id": "42e9e150-ff34-43a9-b2d7-245f56ad8d80",
   "metadata": {},
   "outputs": [],
   "source": [
    "a = np.load(\"results/survey_es3.npz\")\n",
    "\n",
    "x = a[\"xRL_to_rxL\"]\n",
    "y = a[\"yRL_to_rxL\"]\n",
    "h = a[\"hdg\"]\n",
    "x = np.repeat(np.repeat(np.reshape(x,(x.shape[0],1,1,1)), y.shape[0], axis=1), h.shape[0], axis=2)\n",
    "y = np.repeat(np.repeat(np.reshape(y,(1,y.shape[0],1,1)), x.shape[0], axis=0), h.shape[0], axis=2)\n",
    "h = np.repeat(np.repeat(np.reshape(h,(1,1,h.shape[0],1)), x.shape[0], axis=0), y.shape[0], axis=1)\n",
    "cls_x_directbearing_map = a[\"cls_x_directbearing_map\"]\n",
    "cls_y_directbearing_map = a[\"cls_y_directbearing_map\"]\n",
    "cls_x_directrange_map = a[\"cls_x_directrange_map\"]\n",
    "cls_y_directrange_map = a[\"cls_y_directrange_map\"]"
   ]
  },
  {
   "cell_type": "code",
   "execution_count": null,
   "id": "6b6a998d-dce4-4403-8e62-c582fb4fdfd5",
   "metadata": {},
   "outputs": [],
   "source": [
    "# stdv over heading and iterations axes\n",
    "e_cls_x_drb = np.std(np.std(cls_x_directbearing_map - x, axis=-1), axis=-1)\n",
    "e_cls_y_drb = np.std(np.std(cls_y_directbearing_map - y, axis=-1), axis=-1)\n",
    "e_cls_x_drr = np.std(np.std(cls_x_directrange_map - x, axis=-1), axis=-1)\n",
    "e_cls_y_drr = np.std(np.std(cls_y_directrange_map - y, axis=-1), axis=-1)\n",
    "\n",
    "e_cls_drb = np.sqrt(e_cls_x_drb**2 + e_cls_y_drb**2)\n",
    "e_cls_drr = np.sqrt(e_cls_x_drr**2 + e_cls_y_drr**2)\n",
    "e_cls_hyb = np.sqrt(e_cls_x_drb**2 + e_cls_y_drr**2)"
   ]
  },
  {
   "cell_type": "code",
   "execution_count": null,
   "id": "0f39fd2e-d1e2-4e24-a4d8-c783bc4e52fc",
   "metadata": {},
   "outputs": [],
   "source": [
    "set_vmax = np.log10(np.max((np.nanmax(e_cls_drb), np.nanmax(e_cls_drr), np.nanmax(e_cls_hyb))))\n",
    "set_vmin = np.log10(np.min((np.nanmin(e_cls_drb), np.nanmin(e_cls_drr), np.nanmin(e_cls_hyb))))"
   ]
  },
  {
   "cell_type": "code",
   "execution_count": null,
   "id": "c58611dd-63de-47a9-af43-f6657dc86091",
   "metadata": {},
   "outputs": [],
   "source": [
    "e_cls_drr[np.logical_or(np.isnan(e_cls_drb), np.isnan(e_cls_drr))] = np.nan\n",
    "e_cls_drb[np.logical_or(np.isnan(e_cls_drb), np.isnan(e_cls_drr))] = np.nan\n",
    "e_cls_hyb[np.logical_or(np.isnan(e_cls_drb), np.isnan(e_cls_drr))] = np.nan"
   ]
  },
  {
   "cell_type": "code",
   "execution_count": null,
   "id": "5c931dba-fd29-43a3-8efd-0bf6655c145b",
   "metadata": {},
   "outputs": [],
   "source": [
    "plotlist = [e_cls_drb, e_cls_drr, e_cls_hyb]\n",
    "fig, axs = plt.subplots(3,1,figsize=(15, 5),dpi=100)\n",
    "for idd in range(3):\n",
    "    ax = axs[idd]\n",
    "    ax.get_xaxis().set_ticks([])\n",
    "    ax.get_yaxis().set_ticks([])\n",
    "    plotid = ax.imshow(np.log10(plotlist[idd]), vmin = set_vmin, vmax = set_vmax)\n",
    "    #fig.colorbar(plotid, ax=ax)\n",
    "\n",
    "fig.subplots_adjust(right=0.3)\n",
    "cbar_ax = fig.add_axes([0.32, 0.12, 0.01, 0.75])\n",
    "fig.colorbar(plotid, cax=cbar_ax)\n",
    "\n",
    "plt.savefig(\"results/survey_es3_res.png\")"
   ]
  },
  {
   "cell_type": "markdown",
   "id": "f8180620-1118-4c4e-a6d4-0039f1b28c9c",
   "metadata": {},
   "source": [
    "### Evaluation Scenario 4 - hybrid method, platooning, different speeds, reallight, different light height"
   ]
  },
  {
   "cell_type": "code",
   "execution_count": null,
   "id": "ae223140-f8a3-4a30-a357-e91d3db074f4",
   "metadata": {},
   "outputs": [],
   "source": [
    "a = np.load(\"results/survey_es4.npz\")\n",
    "\n",
    "iterations=a[\"iterations\"]\n",
    "ldr=a[\"ldr\"]\n",
    "lns_slow2=a[\"lns_slow2\"]\n",
    "lns_slow1=a[\"lns_slow1\"]\n",
    "lns_normal=a[\"lns_normal\"]\n",
    "lns_fast1=a[\"lns_fast1\"]\n",
    "lns_fast2=a[\"lns_fast2\"]\n",
    "xRL_to_rxL_slow2=a[\"xRL_to_rxL_slow2\"]\n",
    "yRL_to_rxL_slow2=a[\"yRL_to_rxL_slow2\"]\n",
    "hdg_slow2=a[\"hdg_slow2\"]\n",
    "xRL_to_rxL_slow1=a[\"xRL_to_rxL_slow1\"]\n",
    "yRL_to_rxL_slow1=a[\"yRL_to_rxL_slow1\"]\n",
    "hdg_slow1=a[\"hdg_slow1\"]\n",
    "xRL_to_rxL_normal=a[\"xRL_to_rxL_normal\"]\n",
    "yRL_to_rxL_normal=a[\"yRL_to_rxL_normal\"]\n",
    "hdg_normal=a[\"hdg_normal\"]\n",
    "xRL_to_rxL_fast1=a[\"xRL_to_rxL_fast1\"]\n",
    "yRL_to_rxL_fast1=a[\"yRL_to_rxL_fast1\"]\n",
    "hdg_fast1=a[\"hdg_fast1\"]\n",
    "xRL_to_rxL_fast2=a[\"xRL_to_rxL_fast2\"]\n",
    "yRL_to_rxL_fast2=a[\"yRL_to_rxL_fast2\"]\n",
    "hdg_fast2=a[\"hdg_fast2\"]\n",
    "s_veh_clock_slow2=a[\"s_veh_clock_slow2\"]\n",
    "s_veh_clock_slow1=a[\"s_veh_clock_slow1\"]\n",
    "s_veh_clock_normal=a[\"s_veh_clock_normal\"]\n",
    "s_veh_clock_fast1=a[\"s_veh_clock_fast1\"]\n",
    "s_veh_clock_fast2=a[\"s_veh_clock_fast2\"]\n",
    "est_x_slow2=a[\"est_x_slow2\"]\n",
    "est_x_slow1=a[\"est_x_slow1\"]\n",
    "est_x_normal=a[\"est_x_normal\"]\n",
    "est_x_fast1=a[\"est_x_fast1\"]\n",
    "est_x_fast2=a[\"est_x_fast2\"]\n",
    "est_x_nonlmb_z0=a[\"est_x_nonlmb_z0\"]\n",
    "est_x_nonlmb_z0p1=a[\"est_x_nonlmb_z0p1\"]\n",
    "est_x_nonlmb_z0p2=a[\"est_x_nonlmb_z0p2\"]\n",
    "est_x_nonlmb_zm0p2=a[\"est_x_nonlmb_zm0p2\"]\n",
    "est_x_nonlmb_zm0p1=a[\"est_x_nonlmb_zm0p1\"]\n",
    "est_y_slow2=a[\"est_y_slow2\"]\n",
    "est_y_slow1=a[\"est_y_slow1\"]\n",
    "est_y_normal=a[\"est_y_normal\"]\n",
    "est_y_fast1=a[\"est_y_fast1\"]\n",
    "est_y_fast2=a[\"est_y_fast2\"]\n",
    "est_y_nonlmb_z0=a[\"est_y_nonlmb_z0\"]\n",
    "est_y_nonlmb_z0p1=a[\"est_y_nonlmb_z0p1\"]\n",
    "est_y_nonlmb_z0p2=a[\"est_y_nonlmb_z0p2\"]\n",
    "est_y_nonlmb_zm0p2=a[\"est_y_nonlmb_zm0p2\"]\n",
    "est_y_nonlmb_zm0p1=a[\"est_y_nonlmb_zm0p1\"]"
   ]
  },
  {
   "cell_type": "code",
   "execution_count": null,
   "id": "9abd7770-9535-43fd-8dcf-7880cf67ebd1",
   "metadata": {},
   "outputs": [],
   "source": [
    "figure(figsize=(5, 3), dpi=100)\n",
    "plt.plot(xRL_to_rxL_normal, yRL_to_rxL_normal)\n",
    "plt.ylim([3.0, 8.5])\n",
    "plt.xlim([-3.5, 7.0])\n",
    "plt.ylabel(\"Ego Frame, y [m]\")\n",
    "plt.xlabel(\"Ego Frame, x [m]\")\n",
    "plt.grid()\n",
    "plt.savefig(\"results/survey_es4_trj.png\")"
   ]
  },
  {
   "cell_type": "code",
   "execution_count": null,
   "id": "0c194110-1c2a-4733-b5e2-24b66d2da99c",
   "metadata": {},
   "outputs": [],
   "source": [
    "e_x_slow1_mean = np.zeros((lns_slow1, iterations))\n",
    "e_y_slow1_mean = np.zeros((lns_slow1, iterations))\n",
    "e_x_slow2_mean = np.zeros((lns_slow2, iterations))\n",
    "e_y_slow2_mean = np.zeros((lns_slow2, iterations))\n",
    "e_x_normal_mean = np.zeros((lns_normal, iterations))\n",
    "e_y_normal_mean = np.zeros((lns_normal, iterations))\n",
    "e_x_fast1_mean = np.zeros((lns_fast1, iterations))\n",
    "e_y_fast1_mean = np.zeros((lns_fast1, iterations))\n",
    "e_x_fast2_mean = np.zeros((lns_fast2, iterations))\n",
    "e_y_fast2_mean = np.zeros((lns_fast2, iterations))\n",
    "e_x_slow1 = np.zeros((lns_slow1, iterations))\n",
    "e_y_slow1 = np.zeros((lns_slow1, iterations))\n",
    "e_x_slow2 = np.zeros((lns_slow2, iterations))\n",
    "e_y_slow2 = np.zeros((lns_slow2, iterations))\n",
    "e_x_normal = np.zeros((lns_normal, iterations))\n",
    "e_y_normal = np.zeros((lns_normal, iterations))\n",
    "e_x_fast1 = np.zeros((lns_fast1, iterations))\n",
    "e_y_fast1 = np.zeros((lns_fast1, iterations))\n",
    "e_x_fast2 = np.zeros((lns_fast2, iterations))\n",
    "e_y_fast2 = np.zeros((lns_fast2, iterations))\n",
    "e_x_nonlmb_z0 = np.zeros((lns_normal, iterations))\n",
    "e_y_nonlmb_z0 = np.zeros((lns_normal, iterations))\n",
    "e_x_nonlmb_z0p1 = np.zeros((lns_normal, iterations))\n",
    "e_y_nonlmb_z0p1 = np.zeros((lns_normal, iterations))\n",
    "e_x_nonlmb_zm0p1 = np.zeros((lns_normal, iterations))\n",
    "e_y_nonlmb_zm0p1 = np.zeros((lns_normal, iterations))\n",
    "e_x_nonlmb_z0p2 = np.zeros((lns_normal, iterations))\n",
    "e_y_nonlmb_z0p2 = np.zeros((lns_normal, iterations))\n",
    "e_x_nonlmb_zm0p2 = np.zeros((lns_normal, iterations))\n",
    "e_y_nonlmb_zm0p2 = np.zeros((lns_normal, iterations))\n",
    "\n",
    "e_x_slow1_mean   = np.mean(np.expand_dims(xRL_to_rxL_slow1[int(ldr/2)::ldr], axis=-1) - est_x_slow1, axis=-1)\n",
    "e_y_slow1_mean   = np.mean(np.expand_dims(yRL_to_rxL_slow1[int(ldr/2)::ldr], axis=-1) - est_y_slow1, axis=-1)\n",
    "e_x_slow2_mean   = np.mean(np.expand_dims(xRL_to_rxL_slow2[int(ldr/2)::ldr], axis=-1) - est_x_slow2, axis=-1)\n",
    "e_y_slow2_mean   = np.mean(np.expand_dims(yRL_to_rxL_slow2[int(ldr/2)::ldr], axis=-1) - est_y_slow2, axis=-1)\n",
    "e_x_normal_mean  = np.mean(np.expand_dims(xRL_to_rxL_normal[int(ldr/2)::ldr], axis=-1) - est_x_normal, axis=-1)\n",
    "e_y_normal_mean  = np.mean(np.expand_dims(yRL_to_rxL_normal[int(ldr/2)::ldr], axis=-1) - est_y_normal, axis=-1)\n",
    "e_x_fast1_mean   = np.mean(np.expand_dims(xRL_to_rxL_fast1[int(ldr/2)::ldr], axis=-1) - est_x_fast1, axis=-1)\n",
    "e_y_fast1_mean   = np.mean(np.expand_dims(yRL_to_rxL_fast1[int(ldr/2)::ldr], axis=-1) - est_y_fast1, axis=-1)\n",
    "e_x_fast2_mean   = np.mean(np.expand_dims(xRL_to_rxL_fast2[int(ldr/2)::ldr], axis=-1) - est_x_fast2, axis=-1)\n",
    "e_y_fast2_mean   = np.mean(np.expand_dims(yRL_to_rxL_fast2[int(ldr/2)::ldr], axis=-1) - est_y_fast2, axis=-1)\n",
    "e_x_slow1        = np.std(np.expand_dims(xRL_to_rxL_slow1[int(ldr/2)::ldr], axis=-1) - est_x_slow1, axis=-1)\n",
    "e_y_slow1        = np.std(np.expand_dims(yRL_to_rxL_slow1[int(ldr/2)::ldr], axis=-1) - est_y_slow1, axis=-1)\n",
    "e_x_slow2        = np.std(np.expand_dims(xRL_to_rxL_slow2[int(ldr/2)::ldr], axis=-1) - est_x_slow2, axis=-1)\n",
    "e_y_slow2        = np.std(np.expand_dims(yRL_to_rxL_slow2[int(ldr/2)::ldr], axis=-1) - est_y_slow2, axis=-1)\n",
    "e_x_normal       = np.std(np.expand_dims(xRL_to_rxL_normal[int(ldr/2)::ldr], axis=-1) - est_x_normal, axis=-1)\n",
    "e_y_normal       = np.std(np.expand_dims(yRL_to_rxL_normal[int(ldr/2)::ldr], axis=-1) - est_y_normal, axis=-1)\n",
    "e_x_fast1        = np.std(np.expand_dims(xRL_to_rxL_fast1[int(ldr/2)::ldr], axis=-1) - est_x_fast1, axis=-1)\n",
    "e_y_fast1        = np.std(np.expand_dims(yRL_to_rxL_fast1[int(ldr/2)::ldr], axis=-1) - est_y_fast1, axis=-1)\n",
    "e_x_fast2        = np.std(np.expand_dims(xRL_to_rxL_fast2[int(ldr/2)::ldr], axis=-1) - est_x_fast2, axis=-1)\n",
    "e_y_fast2        = np.std(np.expand_dims(yRL_to_rxL_fast2[int(ldr/2)::ldr], axis=-1) - est_y_fast2, axis=-1)\n",
    "e_x_nonlmb_z0    = np.std(np.expand_dims(xRL_to_rxL_normal[int(ldr/2)::ldr], axis=-1) - est_x_nonlmb_z0, axis=-1)\n",
    "e_y_nonlmb_z0    = np.std(np.expand_dims(yRL_to_rxL_normal[int(ldr/2)::ldr], axis=-1) - est_y_nonlmb_z0, axis=-1)\n",
    "e_x_nonlmb_z0p1  = np.std(np.expand_dims(xRL_to_rxL_normal[int(ldr/2)::ldr], axis=-1) - est_x_nonlmb_z0p1, axis=-1)\n",
    "e_y_nonlmb_z0p1  = np.std(np.expand_dims(yRL_to_rxL_normal[int(ldr/2)::ldr], axis=-1) - est_y_nonlmb_z0p1, axis=-1)\n",
    "e_x_nonlmb_z0p2  = np.std(np.expand_dims(xRL_to_rxL_normal[int(ldr/2)::ldr], axis=-1) - est_x_nonlmb_z0p2, axis=-1)\n",
    "e_y_nonlmb_z0p2  = np.std(np.expand_dims(yRL_to_rxL_normal[int(ldr/2)::ldr], axis=-1) - est_y_nonlmb_z0p2, axis=-1)\n",
    "e_x_nonlmb_zm0p1 = np.std(np.expand_dims(xRL_to_rxL_normal[int(ldr/2)::ldr], axis=-1) - est_x_nonlmb_zm0p1, axis=-1)\n",
    "e_y_nonlmb_zm0p1 = np.std(np.expand_dims(yRL_to_rxL_normal[int(ldr/2)::ldr], axis=-1) - est_y_nonlmb_zm0p1, axis=-1)\n",
    "e_x_nonlmb_zm0p2 = np.std(np.expand_dims(xRL_to_rxL_normal[int(ldr/2)::ldr], axis=-1) - est_x_nonlmb_zm0p2, axis=-1)\n",
    "e_y_nonlmb_zm0p2 = np.std(np.expand_dims(yRL_to_rxL_normal[int(ldr/2)::ldr], axis=-1) - est_y_nonlmb_zm0p2, axis=-1)"
   ]
  },
  {
   "cell_type": "code",
   "execution_count": null,
   "id": "ee9be782-ccb5-462f-ba9c-7937803b6042",
   "metadata": {},
   "outputs": [],
   "source": [
    "plt.semilogy(np.sqrt(e_x_slow2_mean[::16]**2 + e_y_slow2_mean[::16]**2))\n",
    "plt.semilogy(np.sqrt(e_x_slow1_mean[::8]**2 + e_y_slow1_mean[::8]**2))\n",
    "plt.semilogy(np.sqrt(e_x_normal_mean[::4]**2 + e_y_normal_mean[::4]**2))\n",
    "plt.semilogy(np.sqrt(e_x_fast1_mean[::2]**2 + e_y_fast1_mean[::2]**2))\n",
    "plt.semilogy(np.sqrt(e_x_fast2_mean**2 + e_y_fast2_mean**2))\n",
    "plt.legend([\"slowest\", \"slower\", \"normal\", \"faster\", \"fastest\"])\n",
    "plt.grid(which=\"both\")\n",
    "plt.savefig(\"results/survey_es4_res_speed_mean.png\")"
   ]
  },
  {
   "cell_type": "code",
   "execution_count": null,
   "id": "8a0282eb-47a7-4f1c-b645-c0e6ea811099",
   "metadata": {},
   "outputs": [],
   "source": [
    "plt.semilogy(np.sqrt(e_x_slow2[::16]**2 + e_y_slow2[::16]**2))\n",
    "plt.semilogy(np.sqrt(e_x_slow1[::8]**2 + e_y_slow1[::8]**2))\n",
    "plt.semilogy(np.sqrt(e_x_normal[::4]**2 + e_y_normal[::4]**2))\n",
    "plt.semilogy(np.sqrt(e_x_fast1[::2]**2 + e_y_fast1[::2]**2))\n",
    "plt.semilogy(np.sqrt(e_x_fast2**2 + e_y_fast2**2))\n",
    "plt.legend([\"slowest\", \"slower\", \"normal\", \"faster\", \"fastest\"])\n",
    "plt.grid(which=\"both\")\n",
    "plt.savefig(\"results/survey_es4_res_speed_stdv.png\")"
   ]
  },
  {
   "cell_type": "code",
   "execution_count": null,
   "id": "6d802321-280d-47a4-b7c1-3956148c5d4f",
   "metadata": {},
   "outputs": [],
   "source": [
    "plt.semilogy(np.sqrt(e_x_normal**2 + e_y_normal**2))\n",
    "plt.semilogy(np.sqrt(e_x_nonlmb_zm0p2**2 + e_y_nonlmb_zm0p2**2))\n",
    "plt.semilogy(np.sqrt(e_x_nonlmb_zm0p1**2 + e_y_nonlmb_zm0p1**2))\n",
    "plt.semilogy(np.sqrt(e_x_nonlmb_z0**2 + e_y_nonlmb_z0**2))\n",
    "plt.semilogy(np.sqrt(e_x_nonlmb_z0p1**2 + e_y_nonlmb_z0p1**2))\n",
    "plt.semilogy(np.sqrt(e_x_nonlmb_z0p2**2 + e_y_nonlmb_z0p2**2))\n",
    "plt.legend([\"lambertian, ofs=0.0m\", \"real, ofs=-0.2m\", \"real, ofs=-0.1m\", \"real, ofs=0.0m\", \"real, ofs=+0.1m\", \"real, ofs=+0.2m\"])\n",
    "plt.grid(which=\"both\")\n",
    "plt.savefig(\"results/survey_es4_res_practicals_stdv.png\")"
   ]
  },
  {
   "cell_type": "markdown",
   "id": "5e7c5ad8-389f-4f08-b8f3-171f340828af",
   "metadata": {},
   "source": [
    "### Evaluation Scenario 5 - collision course, different weather"
   ]
  },
  {
   "cell_type": "code",
   "execution_count": null,
   "id": "6768edc6-0591-49d9-8f33-d70c2476167d",
   "metadata": {},
   "outputs": [],
   "source": [
    "a = np.load(\"results/survey_es5.npz\")\n",
    "\n",
    "iterations=a[\"iterations\"]\n",
    "ldr=a[\"localization_decimation_rate\"]\n",
    "lns=a[\"localization_num_steps\"]\n",
    "xRL_to_rxL=a[\"xRL_to_rxL\"]\n",
    "yRL_to_rxL=a[\"yRL_to_rxL\"]\n",
    "hdg=a[\"hdg\"]\n",
    "est_x_clrnight=a[\"est_x_clrnight\"]\n",
    "est_y_clrnight=a[\"est_y_clrnight\"]\n",
    "est_x_clrdayindirect=a[\"est_x_clrdayindirect\"]\n",
    "est_y_clrdayindirect=a[\"est_y_clrdayindirect\"]\n",
    "est_x_clrdaydirect=a[\"est_x_clrdaydirect\"]\n",
    "est_y_clrdaydirect=a[\"est_y_clrdaydirect\"]\n",
    "est_x_rainnight=a[\"est_x_rainnight\"]\n",
    "est_y_rainnight=a[\"est_y_rainnight\"]\n",
    "est_x_raindayindirect=a[\"est_x_raindayindirect\"]\n",
    "est_y_raindayindirect=a[\"est_y_raindayindirect\"]\n",
    "est_x_raindaydirect=a[\"est_x_raindaydirect\"]\n",
    "est_y_raindaydirect=a[\"est_y_raindaydirect\"]\n",
    "est_x_fognight=a[\"est_x_fognight\"]\n",
    "est_y_fognight=a[\"est_y_fognight\"]\n",
    "est_x_fogdayindirect=a[\"est_x_fogdayindirect\"]\n",
    "est_y_fogdayindirect=a[\"est_y_fogdayindirect\"]"
   ]
  },
  {
   "cell_type": "code",
   "execution_count": null,
   "id": "10098957-f466-4b57-9a31-268151da444c",
   "metadata": {},
   "outputs": [],
   "source": [
    "e_x_clrnight = np.zeros((lns, iterations))\n",
    "e_y_clrnight = np.zeros((lns, iterations))\n",
    "e_x_clrdayindirect = np.zeros((lns, iterations))\n",
    "e_y_clrdayindirect = np.zeros((lns, iterations))\n",
    "e_x_clrdaydirect = np.zeros((lns, iterations))\n",
    "e_y_clrdaydirect = np.zeros((lns, iterations))\n",
    "e_x_rainnight = np.zeros((lns, iterations))\n",
    "e_y_rainnight = np.zeros((lns, iterations))\n",
    "e_x_raindayindirect = np.zeros((lns, iterations))\n",
    "e_y_raindayindirect = np.zeros((lns, iterations))\n",
    "e_x_raindaydirect = np.zeros((lns, iterations))\n",
    "e_y_raindaydirect = np.zeros((lns, iterations))\n",
    "e_x_fognight = np.zeros((lns, iterations))\n",
    "e_y_fognight = np.zeros((lns, iterations))\n",
    "e_x_fogdayindirect = np.zeros((lns, iterations))\n",
    "e_y_fogdayindirect = np.zeros((lns, iterations))\n",
    "\n",
    "e_x_clrnight = np.std(np.expand_dims(xRL_to_rxL[int(ldr/2)::ldr], axis=-1) - est_x_clrnight, axis=-1)\n",
    "e_y_clrnight = np.std(np.expand_dims(yRL_to_rxL[int(ldr/2)::ldr], axis=-1) - est_y_clrnight, axis=-1)\n",
    "e_x_clrdayindirect = np.std(np.expand_dims(xRL_to_rxL[int(ldr/2)::ldr], axis=-1) - est_x_clrdayindirect, axis=-1)\n",
    "e_y_clrdayindirect = np.std(np.expand_dims(yRL_to_rxL[int(ldr/2)::ldr], axis=-1) - est_y_clrdayindirect, axis=-1)\n",
    "e_x_clrdaydirect = np.std(np.expand_dims(xRL_to_rxL[int(ldr/2)::ldr], axis=-1) - est_x_clrdaydirect, axis=-1)\n",
    "e_y_clrdaydirect = np.std(np.expand_dims(yRL_to_rxL[int(ldr/2)::ldr], axis=-1) - est_y_clrdaydirect, axis=-1)\n",
    "e_x_rainnight = np.std(np.expand_dims(xRL_to_rxL[int(ldr/2)::ldr], axis=-1) - est_x_rainnight, axis=-1)\n",
    "e_y_rainnight = np.std(np.expand_dims(yRL_to_rxL[int(ldr/2)::ldr], axis=-1) - est_y_rainnight, axis=-1)\n",
    "e_x_raindayindirect = np.std(np.expand_dims(xRL_to_rxL[int(ldr/2)::ldr], axis=-1) - est_x_raindayindirect, axis=-1)\n",
    "e_y_raindayindirect = np.std(np.expand_dims(yRL_to_rxL[int(ldr/2)::ldr], axis=-1) - est_y_raindayindirect, axis=-1)\n",
    "e_x_raindaydirect = np.std(np.expand_dims(xRL_to_rxL[int(ldr/2)::ldr], axis=-1) - est_x_raindaydirect, axis=-1)\n",
    "e_y_raindaydirect = np.std(np.expand_dims(yRL_to_rxL[int(ldr/2)::ldr], axis=-1) - est_y_raindaydirect, axis=-1)\n",
    "e_x_fognight = np.std(np.expand_dims(xRL_to_rxL[int(ldr/2)::ldr], axis=-1) - est_x_fognight, axis=-1)\n",
    "e_y_fognight = np.std(np.expand_dims(yRL_to_rxL[int(ldr/2)::ldr], axis=-1) - est_y_fognight, axis=-1)\n",
    "e_x_fogdayindirect = np.std(np.expand_dims(xRL_to_rxL[int(ldr/2)::ldr], axis=-1) - est_x_fogdayindirect, axis=-1)\n",
    "e_y_fogdayindirect = np.std(np.expand_dims(yRL_to_rxL[int(ldr/2)::ldr], axis=-1) - est_y_fogdayindirect, axis=-1)"
   ]
  },
  {
   "cell_type": "code",
   "execution_count": null,
   "id": "26402e81-7d6d-42ba-9b2d-44a5a9f322ed",
   "metadata": {},
   "outputs": [],
   "source": [
    "plt.semilogy(np.sqrt(e_x_clrnight**2 + e_y_clrnight**2))\n",
    "plt.semilogy(np.sqrt(e_x_clrdayindirect**2 + e_y_clrdayindirect**2))\n",
    "plt.semilogy(np.sqrt(e_x_clrdaydirect**2 + e_y_clrdaydirect**2))\n",
    "plt.semilogy(np.sqrt(e_x_rainnight**2 + e_y_rainnight**2))\n",
    "plt.semilogy(np.sqrt(e_x_raindayindirect**2 + e_y_raindayindirect**2))\n",
    "plt.semilogy(np.sqrt(e_x_raindaydirect**2 + e_y_raindaydirect**2))\n",
    "plt.semilogy(np.sqrt(e_x_fognight**2 + e_y_fognight**2))\n",
    "plt.semilogy(np.sqrt(e_x_fogdayindirect**2 + e_y_fogdayindirect**2))\n",
    "plt.legend([\"clr-night\", \"clr-day-indrctsun\", \"clr-day-drctsun\", \n",
    "            \"rain-night\", \"rain-day-indrctsun\", \"rain-day-drctsun\", \n",
    "            \"fog-night\", \"fog-day-indrctsun\"])\n",
    "plt.grid(which=\"both\")\n",
    "plt.savefig(\"results/survey_es5_res.png\")"
   ]
  },
  {
   "cell_type": "code",
   "execution_count": null,
   "id": "22265a5b-8b5f-4b92-960b-ad0204e4be78",
   "metadata": {},
   "outputs": [],
   "source": []
  }
 ],
 "metadata": {
  "kernelspec": {
   "display_name": "Python 3 (ipykernel)",
   "language": "python",
   "name": "python3"
  },
  "language_info": {
   "codemirror_mode": {
    "name": "ipython",
    "version": 3
   },
   "file_extension": ".py",
   "mimetype": "text/x-python",
   "name": "python",
   "nbconvert_exporter": "python",
   "pygments_lexer": "ipython3",
   "version": "3.10.12"
  }
 },
 "nbformat": 4,
 "nbformat_minor": 5
}
