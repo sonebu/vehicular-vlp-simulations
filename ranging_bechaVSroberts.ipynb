{
 "cells": [
  {
   "cell_type": "code",
   "execution_count": null,
   "id": "341ef30e",
   "metadata": {},
   "outputs": [],
   "source": [
    "#!pip install numpy tqdm matplotlib scipy numba"
   ]
  },
  {
   "cell_type": "code",
   "execution_count": null,
   "id": "cbd34c18",
   "metadata": {},
   "outputs": [],
   "source": [
    "import numpy             as np\n",
    "import matplotlib.pyplot as plt\n",
    "import time\n",
    "from numba import njit\n",
    "\n",
    "from tqdm            import tqdm\n",
    "from scipy           import signal\n",
    "from scipy.signal    import sosfiltfilt as sff\n",
    "\n",
    "from propagation import received_power, quad_distribute_power, propagation_delay, \\\n",
    "                        map_rx_config, map_tx_config\n",
    "\n",
    "from parameter_measurement import rtof_d_roberts_measure, dflipflop_vec, counter_simulation_vec"
   ]
  },
  {
   "cell_type": "code",
   "execution_count": null,
   "id": "a9baf5a1",
   "metadata": {},
   "outputs": [],
   "source": [
    "weather     = 'clear' \n",
    "temperature = 298 # Kelvin\n",
    "daynight    = 'day_directsun'\n",
    "\n",
    "\n",
    "daynight_noise_factors = dict()\n",
    "daynight_noise_factors['day_directsun']   = 1.000 # 5100 uA\n",
    "daynight_noise_factors['day_indirectsun'] = 0.145 # 740 uA\n",
    "daynight_noise_factors['night']           = 0.010 # very small\n",
    "\n",
    "# minmax bounds to be safe if you set the noise factor yourself\n",
    "bg_current = (np.minimum(1, np.maximum(0, daynight_noise_factors[daynight]))*5100)*1e-6;\n",
    "\n",
    "weather_attenuation_factors = dict()\n",
    "weather_attenuation_factors['clear'] = 0.0\n",
    "weather_attenuation_factors['rain']  = -0.05\n",
    "weather_attenuation_factors['fog']   = -0.2\n",
    "\n",
    "atten = weather_attenuation_factors[weather];"
   ]
  },
  {
   "cell_type": "markdown",
   "id": "9a40d647",
   "metadata": {},
   "source": [
    "**trajectory**"
   ]
  },
  {
   "cell_type": "code",
   "execution_count": null,
   "id": "f8e82a26",
   "metadata": {},
   "outputs": [],
   "source": [
    "y = np.linspace(1,50,50) # \"from 1 m to 50 m and taking one measurement every 5 cm.\" \n",
    "x = np.zeros((y.shape)); "
   ]
  },
  {
   "cell_type": "code",
   "execution_count": null,
   "id": "02302b1d",
   "metadata": {},
   "outputs": [],
   "source": [
    "a = np.load('optics/qrx_planoconvex.npz');\n",
    "f_QRX, pd_snst, pd_gain, pd_dim, rx_P_rx_factor, rx_I_bg_factor, rx_thermal_factor1, rx_thermal_factor2 = map_rx_config(a);"
   ]
  },
  {
   "cell_type": "code",
   "execution_count": null,
   "id": "88e4ed32",
   "metadata": {},
   "outputs": [],
   "source": [
    "a = np.load('optics/tx_lambertian_20deg_2W.npz')\n",
    "tx_ha, tx_pwr, tx_norm, tx_lambertian_order = map_tx_config(a);"
   ]
  },
  {
   "cell_type": "markdown",
   "id": "0085ecea",
   "metadata": {},
   "source": [
    "# Simulate propagation"
   ]
  },
  {
   "cell_type": "markdown",
   "id": "249ccdc8",
   "metadata": {},
   "source": [
    "**channel gain**\n",
    "\n",
    "get received optical power (whole detector) in Watts"
   ]
  },
  {
   "cell_type": "code",
   "execution_count": null,
   "id": "ae4ca91f",
   "metadata": {},
   "outputs": [],
   "source": [
    "pwr   = received_power(x, y, 0, pd_dim/1000, tx_pwr, tx_norm, tx_lambertian_order, atten)"
   ]
  },
  {
   "cell_type": "code",
   "execution_count": null,
   "id": "c5d09c79",
   "metadata": {},
   "outputs": [],
   "source": [
    "delay = propagation_delay(x, y, 0)"
   ]
  },
  {
   "cell_type": "code",
   "execution_count": null,
   "id": "58d2e92a",
   "metadata": {
    "scrolled": true
   },
   "outputs": [],
   "source": [
    "f_simulation = 1e10;           # [Hz], simulation clock freq that should capture light delays amounting to 1cm\n",
    "t_simulation = 1/f_simulation; # [s] , simulation clock period\n",
    "\n",
    "simulation_start  = t_simulation; # [s], t_simulation rather than 0 avoids artifacts and sim ends at simulation_stop this way\n",
    "simulation_stop   = 0.011; # [s], see note above about pi/32\n",
    "simulation_length = int(simulation_stop/t_simulation)\n",
    "print(\"Simulation stop time:\",simulation_stop)\n",
    "print(\"Simulation length   :\",simulation_length)\n",
    "\n",
    "s_simulation   = np.linspace(simulation_start, simulation_stop, simulation_length)\n",
    "                             \n",
    "f_adc_clock  = 1e8;             # [Hz], measurement clock freq\n",
    "t_adc_clock  = 1/f_adc_clock;   # [s] , measurement clock period\n",
    "\n",
    "simclock_subsample_rate = int(f_simulation/f_adc_clock)\n",
    "\n",
    "s_adc_clock = np.zeros_like(s_simulation)\n",
    "for i in range(0, int(simclock_subsample_rate/2)):\n",
    "    s_adc_clock[ i::simclock_subsample_rate] = 1;\n",
    "\n",
    "s_adc_clock_lead  = s_adc_clock[1:]\n",
    "s_adc_clock_lag   = s_adc_clock[0:-1]\n",
    "s_adc_clock_re    = np.concatenate((np.asarray([False]), np.logical_and((1-s_adc_clock_lag), s_adc_clock_lead)))\n",
    "del s_adc_clock, s_adc_clock_lead, s_adc_clock_lag"
   ]
  },
  {
   "cell_type": "markdown",
   "id": "542cd3ec",
   "metadata": {},
   "source": [
    "simulation preliminaries - other"
   ]
  },
  {
   "cell_type": "code",
   "execution_count": null,
   "id": "a7c8786c",
   "metadata": {},
   "outputs": [],
   "source": [
    "f_e  = 1.0e6; # [Hz], emitted wave freq, left TX\n",
    "r    = 1999;  # unitless, heterodyning factor\n",
    "N    = 10;    # unitless, averaging factor for left TX\n",
    "\n",
    "c = 299792458 # [m/s] speed of light\n",
    "\n",
    "### this factor is precomputed since it's the same for all links\n",
    "# /16 due to C_T^2 in the thermal_factor2, each cell gets 1/4 of the total cap\n",
    "thermal_and_bg_curr = rx_I_bg_factor*bg_current + temperature*(rx_thermal_factor1 + rx_thermal_factor2/16)\n",
    "\n",
    "add_noise  = 1"
   ]
  },
  {
   "cell_type": "markdown",
   "id": "3c334180",
   "metadata": {},
   "source": [
    "# sim"
   ]
  },
  {
   "cell_type": "code",
   "execution_count": null,
   "id": "b461ed98",
   "metadata": {},
   "outputs": [],
   "source": [
    "sos_lo_het = signal.butter(8, 2*(f_e*1.20)*t_simulation, 'low', output='sos')\n",
    "sos_hi_het = signal.butter(8, 2*(f_e*0.80)*t_simulation, 'high', output='sos')"
   ]
  },
  {
   "cell_type": "code",
   "execution_count": null,
   "id": "6a730242",
   "metadata": {
    "scrolled": true
   },
   "outputs": [],
   "source": [
    "iterations = 100;\n",
    "d_becha    = np.zeros((iterations, x.shape[0]))\n",
    "d_roberts  = np.zeros((iterations, x.shape[0]))\n",
    "\n",
    "s_h = np.sin(2*np.pi* f_e*(r/(r+1))*s_simulation - np.pi/32)>0;\n",
    "s_e = np.sin(2*np.pi* f_e *s_simulation - np.pi/32)>0;\n",
    "s_gate = np.sin(2*np.pi* f_e*(1/(N*(r+1))) *s_simulation - np.pi/32)>0;\n",
    "s_gate = s_gate[s_adc_clock_re]\n",
    "numsamples = len(s_simulation)\n",
    "\n",
    "tx = np.sin(2*np.pi* f_e *s_simulation[s_adc_clock_re] - np.pi/32);\n",
    "\n",
    "@njit(parallel=True, fastmath=True)\n",
    "def gen_rx(s_simulation, delay, f_e, rx_noise_stdev, pd_gain, numsamples, add_noise, rx_peakAmps):\n",
    "    rx  = ((rx_peakAmps*(np.sin(2*np.pi*f_e*(s_simulation - 2*delay) - np.pi/32)) / 2) + add_noise * rx_noise_stdev * np.random.randn(numsamples))*pd_gain;\n",
    "    return  rx\n",
    "\n",
    "@njit(parallel=True, fastmath=True)\n",
    "def s_r_zc(rx):\n",
    "    return rx>0\n",
    "\n",
    "for j in tqdm(range(0, iterations)):\n",
    "    for i in range(0, x.shape[0]):\n",
    "        d = delay[i]*c;\n",
    "        rx_peakAmps    = pwr[i]*pd_snst\n",
    "        rx_noise_stdev = np.sqrt(rx_P_rx_factor*pwr[i] + thermal_and_bg_curr); \n",
    "\n",
    "        #rx = ((rx_peakAmps*(np.sin(2*np.pi*f_e*(s_simulation - 2*delay[i]) - np.pi/32)) / 2) + add_noise * rx_noise_stdev * np.random.randn(numsamples))*pd_gain;\n",
    "        rx  = gen_rx(s_simulation, delay[i], f_e, rx_noise_stdev, pd_gain, numsamples, add_noise, rx_peakAmps)\n",
    "        rx  = sff(sos_lo_het, sff(sos_hi_het, rx));\n",
    "        s_r = s_r_zc(rx)\n",
    "        \n",
    "        s_eh      = dflipflop_vec(s_e, s_h)[s_adc_clock_re]\n",
    "        s_rh      = dflipflop_vec(s_r, s_h)[s_adc_clock_re]\n",
    "        s_phi     = np.logical_xor(s_eh, s_rh);\n",
    "        s_phi_pp  = s_phi*s_gate # clock applied implicitly with adc_clock_re\n",
    "\n",
    "        count = counter_simulation_vec(s_phi_pp, s_gate)\n",
    "        f_i = f_e/(r+1);\n",
    "        phase_shift_est = 2*np.pi*(np.asarray(count)*f_i/(N*f_adc_clock))\n",
    "        d_becha[j,i] = c*(phase_shift_est/(2*np.pi*2*f_e))\n",
    "        del s_r\n",
    "\n",
    "        tx1 = np.fft.fft(tx);\n",
    "        tx1[0:int(tx1.shape[0]/2)] = 0;\n",
    "        tx1 = np.fft.ifft(tx1);\n",
    "        rx = np.fft.fft(rx[s_adc_clock_re]);\n",
    "        rx[0:int(rx.shape[0]/2)] = 0;\n",
    "        rx = np.fft.ifft(rx);\n",
    "        phase_shift_diff_est = np.mean(np.angle(tx1 * np.conjugate(rx)));\n",
    "        d_roberts[j,i] = c*(phase_shift_diff_est/(2*np.pi*2*f_e))\n",
    "        #d_roberts[j,i] = -rtof_d_roberts_measure(s_simulation[s_adc_clock_re], rx[s_adc_clock_re], f_e, c)\n",
    "        del rx"
   ]
  },
  {
   "cell_type": "code",
   "execution_count": null,
   "id": "0e269dfe",
   "metadata": {},
   "outputs": [],
   "source": [
    "np.savez('ranging.npz', \n",
    "        delay=delay, \n",
    "        c=c, \n",
    "        d_roberts=d_roberts, \n",
    "        d_becha=d_becha,\n",
    "        pwr=pwr,\n",
    "        f_e = f_e,\n",
    "        f_adc_clock=f_adc_clock,\n",
    "        r=r,\n",
    "        N=N,\n",
    "        daynight=daynight,\n",
    "        weather=weather,\n",
    "        temperature=temperature)"
   ]
  },
  {
   "cell_type": "code",
   "execution_count": null,
   "id": "c9a10edf",
   "metadata": {},
   "outputs": [],
   "source": []
  }
 ],
 "metadata": {
  "kernelspec": {
   "display_name": "Python 3",
   "language": "python",
   "name": "python3"
  },
  "language_info": {
   "codemirror_mode": {
    "name": "ipython",
    "version": 3
   },
   "file_extension": ".py",
   "mimetype": "text/x-python",
   "name": "python",
   "nbconvert_exporter": "python",
   "pygments_lexer": "ipython3",
   "version": "3.8.10"
  }
 },
 "nbformat": 4,
 "nbformat_minor": 5
}
