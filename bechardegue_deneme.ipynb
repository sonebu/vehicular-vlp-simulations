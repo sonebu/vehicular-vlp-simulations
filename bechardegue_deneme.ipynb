{
 "cells": [
  {
   "cell_type": "code",
   "execution_count": 1,
   "metadata": {},
   "outputs": [
    {
     "name": "stdout",
     "output_type": "stream",
     "text": [
      "(1.795054935711501e-08, 1.699673171197595e-08, 1.9436506316151003e-08, 1.795054935711501e-08)\n",
      "[[5.38516481 5.09901951]\n",
      " [5.83095189 5.38516481]]\n"
     ]
    }
   ],
   "source": [
    "import numpy as np\n",
    "import scipy.signal as signal\n",
    "import matplotlib.pyplot as plt\n",
    "from VLC_init import *\n",
    "\n",
    "\n",
    "\"\"\"\n",
    "*: coordinate center of cari\n",
    "\n",
    "|--------|                     \n",
    "| car1   |                      \n",
    "|-------*|\n",
    "         |\n",
    "       y |                   |---------|\n",
    "         |                   |  car2   |\n",
    "         |-------------------|*--------|\n",
    "                    d\n",
    "\n",
    "\"\"\"\n",
    "\n",
    "vlc_obj = VLC_init()\n",
    "print(vlc_obj.delays)\n",
    "print(vlc_obj.distances)\n",
    "dt = 5e-9\n",
    "t = np.arange(0, 1e-3, dt)\n",
    "noise = np.random.normal(0, 1e-1, np.size(t))\n",
    "c = 299792458\n",
    "delay = vlc_obj.delays[0]\n",
    "f = 1e6\n",
    "r = 9\n",
    "N = 5\n",
    "fclk = 1/(2*dt)"
   ]
  },
  {
   "cell_type": "code",
   "execution_count": null,
   "metadata": {},
   "outputs": [],
   "source": [
    "s_e = signal.square(2 * np.pi * f * t) + noise\n",
    "s_r = signal.square(2 * np.pi * f * (t + delay)) + noise\n",
    "s_h = signal.square(2 * np.pi * f * (r/(r+1)) * t)\n",
    "\n",
    "s_gate = (signal.square(2 * np.pi * (f / (N * (r+1))) *t) > 0)\n",
    "s_clk  = np.zeros(np.size(t))\n",
    "s_clk[np.arange(1, np.size(s_clk), 2)] = 1\n",
    "\n",
    "s_eh = np.zeros(np.size(t))\n",
    "s_rh = np.zeros(np.size(t))\n",
    "s_phi = np.zeros(np.size(t))\n",
    "s_phi_h = np.zeros(np.size(t))\n",
    "s_phi_hh = np.zeros(np.size(t))\n",
    "\n",
    "s_eh_state = 0\n",
    "s_rh_state = 0\n",
    "\n",
    "count = []\n",
    "M = 0\n",
    "\n",
    "plt.figure()\n",
    "plt.subplot(3, 1, 1)\n",
    "plt.plot(t, s_h)\n",
    "plt.subplot(3, 1, 2)\n",
    "plt.plot(t, s_e)\n",
    "plt.subplot(3, 1, 3)\n",
    "plt.plot(t, s_r)"
   ]
  },
  {
   "cell_type": "code",
   "execution_count": null,
   "metadata": {},
   "outputs": [],
   "source": [
    "for i in range(1, np.size(t)):\n",
    "    \n",
    "    if(s_h[i] - s_h[i-1] == 2):\n",
    "        \n",
    "        if(s_e[i] > 0):\n",
    "            s_eh_state = 1\n",
    "        else:\n",
    "            s_eh_state = 0\n",
    "\n",
    "        if(s_r[i]>0):\n",
    "            s_rh_state = 1\n",
    "        else:\n",
    "            s_rh_state = 0\n",
    "            \n",
    "    s_eh[i] = s_eh_state\n",
    "    s_rh[i] = s_rh_state\n",
    "    \n",
    "    s_phi[i] = np.logical_xor(s_eh_state, s_rh_state)\n",
    "    \n",
    "    s_phi_h[i] = s_phi[i] * s_gate[i]\n",
    "    s_phi_hh[i] = s_phi_h[i] * s_clk[i]\n",
    "    \n",
    "    if(s_gate[i] == 1):\n",
    "        if(s_phi_hh[i] == 1):\n",
    "            M += 1\n",
    "        update_flag = 1\n",
    "    else:\n",
    "        if(update_flag == 1):\n",
    "            count.append(M)\n",
    "            M = 0\n",
    "            update_flag = 0"
   ]
  },
  {
   "cell_type": "code",
   "execution_count": null,
   "metadata": {},
   "outputs": [],
   "source": [
    "plt.figure()\n",
    "plt.subplot(6, 1, 1)\n",
    "plt.plot(t, s_h)\n",
    "plt.subplot(6, 1, 2)\n",
    "plt.plot(t, s_e)\n",
    "plt.subplot(6, 1, 3)\n",
    "plt.plot(t, s_eh)\n",
    "plt.subplot(6, 1, 4)\n",
    "plt.plot(t, s_phi)\n",
    "plt.subplot(6, 1, 5)\n",
    "plt.plot(t, s_phi_h)\n",
    "plt.subplot(6, 1, 6)\n",
    "plt.plot(t, s_phi_hh)"
   ]
  },
  {
   "cell_type": "code",
   "execution_count": null,
   "metadata": {},
   "outputs": [],
   "source": [
    "d_m = (c/2) * (np.asarray(count) / ((r+1) * N * fclk))\n",
    "print(d_m)"
   ]
  },
  {
   "cell_type": "code",
   "execution_count": null,
   "metadata": {},
   "outputs": [],
   "source": [
    "vlc_obj.distances[0]"
   ]
  },
  {
   "cell_type": "code",
   "execution_count": null,
   "metadata": {},
   "outputs": [],
   "source": []
  },
  {
   "cell_type": "code",
   "execution_count": 6,
   "metadata": {},
   "outputs": [
    {
     "name": "stdout",
     "output_type": "stream",
     "text": [
      "0\n"
     ]
    }
   ],
   "source": [
    "import numpy as np\n",
    "h = np.array(([[0,0],[0,0]], [[0,0],[0,0]]))\n",
    "a = np.array([0, 0, 0, 0])\n",
    "print(h[0][0][0])"
   ]
  },
  {
   "cell_type": "code",
   "execution_count": null,
   "metadata": {},
   "outputs": [],
   "source": []
  }
 ],
 "metadata": {
  "kernelspec": {
   "display_name": "Python 3",
   "language": "python",
   "name": "python3"
  },
  "language_info": {
   "codemirror_mode": {
    "name": "ipython",
    "version": 3
   },
   "file_extension": ".py",
   "mimetype": "text/x-python",
   "name": "python",
   "nbconvert_exporter": "python",
   "pygments_lexer": "ipython3",
   "version": "3.8.3"
  }
 },
 "nbformat": 4,
 "nbformat_minor": 4
}
