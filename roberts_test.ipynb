{
 "cells": [
  {
   "cell_type": "code",
   "execution_count": 1,
   "id": "711b19a9",
   "metadata": {},
   "outputs": [],
   "source": [
    "import numpy             as np\n",
    "import matplotlib.pyplot as plt\n",
    "import time\n",
    "from numba import njit\n",
    "\n",
    "from propagation import received_power, quad_distribute_power, propagation_delay, \\\n",
    "                        generate_aoa2_rx_signals, generate_rtof_rx_signals, generate_pdoa_rx_signals, \\\n",
    "                        map_rx_config, map_tx_config\n",
    "\n",
    "from parameter_measurement import aoa_measurement, rtof_d_measure, pdoa_deld_measure\n",
    "\n",
    "from position_estimation import aoa2_positioning, rtof_bechadergue_positioning"
   ]
  },
  {
   "cell_type": "code",
   "execution_count": 2,
   "id": "b7550f55",
   "metadata": {},
   "outputs": [],
   "source": [
    "f_simulation = 1e10;           # [Hz], simulation clock freq that should capture light delays amounting to 3cm\n",
    "t_simulation = 1/f_simulation; # [s] , signal simulation period\n",
    "\n",
    "f_clock = 1e8;         # [Hz], measurement clock freq\n",
    "t_clock = 1/f_clock;   # [s] , measurement clock period\n",
    "f_e     = 1.00e6;      # [Hz], emitted wave freq\n",
    "\n",
    "simulation_start  = t_simulation; # [s], t_clock rather than 0 avoids artifacts and sim ends at simulation_stop this way\n",
    "simulation_stop   = 0.001;        # [s]\n",
    "simulation_length = int(simulation_stop/t_simulation)\n",
    "\n",
    "s_simulation = np.linspace(simulation_start, simulation_stop, simulation_length)\n",
    "\n",
    "clock_subsample_rate = int(f_simulation/f_clock)\n",
    "\n",
    "s_clock = np.zeros_like(s_simulation)\n",
    "for i in range(0, int(clock_subsample_rate/2)):\n",
    "    s_clock[ i::clock_subsample_rate] = 1;\n",
    "\n",
    "s_clock_lead  = s_clock[1:]\n",
    "s_clock_lag   = s_clock[0:-1]\n",
    "s_clock_re    = np.concatenate((np.asarray([False]), np.logical_and((1-s_clock_lag),s_clock_lead)))\n",
    "del s_clock, s_clock_lead, s_clock_lag\n",
    "\n",
    "c = 299792458 # [m/s] speed of light\n",
    "\n",
    "#fp = 2*np.pi*f_e*np.linspace(49, 50, 981)/c # phase shift, \"from 1 m to 50 m and taking one measurement every 5 cm.\"\n",
    "#xp = np.linspace(t_clock, simulation_stop, fp.shape[0]);\n",
    "\n",
    "x_tx = 2\n",
    "y_tx = 5\n",
    "L    = 1.6\n",
    "\n",
    "phase_shift_rxL = 2*np.pi*f_e*np.sqrt(x_tx**2+y_tx**2)/c\n",
    "phase_shift_rxR = 2*np.pi*f_e*np.sqrt((x_tx-L)**2+y_tx**2)/c"
   ]
  },
  {
   "cell_type": "code",
   "execution_count": 3,
   "id": "1309fef1",
   "metadata": {},
   "outputs": [
    {
     "name": "stdout",
     "output_type": "stream",
     "text": [
      "1.9039192199707031\n",
      "0.007737657059372446\n",
      "0.00773765705951304\n"
     ]
    }
   ],
   "source": [
    "#emitted = np.sin(2*np.pi* f_e *s_simulation - np.pi/32);\n",
    "rxLL = np.sin(2*np.pi* f_e *s_simulation - phase_shift_rxL - np.pi/32);\n",
    "rxRL = np.sin(2*np.pi* f_e *s_simulation - phase_shift_rxR - np.pi/32);\n",
    "\n",
    "start = time.time()\n",
    "phase_shift_diff_est_txL = pdoa_deld_measure(rxLL, rxRL)\n",
    "print(time.time() - start)\n",
    "\n",
    "print(phase_shift_rxL-phase_shift_rxR)\n",
    "print(phase_shift_diff_est_txL)"
   ]
  },
  {
   "cell_type": "code",
   "execution_count": 4,
   "id": "a340d3dd",
   "metadata": {},
   "outputs": [],
   "source": [
    "rxLL = np.fft.fft(rxLL);\n",
    "rxLL[0:int(rxLL.shape[0]/2)] = 0;\n",
    "rxLL = np.fft.ifft(rxLL);\n",
    "rxRL = np.fft.fft(rxRL);\n",
    "rxRL[0:int(rxRL.shape[0]/2)] = 0;\n",
    "rxRL = np.fft.ifft(rxRL);\n",
    "phase_shift_diff_est = np.mean(np.angle(rxLL * np.conjugate(rxRL)));\n"
   ]
  },
  {
   "cell_type": "code",
   "execution_count": null,
   "id": "ae7cad06",
   "metadata": {},
   "outputs": [],
   "source": []
  }
 ],
 "metadata": {
  "kernelspec": {
   "display_name": "Python 3",
   "language": "python",
   "name": "python3"
  },
  "language_info": {
   "codemirror_mode": {
    "name": "ipython",
    "version": 3
   },
   "file_extension": ".py",
   "mimetype": "text/x-python",
   "name": "python",
   "nbconvert_exporter": "python",
   "pygments_lexer": "ipython3",
   "version": "3.8.10"
  }
 },
 "nbformat": 4,
 "nbformat_minor": 5
}
