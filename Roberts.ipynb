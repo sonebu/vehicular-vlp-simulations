{
 "cells": [
  {
   "cell_type": "code",
   "execution_count": 1,
   "metadata": {},
   "outputs": [],
   "source": [
    "import numpy as np\n",
    "import scipy.signal as signal\n",
    "import matplotlib.pyplot as plt\n",
    "from VLC_init import *\n",
    "import scipy.fftpack\n",
    "import cmath"
   ]
  },
  {
   "cell_type": "code",
   "execution_count": 2,
   "metadata": {},
   "outputs": [
    {
     "data": {
      "text/plain": [
       "'\\n*: coordinate center of cari\\n\\n|--------|                     \\n| car1   |                      \\n|-------*|\\n         |\\n       y |                   |---------|\\n         |                   |  car2   |\\n         |-------------------|*--------|\\n                    d\\n\\n'"
      ]
     },
     "execution_count": 2,
     "metadata": {},
     "output_type": "execute_result"
    }
   ],
   "source": [
    "\"\"\"\n",
    "*: coordinate center of cari\n",
    "\n",
    "|--------|                     \n",
    "| car1   |                      \n",
    "|-------*|\n",
    "         |\n",
    "       y |                   |---------|\n",
    "         |                   |  car2   |\n",
    "         |-------------------|*--------|\n",
    "                    d\n",
    "\n",
    "\"\"\""
   ]
  },
  {
   "cell_type": "code",
   "execution_count": 3,
   "metadata": {},
   "outputs": [],
   "source": [
    "#A_c = 20  # float(input('Enter carrier amplitude: '))\n",
    "#f_c = 500000000000000  # float(input('Enter carrier frquency: '))\n",
    "A_m = 0.9  # float(input('Enter message amplitude: '))\n",
    "f_m1 = 40000000  # 40MHz \n",
    "f_m2 = 25000000 # 25MHz \n",
    "#modulation_index = 1  \n",
    "\n",
    "dt = 1e-8; \n",
    "t = np.arange(0, 1e-3-dt, dt);\n",
    "w1 = 2 * math.pi * f_m1\n",
    "w2 = 2 * math.pi * f_m2\n",
    "noise_standard_deviation = 1e-5\n",
    "\n",
    "vlc_params = VLC_init()\n",
    "\n",
    "delta_delay1 = (vlc_params.delays)[0][0] - (vlc_params.delays)[0][1]\n",
    "delta_delay2 = vlc_params.delays[1][0] - vlc_params.delays[1][1]\n",
    "#carrier = A_c * np.cos(2 * np.pi * f_c * t)\n",
    "#modulator = A_m * np.cos(2 * np.pi * f_m * t)\n",
    "#product = A_c * (1 + modulation_index * np.cos(2 * np.pi * f_m * t)) * np.cos(2 * np.pi * f_c * t)\n",
    "\n",
    "#after going through ADC at receiver\n",
    "s1_w1 = (A_m*np.cos(w1*(t - delta_delay1))+noise_standard_deviation*np.random.randn(1,len(t)))\n",
    "s2_w1 = (A_m*np.cos(w1*(t))+noise_standard_deviation*np.random.randn(1,len(t)))\n",
    "\n",
    "s1_w2 = (A_m*np.cos(w2*(t - delta_delay2))+noise_standard_deviation*np.random.randn(1,len(t)))\n",
    "s2_w2 = (A_m*np.cos(w2*(t))+noise_standard_deviation*np.random.randn(1,len(t)))"
   ]
  },
  {
   "cell_type": "code",
   "execution_count": 4,
   "metadata": {},
   "outputs": [],
   "source": [
    "s1_w1_fft = np.fft.fft(s1_w1)\n",
    "s2_w1_fft = np.fft.fft(s2_w1)\n",
    "s1_w1_fft[0,:len(s1_w1_fft[0])//2] = 0\n",
    "s2_w1_fft[0,:len(s2_w1_fft[0])//2] = 0\n",
    "s1_w1_upperSideband = np.fft.ifft(s1_w1_fft)\n",
    "s2_w1_upperSideband = np.fft.ifft(s2_w1_fft)\n",
    "\n",
    "s1_w2_fft = np.fft.fft(s1_w2)\n",
    "s2_w2_fft = np.fft.fft(s2_w2)\n",
    "s1_w2_fft[0,:len(s1_w2_fft[0])//2] = 0\n",
    "s2_w2_fft[0,:len(s2_w2_fft[0])//2] = 0\n",
    "s1_w2_upperSideband = np.fft.ifft(s1_w2_fft)\n",
    "s2_w2_upperSideband = np.fft.ifft(s2_w2_fft)"
   ]
  },
  {
   "cell_type": "code",
   "execution_count": 5,
   "metadata": {},
   "outputs": [],
   "source": [
    "direct_mix1      = np.multiply(s1_w1_upperSideband, s2_w1_upperSideband.conj());\n",
    "delay1_measured  = np.angle(direct_mix1)/w1;\n",
    "\n",
    "direct_mix2      = np.multiply(s1_w2_upperSideband, s2_w2_upperSideband.conj());\n",
    "delay2_measured  = np.angle(direct_mix2)/w2;"
   ]
  },
  {
   "cell_type": "code",
   "execution_count": 6,
   "metadata": {},
   "outputs": [
    {
     "data": {
      "image/png": "[encoded data removed]",
      "text/plain": [
       "<Figure size 432x288 with 1 Axes>"
      ]
     },
     "metadata": {
      "needs_background": "light"
     },
     "output_type": "display_data"
    },
    {
     "data": {
      "image/png": "[encoded data removed]",
      "text/plain": [
       "<Figure size 432x288 with 1 Axes>"
      ]
     },
     "metadata": {
      "needs_background": "light"
     },
     "output_type": "display_data"
    }
   ],
   "source": [
    "plt.figure()\n",
    "#plt.xlim(20, 90000)\n",
    "#plt.ylim(0.95e-9, 0.955e-9)\n",
    "plt.plot(delay1_measured[0])\n",
    "plt.plot([0, len(delay1_measured[0])-1],[delta_delay1, delta_delay1], color =\"red\")\n",
    "plt.show()\n",
    "\n",
    "plt.figure()\n",
    "plt.plot(delay2_measured[0])\n",
    "plt.plot([0, len(delay2_measured[0])-1],[delta_delay2, delta_delay2], color =\"red\")\n",
    "plt.show()"
   ]
  },
  {
   "cell_type": "code",
   "execution_count": 8,
   "metadata": {},
   "outputs": [
    {
     "name": "stdout",
     "output_type": "stream",
     "text": [
      "9.53817645139062e-10\n",
      "9.537986204393001e-10\n",
      "1.4859569590359915e-09\n",
      "1.4859394809011695e-09\n"
     ]
    }
   ],
   "source": [
    "print(delta_delay1)\n",
    "print(np.mean(delay1_measured))\n",
    "\n",
    "print(delta_delay2)\n",
    "print(np.mean(delay2_measured))"
   ]
  },
  {
   "cell_type": "code",
   "execution_count": 22,
   "metadata": {},
   "outputs": [
    {
     "name": "stdout",
     "output_type": "stream",
     "text": [
      "entered to if\n",
      "-1.9999735362161046\n",
      "-5.000020516481955\n"
     ]
    }
   ],
   "source": [
    "#phase1 = np.mean(np.angle(direct_mix1))\n",
    "#phase2 = np.mean(np.angle(direct_mix1))\n",
    "\n",
    "#calculate distance differences using d(dist) = delay * c\n",
    "v = 3*1e8\n",
    "ddist1 = np.mean(delay1_measured) * v\n",
    "ddist2 = np.mean(delay2_measured) * v\n",
    "\n",
    "Y_A = vlc_params.distancecar\n",
    "D = vlc_params.distancecar\n",
    "\n",
    "if abs(ddist1) > 1e-5 and abs(ddist2) > 1e-5:\n",
    "    print(\"entered to if\")\n",
    "    A = Y_A ** 2 * (1 / (ddist1 ** 2) - 1 / (ddist2 ** 2))\n",
    "    \n",
    "    B1 = (-(Y_A**3) + 2*(Y_A**2)*D + Y_A*(ddist1**2))/(ddist1**2)\n",
    "    B2 = (-(Y_A**3) + Y_A*(ddist2**2))/(ddist2**2)\n",
    "    B = B1 - 2*D - B2\n",
    "    \n",
    "    C1 = ((Y_A**4) + 4*(D**2)*(Y_A**2) + (ddist1**4) - 4*D*(Y_A**3) - 2*(Y_A**2)*(ddist1**2) + 4*D*Y_A*(ddist1**2)) / (4*(ddist1**2))\n",
    "    C2 = ((Y_A**4) + (ddist2**4) - 2*(Y_A**2)*(ddist2**2)) / (4*(ddist2**2))\n",
    "    C = C1 - D**2 - C2\n",
    "    \n",
    "    if ddist1 * ddist2 > 0:\n",
    "        Y_B = (- B - math.sqrt(B**2 - 4*A*C)) / (2*A)\n",
    "    else:\n",
    "        Y_B = (- B + math.sqrt(B**2 - 4*A*C)) / (2*A)\n",
    "    X_A = - math.sqrt(((Y_A**2 - 2*Y_A*Y_B - ddist2**2) / (2*ddist2)) ** 2 - (Y_B**2))\n",
    "elif abs(ddist1) < 1e-5:\n",
    "    print(\"entered to elif\")\n",
    "    Y_B = Y_A / 2 - D\n",
    "    X_A = - math.sqrt(((2*D*Y_A - ddist2**2) / (2-ddist2))**2 - (D - Y_A/2)**2)\n",
    "else:\n",
    "    print(\"entered to else\")\n",
    "    Y_B = Y_A / 2\n",
    "    X_A = - math.sqrt(((2*Y_A*D + ddist1**2) / (2*ddist1))**2 - (D + Y_A/2)**2)\n",
    "print(Y_B)\n",
    "print(X_A)"
   ]
  },
  {
   "cell_type": "code",
   "execution_count": null,
   "metadata": {},
   "outputs": [],
   "source": []
  }
 ],
 "metadata": {
  "kernelspec": {
   "display_name": "Python 3",
   "language": "python",
   "name": "python3"
  },
  "language_info": {
   "codemirror_mode": {
    "name": "ipython",
    "version": 3
   },
   "file_extension": ".py",
   "mimetype": "text/x-python",
   "name": "python",
   "nbconvert_exporter": "python",
   "pygments_lexer": "ipython3",
   "version": "3.8.3"
  }
 },
 "nbformat": 4,
 "nbformat_minor": 2
}
